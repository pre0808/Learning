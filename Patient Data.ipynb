{
  "nbformat": 4,
  "nbformat_minor": 0,
  "metadata": {
    "colab": {
      "name": "Final Assignment_AMMA.ipynb",
      "provenance": [],
      "collapsed_sections": []
    },
    "kernelspec": {
      "name": "python3",
      "display_name": "Python 3"
    }
  },
  "cells": [
    {
      "cell_type": "markdown",
      "metadata": {
        "id": "SAziAmEEjDVj"
      },
      "source": [
        "# Exploratory Data Analysis\tChecking for and treating missing values\n",
        "\tChecking for and treating duplicate values\n",
        "\tChecking for and treating outliers (Data Distribution)\n",
        "\tAssumptions made about variables \n",
        "\tCorrelation Matrix (For Continous Variables)\n",
        "\tTests of Independence (For Ordinal/Categorical Variables)\n",
        "\tHave the categorical/Ordinal variables been correctly encoded (If Necessary)\n",
        "\tDimensionality Reduction/Feature Selection\n",
        "\t\n",
        "\t\n",
        "# Data Modelling\tSelection of model based on data distribution and types of input variables\n",
        "\tSampling and Train Test split\n",
        "\tHyper Parameter tuning to increase model performance\n",
        "\tExplanation of model performance (Based on hyper parameter tuning)\n",
        "\t\n",
        "\t\n",
        "# Confusion Matrix\tPresentation of Confusion matrix\n",
        "\tExplanation of metrics used. (Is accuracy enough? If Yes why? If No then what metric  will you use?\n",
        "\tComparison of the 2 models \n",
        "\t\n",
        "## Final Remarks\tChecking for correctness of assumptions about data and variables\n",
        "\tHow can the model be improved? (Is more data required? Was the data of good quality to begin with?)"
      ]
    },
    {
      "cell_type": "markdown",
      "metadata": {
        "id": "DMATyZZr0pKG"
      },
      "source": [
        "Context of the data\n",
        "The data includes more than 30k entries from the hospital that has both categorical and quantitative features.\n",
        "\n",
        "Content of the data\n",
        "The headers describes  the columns of the data that has 18 different features. "
      ]
    },
    {
      "cell_type": "code",
      "metadata": {
        "id": "SI_IAuWbf6Lv",
        "colab": {
          "base_uri": "https://localhost:8080/",
          "height": 88
        },
        "outputId": "faad0c49-e5bc-4f6c-af14-1d242448ca2f"
      },
      "source": [
        "#importing the relevant libraries\n",
        "import pandas as pd\n",
        "import numpy as np \n",
        "import seaborn as sns\n",
        "import os\n",
        "#changing directories\n",
        "from google.colab import drive\n",
        "drive.mount(\"/content/gdrive\")\n",
        "os.getcwd()\n",
        "os.chdir(\"/content/gdrive/My Drive/Colab Notebooks\")"
      ],
      "execution_count": null,
      "outputs": [
        {
          "output_type": "stream",
          "text": [
            "Drive already mounted at /content/gdrive; to attempt to forcibly remount, call drive.mount(\"/content/gdrive\", force_remount=True).\n"
          ],
          "name": "stdout"
        },
        {
          "output_type": "stream",
          "text": [
            "/usr/local/lib/python3.6/dist-packages/statsmodels/tools/_testing.py:19: FutureWarning: pandas.util.testing is deprecated. Use the functions in the public API at pandas.testing instead.\n",
            "  import pandas.util.testing as tm\n"
          ],
          "name": "stderr"
        }
      ]
    },
    {
      "cell_type": "code",
      "metadata": {
        "id": "zWMxhOoaUxzJ"
      },
      "source": [
        "from pandas.api.types import CategoricalDtype"
      ],
      "execution_count": null,
      "outputs": []
    },
    {
      "cell_type": "markdown",
      "metadata": {
        "id": "pM2bNlMKkYGh"
      },
      "source": [
        "\n",
        "#Exploratory Data Analysis Checking for and treating missing values"
      ]
    },
    {
      "cell_type": "code",
      "metadata": {
        "id": "8m1LCt741u7Z",
        "colab": {
          "base_uri": "https://localhost:8080/",
          "height": 360
        },
        "outputId": "b51179fe-6682-4924-ebc6-052a9465f39a"
      },
      "source": [
        "#Reading the data set\n",
        "main_data = pd.read_csv('/content/gdrive/My Drive/amma DATA FILES/healthcare_analytics_dataset.csv')\n",
        "#viewing the data\n",
        "main_data.head()"
      ],
      "execution_count": null,
      "outputs": [
        {
          "output_type": "execute_result",
          "data": {
            "text/html": [
              "<div>\n",
              "<style scoped>\n",
              "    .dataframe tbody tr th:only-of-type {\n",
              "        vertical-align: middle;\n",
              "    }\n",
              "\n",
              "    .dataframe tbody tr th {\n",
              "        vertical-align: top;\n",
              "    }\n",
              "\n",
              "    .dataframe thead th {\n",
              "        text-align: right;\n",
              "    }\n",
              "</style>\n",
              "<table border=\"1\" class=\"dataframe\">\n",
              "  <thead>\n",
              "    <tr style=\"text-align: right;\">\n",
              "      <th></th>\n",
              "      <th>case_id</th>\n",
              "      <th>Hospital_code</th>\n",
              "      <th>Hospital_type_code</th>\n",
              "      <th>City_Code_Hospital</th>\n",
              "      <th>Hospital_region_code</th>\n",
              "      <th>Available Extra Rooms in Hospital</th>\n",
              "      <th>Department</th>\n",
              "      <th>Ward_Type</th>\n",
              "      <th>Ward_Facility_Code</th>\n",
              "      <th>Bed Grade</th>\n",
              "      <th>patientid</th>\n",
              "      <th>City_Code_Patient</th>\n",
              "      <th>Type of Admission</th>\n",
              "      <th>Severity of Illness</th>\n",
              "      <th>Visitors with Patient</th>\n",
              "      <th>Age</th>\n",
              "      <th>Admission_Deposit</th>\n",
              "      <th>Stay</th>\n",
              "    </tr>\n",
              "  </thead>\n",
              "  <tbody>\n",
              "    <tr>\n",
              "      <th>0</th>\n",
              "      <td>1</td>\n",
              "      <td>8</td>\n",
              "      <td>c</td>\n",
              "      <td>3</td>\n",
              "      <td>Z</td>\n",
              "      <td>3</td>\n",
              "      <td>radiotherapy</td>\n",
              "      <td>R</td>\n",
              "      <td>F</td>\n",
              "      <td>2.0</td>\n",
              "      <td>31397</td>\n",
              "      <td>7.0</td>\n",
              "      <td>Emergency</td>\n",
              "      <td>Extreme</td>\n",
              "      <td>2</td>\n",
              "      <td>51-60</td>\n",
              "      <td>4911.0</td>\n",
              "      <td>0-10</td>\n",
              "    </tr>\n",
              "    <tr>\n",
              "      <th>1</th>\n",
              "      <td>2</td>\n",
              "      <td>2</td>\n",
              "      <td>c</td>\n",
              "      <td>5</td>\n",
              "      <td>Z</td>\n",
              "      <td>2</td>\n",
              "      <td>radiotherapy</td>\n",
              "      <td>S</td>\n",
              "      <td>F</td>\n",
              "      <td>2.0</td>\n",
              "      <td>31397</td>\n",
              "      <td>7.0</td>\n",
              "      <td>Trauma</td>\n",
              "      <td>Extreme</td>\n",
              "      <td>2</td>\n",
              "      <td>51-60</td>\n",
              "      <td>5954.0</td>\n",
              "      <td>41-50</td>\n",
              "    </tr>\n",
              "    <tr>\n",
              "      <th>2</th>\n",
              "      <td>3</td>\n",
              "      <td>10</td>\n",
              "      <td>e</td>\n",
              "      <td>1</td>\n",
              "      <td>X</td>\n",
              "      <td>2</td>\n",
              "      <td>anesthesia</td>\n",
              "      <td>S</td>\n",
              "      <td>E</td>\n",
              "      <td>2.0</td>\n",
              "      <td>31397</td>\n",
              "      <td>7.0</td>\n",
              "      <td>Trauma</td>\n",
              "      <td>Extreme</td>\n",
              "      <td>2</td>\n",
              "      <td>51-60</td>\n",
              "      <td>4745.0</td>\n",
              "      <td>31-40</td>\n",
              "    </tr>\n",
              "    <tr>\n",
              "      <th>3</th>\n",
              "      <td>4</td>\n",
              "      <td>26</td>\n",
              "      <td>b</td>\n",
              "      <td>2</td>\n",
              "      <td>Y</td>\n",
              "      <td>2</td>\n",
              "      <td>radiotherapy</td>\n",
              "      <td>R</td>\n",
              "      <td>D</td>\n",
              "      <td>2.0</td>\n",
              "      <td>31397</td>\n",
              "      <td>7.0</td>\n",
              "      <td>Trauma</td>\n",
              "      <td>Extreme</td>\n",
              "      <td>2</td>\n",
              "      <td>51-60</td>\n",
              "      <td>7272.0</td>\n",
              "      <td>41-50</td>\n",
              "    </tr>\n",
              "    <tr>\n",
              "      <th>4</th>\n",
              "      <td>5</td>\n",
              "      <td>26</td>\n",
              "      <td>b</td>\n",
              "      <td>2</td>\n",
              "      <td>Y</td>\n",
              "      <td>2</td>\n",
              "      <td>radiotherapy</td>\n",
              "      <td>S</td>\n",
              "      <td>D</td>\n",
              "      <td>2.0</td>\n",
              "      <td>31397</td>\n",
              "      <td>7.0</td>\n",
              "      <td>Trauma</td>\n",
              "      <td>Extreme</td>\n",
              "      <td>2</td>\n",
              "      <td>51-60</td>\n",
              "      <td>5558.0</td>\n",
              "      <td>41-50</td>\n",
              "    </tr>\n",
              "  </tbody>\n",
              "</table>\n",
              "</div>"
            ],
            "text/plain": [
              "   case_id  Hospital_code Hospital_type_code  ...    Age Admission_Deposit   Stay\n",
              "0        1              8                  c  ...  51-60            4911.0   0-10\n",
              "1        2              2                  c  ...  51-60            5954.0  41-50\n",
              "2        3             10                  e  ...  51-60            4745.0  31-40\n",
              "3        4             26                  b  ...  51-60            7272.0  41-50\n",
              "4        5             26                  b  ...  51-60            5558.0  41-50\n",
              "\n",
              "[5 rows x 18 columns]"
            ]
          },
          "metadata": {
            "tags": []
          },
          "execution_count": 3
        }
      ]
    },
    {
      "cell_type": "code",
      "metadata": {
        "id": "LnsXPrNz_Om6",
        "colab": {
          "base_uri": "https://localhost:8080/",
          "height": 34
        },
        "outputId": "215a30fc-7a0c-4163-f4b6-670dfb004e6d"
      },
      "source": [
        "from google.colab import drive\n",
        "drive.mount('/content/drive')"
      ],
      "execution_count": null,
      "outputs": [
        {
          "output_type": "stream",
          "text": [
            "Mounted at /content/drive\n"
          ],
          "name": "stdout"
        }
      ]
    },
    {
      "cell_type": "markdown",
      "metadata": {
        "id": "RouHo5L6FMEK"
      },
      "source": [
        "drop - case id, patient id? ,\n",
        "\n",
        "encoding - Hospital_type_code, Hospital_region_code, Department,\tWard_Type,\tWard_Facility_Code, Type of Admission, Severity of Illness, Age, Stay\n",
        "\n",
        "change data type float to int - Bed Grade , City_Code_Patient , Admission_Deposit\n",
        "\n"
      ]
    },
    {
      "cell_type": "code",
      "metadata": {
        "id": "zfBKa9Y93RSg",
        "colab": {
          "base_uri": "https://localhost:8080/",
          "height": 340
        },
        "outputId": "07e08765-9955-4138-a9d8-5d9ea5e2028b"
      },
      "source": [
        "#understanding the datatypes of the dataset\n",
        "main_data.dtypes"
      ],
      "execution_count": null,
      "outputs": [
        {
          "output_type": "execute_result",
          "data": {
            "text/plain": [
              "case_id                                int64\n",
              "Hospital_code                          int64\n",
              "Hospital_type_code                    object\n",
              "City_Code_Hospital                     int64\n",
              "Hospital_region_code                  object\n",
              "Available Extra Rooms in Hospital      int64\n",
              "Department                            object\n",
              "Ward_Type                             object\n",
              "Ward_Facility_Code                    object\n",
              "Bed Grade                            float64\n",
              "patientid                              int64\n",
              "City_Code_Patient                    float64\n",
              "Type of Admission                     object\n",
              "Severity of Illness                   object\n",
              "Visitors with Patient                  int64\n",
              "Age                                   object\n",
              "Admission_Deposit                    float64\n",
              "Stay                                  object\n",
              "dtype: object"
            ]
          },
          "metadata": {
            "tags": []
          },
          "execution_count": 5
        }
      ]
    },
    {
      "cell_type": "code",
      "metadata": {
        "id": "Py_w2F-u4FZg",
        "colab": {
          "base_uri": "https://localhost:8080/",
          "height": 136
        },
        "outputId": "8e117f68-8c6e-4c76-a520-fe6dcc30088f"
      },
      "source": [
        "#converting the data columns to proper data types\n",
        "main_data.columns"
      ],
      "execution_count": null,
      "outputs": [
        {
          "output_type": "execute_result",
          "data": {
            "text/plain": [
              "Index(['case_id', 'Hospital_code', 'Hospital_type_code', 'City_Code_Hospital',\n",
              "       'Hospital_region_code', 'Available Extra Rooms in Hospital',\n",
              "       'Department', 'Ward_Type', 'Ward_Facility_Code', 'Bed Grade',\n",
              "       'patientid', 'City_Code_Patient', 'Type of Admission',\n",
              "       'Severity of Illness', 'Visitors with Patient', 'Age',\n",
              "       'Admission_Deposit', 'Stay'],\n",
              "      dtype='object')"
            ]
          },
          "metadata": {
            "tags": []
          },
          "execution_count": 6
        }
      ]
    },
    {
      "cell_type": "code",
      "metadata": {
        "id": "xXZXc0orpm-l"
      },
      "source": [
        "#Drop 'case_id'\n",
        "\n",
        "main_data.drop(['case_id'],axis=1, inplace=True) #0 row axis, 1 col axis, inplace will save it in maindata"
      ],
      "execution_count": null,
      "outputs": []
    },
    {
      "cell_type": "code",
      "metadata": {
        "id": "wTHj1UKgLpBd",
        "colab": {
          "base_uri": "https://localhost:8080/",
          "height": 272
        },
        "outputId": "ef1886c5-6abb-453d-a571-a75356ad3999"
      },
      "source": [
        "#Checking for duplicate values \n",
        "\n",
        "duplicateRowsDF = main_data[main_data.duplicated()]\n",
        "print(\"Duplicate Rows except first occurrence based on all columns are :\")\n",
        "print(duplicateRowsDF)"
      ],
      "execution_count": null,
      "outputs": [
        {
          "output_type": "stream",
          "text": [
            "Duplicate Rows except first occurrence based on all columns are :\n",
            "        Hospital_code Hospital_type_code  ...  Admission_Deposit                Stay\n",
            "1179               28                  b  ...             4944.0               31-40\n",
            "2356               13                  a  ...             4025.0               71-80\n",
            "2358               23                  a  ...             3538.0               51-60\n",
            "15738              23                  a  ...             4469.0  More than 100 Days\n",
            "15739              23                  a  ...             4469.0  More than 100 Days\n",
            "...               ...                ...  ...                ...                 ...\n",
            "289691             28                  b  ...             4502.0                0-10\n",
            "295923              4                  a  ...             4151.0               21-30\n",
            "298233             23                  a  ...             4181.0  More than 100 Days\n",
            "298234             23                  a  ...             4181.0  More than 100 Days\n",
            "304087             22                  g  ...             5317.0               21-30\n",
            "\n",
            "[65 rows x 17 columns]\n"
          ],
          "name": "stdout"
        }
      ]
    },
    {
      "cell_type": "code",
      "metadata": {
        "id": "EKbKT9q0U7Wo",
        "colab": {
          "base_uri": "https://localhost:8080/",
          "height": 34
        },
        "outputId": "62ce3e92-5da1-4834-8a04-3f3e0411f593"
      },
      "source": [
        "main_data.shape"
      ],
      "execution_count": null,
      "outputs": [
        {
          "output_type": "execute_result",
          "data": {
            "text/plain": [
              "(318438, 17)"
            ]
          },
          "metadata": {
            "tags": []
          },
          "execution_count": 13
        }
      ]
    },
    {
      "cell_type": "code",
      "metadata": {
        "id": "E6_Jt44NL7qD"
      },
      "source": [
        "#Dropping duplicate rows from the main_data DataFrame\n",
        "\n",
        "main_data.drop_duplicates(keep = False, inplace = True) "
      ],
      "execution_count": null,
      "outputs": []
    },
    {
      "cell_type": "code",
      "metadata": {
        "id": "0gwmtRXvVCBb",
        "colab": {
          "base_uri": "https://localhost:8080/",
          "height": 34
        },
        "outputId": "43beb65d-747c-4498-b2e2-eaa6972cd18b"
      },
      "source": [
        "main_data.shape"
      ],
      "execution_count": null,
      "outputs": [
        {
          "output_type": "execute_result",
          "data": {
            "text/plain": [
              "(318314, 17)"
            ]
          },
          "metadata": {
            "tags": []
          },
          "execution_count": 16
        }
      ]
    },
    {
      "cell_type": "code",
      "metadata": {
        "id": "h6EJ7vR5PVLr",
        "colab": {
          "base_uri": "https://localhost:8080/",
          "height": 360
        },
        "outputId": "e82c20f7-2171-4de1-f8b3-448700dccf02"
      },
      "source": [
        "main_data.head()"
      ],
      "execution_count": null,
      "outputs": [
        {
          "output_type": "execute_result",
          "data": {
            "text/html": [
              "<div>\n",
              "<style scoped>\n",
              "    .dataframe tbody tr th:only-of-type {\n",
              "        vertical-align: middle;\n",
              "    }\n",
              "\n",
              "    .dataframe tbody tr th {\n",
              "        vertical-align: top;\n",
              "    }\n",
              "\n",
              "    .dataframe thead th {\n",
              "        text-align: right;\n",
              "    }\n",
              "</style>\n",
              "<table border=\"1\" class=\"dataframe\">\n",
              "  <thead>\n",
              "    <tr style=\"text-align: right;\">\n",
              "      <th></th>\n",
              "      <th>Hospital_code</th>\n",
              "      <th>Hospital_type_code</th>\n",
              "      <th>City_Code_Hospital</th>\n",
              "      <th>Hospital_region_code</th>\n",
              "      <th>Available Extra Rooms in Hospital</th>\n",
              "      <th>Department</th>\n",
              "      <th>Ward_Type</th>\n",
              "      <th>Ward_Facility_Code</th>\n",
              "      <th>Bed Grade</th>\n",
              "      <th>patientid</th>\n",
              "      <th>City_Code_Patient</th>\n",
              "      <th>Type of Admission</th>\n",
              "      <th>Severity of Illness</th>\n",
              "      <th>Visitors with Patient</th>\n",
              "      <th>Age</th>\n",
              "      <th>Admission_Deposit</th>\n",
              "      <th>Stay</th>\n",
              "    </tr>\n",
              "  </thead>\n",
              "  <tbody>\n",
              "    <tr>\n",
              "      <th>0</th>\n",
              "      <td>8</td>\n",
              "      <td>c</td>\n",
              "      <td>3</td>\n",
              "      <td>Z</td>\n",
              "      <td>3</td>\n",
              "      <td>radiotherapy</td>\n",
              "      <td>R</td>\n",
              "      <td>F</td>\n",
              "      <td>2.0</td>\n",
              "      <td>31397</td>\n",
              "      <td>7.0</td>\n",
              "      <td>Emergency</td>\n",
              "      <td>Extreme</td>\n",
              "      <td>2</td>\n",
              "      <td>51-60</td>\n",
              "      <td>4911.0</td>\n",
              "      <td>0-10</td>\n",
              "    </tr>\n",
              "    <tr>\n",
              "      <th>1</th>\n",
              "      <td>2</td>\n",
              "      <td>c</td>\n",
              "      <td>5</td>\n",
              "      <td>Z</td>\n",
              "      <td>2</td>\n",
              "      <td>radiotherapy</td>\n",
              "      <td>S</td>\n",
              "      <td>F</td>\n",
              "      <td>2.0</td>\n",
              "      <td>31397</td>\n",
              "      <td>7.0</td>\n",
              "      <td>Trauma</td>\n",
              "      <td>Extreme</td>\n",
              "      <td>2</td>\n",
              "      <td>51-60</td>\n",
              "      <td>5954.0</td>\n",
              "      <td>41-50</td>\n",
              "    </tr>\n",
              "    <tr>\n",
              "      <th>2</th>\n",
              "      <td>10</td>\n",
              "      <td>e</td>\n",
              "      <td>1</td>\n",
              "      <td>X</td>\n",
              "      <td>2</td>\n",
              "      <td>anesthesia</td>\n",
              "      <td>S</td>\n",
              "      <td>E</td>\n",
              "      <td>2.0</td>\n",
              "      <td>31397</td>\n",
              "      <td>7.0</td>\n",
              "      <td>Trauma</td>\n",
              "      <td>Extreme</td>\n",
              "      <td>2</td>\n",
              "      <td>51-60</td>\n",
              "      <td>4745.0</td>\n",
              "      <td>31-40</td>\n",
              "    </tr>\n",
              "    <tr>\n",
              "      <th>3</th>\n",
              "      <td>26</td>\n",
              "      <td>b</td>\n",
              "      <td>2</td>\n",
              "      <td>Y</td>\n",
              "      <td>2</td>\n",
              "      <td>radiotherapy</td>\n",
              "      <td>R</td>\n",
              "      <td>D</td>\n",
              "      <td>2.0</td>\n",
              "      <td>31397</td>\n",
              "      <td>7.0</td>\n",
              "      <td>Trauma</td>\n",
              "      <td>Extreme</td>\n",
              "      <td>2</td>\n",
              "      <td>51-60</td>\n",
              "      <td>7272.0</td>\n",
              "      <td>41-50</td>\n",
              "    </tr>\n",
              "    <tr>\n",
              "      <th>4</th>\n",
              "      <td>26</td>\n",
              "      <td>b</td>\n",
              "      <td>2</td>\n",
              "      <td>Y</td>\n",
              "      <td>2</td>\n",
              "      <td>radiotherapy</td>\n",
              "      <td>S</td>\n",
              "      <td>D</td>\n",
              "      <td>2.0</td>\n",
              "      <td>31397</td>\n",
              "      <td>7.0</td>\n",
              "      <td>Trauma</td>\n",
              "      <td>Extreme</td>\n",
              "      <td>2</td>\n",
              "      <td>51-60</td>\n",
              "      <td>5558.0</td>\n",
              "      <td>41-50</td>\n",
              "    </tr>\n",
              "  </tbody>\n",
              "</table>\n",
              "</div>"
            ],
            "text/plain": [
              "   Hospital_code Hospital_type_code  ...  Admission_Deposit   Stay\n",
              "0              8                  c  ...             4911.0   0-10\n",
              "1              2                  c  ...             5954.0  41-50\n",
              "2             10                  e  ...             4745.0  31-40\n",
              "3             26                  b  ...             7272.0  41-50\n",
              "4             26                  b  ...             5558.0  41-50\n",
              "\n",
              "[5 rows x 17 columns]"
            ]
          },
          "metadata": {
            "tags": []
          },
          "execution_count": 17
        }
      ]
    },
    {
      "cell_type": "markdown",
      "metadata": {
        "id": "64oIVJ6hSbMx"
      },
      "source": [
        "# Label Encoding"
      ]
    },
    {
      "cell_type": "markdown",
      "metadata": {
        "id": "1iOD-qKjYDPZ"
      },
      "source": [
        "Changing the data types of the variables based on the whether they are categorical or numerical in nature."
      ]
    },
    {
      "cell_type": "code",
      "metadata": {
        "id": "vs3GTZNuSbMz"
      },
      "source": [
        "#Categorical Variables - Unordered\n",
        "cat1=['Hospital_type_code', 'Hospital_region_code', 'Department','Ward_Type', 'Ward_Facility_Code','City_Code_Hospital','Bed Grade','City_Code_Patient','Hospital_code']\n",
        "#Categorical Variables - Ordered\n",
        "cat2=['Type of Admission', 'Severity of Illness', 'Age','Stay']"
      ],
      "execution_count": null,
      "outputs": []
    },
    {
      "cell_type": "code",
      "metadata": {
        "id": "ZvQI_xwMSbM4"
      },
      "source": [
        "#Change datatypes\n",
        "for i in cat1:\n",
        "    main_data[i]=main_data[i].astype('category')\n",
        "\n",
        "for j in cat2:\n",
        "    cat_type = CategoricalDtype(main_data[main_data[j].notna()][j].unique(), ordered=True)\n",
        "    main_data[j]=main_data[j].astype(cat_type)"
      ],
      "execution_count": null,
      "outputs": []
    },
    {
      "cell_type": "code",
      "metadata": {
        "id": "uy9E88yjSbM8",
        "colab": {
          "base_uri": "https://localhost:8080/",
          "height": 323
        },
        "outputId": "4f50d1b5-b73c-4c49-9730-86c6cf60415a"
      },
      "source": [
        "main_data.dtypes"
      ],
      "execution_count": null,
      "outputs": [
        {
          "output_type": "execute_result",
          "data": {
            "text/plain": [
              "Hospital_code                        category\n",
              "Hospital_type_code                   category\n",
              "City_Code_Hospital                   category\n",
              "Hospital_region_code                 category\n",
              "Available Extra Rooms in Hospital       int64\n",
              "Department                           category\n",
              "Ward_Type                            category\n",
              "Ward_Facility_Code                   category\n",
              "Bed Grade                            category\n",
              "patientid                               int64\n",
              "City_Code_Patient                    category\n",
              "Type of Admission                    category\n",
              "Severity of Illness                  category\n",
              "Visitors with Patient                   int64\n",
              "Age                                  category\n",
              "Admission_Deposit                     float64\n",
              "Stay                                 category\n",
              "dtype: object"
            ]
          },
          "metadata": {
            "tags": []
          },
          "execution_count": 91
        }
      ]
    },
    {
      "cell_type": "markdown",
      "metadata": {
        "id": "ku-YU12DuEds"
      },
      "source": [
        "Splitting data into categorical and numerical datatypes for further analysis"
      ]
    },
    {
      "cell_type": "code",
      "metadata": {
        "id": "5OJXsfrtSbNA"
      },
      "source": [
        "df_cat=main_data.select_dtypes('category')"
      ],
      "execution_count": null,
      "outputs": []
    },
    {
      "cell_type": "code",
      "metadata": {
        "id": "OqsJIQi-vGqm",
        "colab": {
          "base_uri": "https://localhost:8080/",
          "height": 343
        },
        "outputId": "7c7551a1-a2cd-4ecb-de26-c910e56d299b"
      },
      "source": [
        "df_cat.head()"
      ],
      "execution_count": null,
      "outputs": [
        {
          "output_type": "execute_result",
          "data": {
            "text/html": [
              "<div>\n",
              "<style scoped>\n",
              "    .dataframe tbody tr th:only-of-type {\n",
              "        vertical-align: middle;\n",
              "    }\n",
              "\n",
              "    .dataframe tbody tr th {\n",
              "        vertical-align: top;\n",
              "    }\n",
              "\n",
              "    .dataframe thead th {\n",
              "        text-align: right;\n",
              "    }\n",
              "</style>\n",
              "<table border=\"1\" class=\"dataframe\">\n",
              "  <thead>\n",
              "    <tr style=\"text-align: right;\">\n",
              "      <th></th>\n",
              "      <th>Hospital_code</th>\n",
              "      <th>Hospital_type_code</th>\n",
              "      <th>City_Code_Hospital</th>\n",
              "      <th>Hospital_region_code</th>\n",
              "      <th>Department</th>\n",
              "      <th>Ward_Type</th>\n",
              "      <th>Ward_Facility_Code</th>\n",
              "      <th>Bed Grade</th>\n",
              "      <th>City_Code_Patient</th>\n",
              "      <th>Type of Admission</th>\n",
              "      <th>Severity of Illness</th>\n",
              "      <th>Age</th>\n",
              "      <th>Stay</th>\n",
              "    </tr>\n",
              "  </thead>\n",
              "  <tbody>\n",
              "    <tr>\n",
              "      <th>0</th>\n",
              "      <td>8</td>\n",
              "      <td>c</td>\n",
              "      <td>3</td>\n",
              "      <td>Z</td>\n",
              "      <td>radiotherapy</td>\n",
              "      <td>R</td>\n",
              "      <td>F</td>\n",
              "      <td>2.0</td>\n",
              "      <td>7.0</td>\n",
              "      <td>Emergency</td>\n",
              "      <td>Extreme</td>\n",
              "      <td>51-60</td>\n",
              "      <td>0-10</td>\n",
              "    </tr>\n",
              "    <tr>\n",
              "      <th>1</th>\n",
              "      <td>2</td>\n",
              "      <td>c</td>\n",
              "      <td>5</td>\n",
              "      <td>Z</td>\n",
              "      <td>radiotherapy</td>\n",
              "      <td>S</td>\n",
              "      <td>F</td>\n",
              "      <td>2.0</td>\n",
              "      <td>7.0</td>\n",
              "      <td>Trauma</td>\n",
              "      <td>Extreme</td>\n",
              "      <td>51-60</td>\n",
              "      <td>41-50</td>\n",
              "    </tr>\n",
              "    <tr>\n",
              "      <th>2</th>\n",
              "      <td>10</td>\n",
              "      <td>e</td>\n",
              "      <td>1</td>\n",
              "      <td>X</td>\n",
              "      <td>anesthesia</td>\n",
              "      <td>S</td>\n",
              "      <td>E</td>\n",
              "      <td>2.0</td>\n",
              "      <td>7.0</td>\n",
              "      <td>Trauma</td>\n",
              "      <td>Extreme</td>\n",
              "      <td>51-60</td>\n",
              "      <td>31-40</td>\n",
              "    </tr>\n",
              "    <tr>\n",
              "      <th>3</th>\n",
              "      <td>26</td>\n",
              "      <td>b</td>\n",
              "      <td>2</td>\n",
              "      <td>Y</td>\n",
              "      <td>radiotherapy</td>\n",
              "      <td>R</td>\n",
              "      <td>D</td>\n",
              "      <td>2.0</td>\n",
              "      <td>7.0</td>\n",
              "      <td>Trauma</td>\n",
              "      <td>Extreme</td>\n",
              "      <td>51-60</td>\n",
              "      <td>41-50</td>\n",
              "    </tr>\n",
              "    <tr>\n",
              "      <th>4</th>\n",
              "      <td>26</td>\n",
              "      <td>b</td>\n",
              "      <td>2</td>\n",
              "      <td>Y</td>\n",
              "      <td>radiotherapy</td>\n",
              "      <td>S</td>\n",
              "      <td>D</td>\n",
              "      <td>2.0</td>\n",
              "      <td>7.0</td>\n",
              "      <td>Trauma</td>\n",
              "      <td>Extreme</td>\n",
              "      <td>51-60</td>\n",
              "      <td>41-50</td>\n",
              "    </tr>\n",
              "  </tbody>\n",
              "</table>\n",
              "</div>"
            ],
            "text/plain": [
              "  Hospital_code Hospital_type_code  ...    Age   Stay\n",
              "0             8                  c  ...  51-60   0-10\n",
              "1             2                  c  ...  51-60  41-50\n",
              "2            10                  e  ...  51-60  31-40\n",
              "3            26                  b  ...  51-60  41-50\n",
              "4            26                  b  ...  51-60  41-50\n",
              "\n",
              "[5 rows x 13 columns]"
            ]
          },
          "metadata": {
            "tags": []
          },
          "execution_count": 93
        }
      ]
    },
    {
      "cell_type": "code",
      "metadata": {
        "id": "tMGZB1CFSbNF"
      },
      "source": [
        "df_num=main_data.select_dtypes(include=['int64','float64'])"
      ],
      "execution_count": null,
      "outputs": []
    },
    {
      "cell_type": "code",
      "metadata": {
        "id": "fbCaaUXnSbNK",
        "colab": {
          "base_uri": "https://localhost:8080/",
          "height": 204
        },
        "outputId": "e9b57cef-4b9e-4ce2-bfa3-886c7d864c1e"
      },
      "source": [
        "df_num.head()"
      ],
      "execution_count": null,
      "outputs": [
        {
          "output_type": "execute_result",
          "data": {
            "text/html": [
              "<div>\n",
              "<style scoped>\n",
              "    .dataframe tbody tr th:only-of-type {\n",
              "        vertical-align: middle;\n",
              "    }\n",
              "\n",
              "    .dataframe tbody tr th {\n",
              "        vertical-align: top;\n",
              "    }\n",
              "\n",
              "    .dataframe thead th {\n",
              "        text-align: right;\n",
              "    }\n",
              "</style>\n",
              "<table border=\"1\" class=\"dataframe\">\n",
              "  <thead>\n",
              "    <tr style=\"text-align: right;\">\n",
              "      <th></th>\n",
              "      <th>Available Extra Rooms in Hospital</th>\n",
              "      <th>patientid</th>\n",
              "      <th>Visitors with Patient</th>\n",
              "      <th>Admission_Deposit</th>\n",
              "    </tr>\n",
              "  </thead>\n",
              "  <tbody>\n",
              "    <tr>\n",
              "      <th>0</th>\n",
              "      <td>3</td>\n",
              "      <td>31397</td>\n",
              "      <td>2</td>\n",
              "      <td>4911.0</td>\n",
              "    </tr>\n",
              "    <tr>\n",
              "      <th>1</th>\n",
              "      <td>2</td>\n",
              "      <td>31397</td>\n",
              "      <td>2</td>\n",
              "      <td>5954.0</td>\n",
              "    </tr>\n",
              "    <tr>\n",
              "      <th>2</th>\n",
              "      <td>2</td>\n",
              "      <td>31397</td>\n",
              "      <td>2</td>\n",
              "      <td>4745.0</td>\n",
              "    </tr>\n",
              "    <tr>\n",
              "      <th>3</th>\n",
              "      <td>2</td>\n",
              "      <td>31397</td>\n",
              "      <td>2</td>\n",
              "      <td>7272.0</td>\n",
              "    </tr>\n",
              "    <tr>\n",
              "      <th>4</th>\n",
              "      <td>2</td>\n",
              "      <td>31397</td>\n",
              "      <td>2</td>\n",
              "      <td>5558.0</td>\n",
              "    </tr>\n",
              "  </tbody>\n",
              "</table>\n",
              "</div>"
            ],
            "text/plain": [
              "   Available Extra Rooms in Hospital  ...  Admission_Deposit\n",
              "0                                  3  ...             4911.0\n",
              "1                                  2  ...             5954.0\n",
              "2                                  2  ...             4745.0\n",
              "3                                  2  ...             7272.0\n",
              "4                                  2  ...             5558.0\n",
              "\n",
              "[5 rows x 4 columns]"
            ]
          },
          "metadata": {
            "tags": []
          },
          "execution_count": 95
        }
      ]
    },
    {
      "cell_type": "markdown",
      "metadata": {
        "id": "Q_9VgAGuuThc"
      },
      "source": [
        "Mask to encode categorical data, if missing value it is created as a seperate category, to avoid this we use mask."
      ]
    },
    {
      "cell_type": "code",
      "metadata": {
        "id": "9nMi55HQSbNR"
      },
      "source": [
        "#Create mask for categorical data\n",
        "mask=df_cat.isnull()"
      ],
      "execution_count": null,
      "outputs": []
    },
    {
      "cell_type": "code",
      "metadata": {
        "id": "VGW7paW0SbNV",
        "colab": {
          "base_uri": "https://localhost:8080/",
          "height": 34
        },
        "outputId": "d5b3f041-6d48-4277-f098-8905c9f85a11"
      },
      "source": [
        "df_cat.shape"
      ],
      "execution_count": null,
      "outputs": [
        {
          "output_type": "execute_result",
          "data": {
            "text/plain": [
              "(318314, 13)"
            ]
          },
          "metadata": {
            "tags": []
          },
          "execution_count": 97
        }
      ]
    },
    {
      "cell_type": "code",
      "metadata": {
        "id": "MYbzJ-hzSbNa",
        "colab": {
          "base_uri": "https://localhost:8080/",
          "height": 34
        },
        "outputId": "e98add57-00bf-450c-ccf7-9dc59206035a"
      },
      "source": [
        "mask.shape"
      ],
      "execution_count": null,
      "outputs": [
        {
          "output_type": "execute_result",
          "data": {
            "text/plain": [
              "(318314, 13)"
            ]
          },
          "metadata": {
            "tags": []
          },
          "execution_count": 98
        }
      ]
    },
    {
      "cell_type": "markdown",
      "metadata": {
        "id": "NU8HeC-iuh9D"
      },
      "source": [
        "\n",
        "False - actual value present\n",
        "True - Missing value"
      ]
    },
    {
      "cell_type": "code",
      "metadata": {
        "id": "09Hm19N2SbNf",
        "colab": {
          "base_uri": "https://localhost:8080/",
          "height": 473
        },
        "outputId": "3b2a9409-4c3d-49b7-aebd-210ddc890970"
      },
      "source": [
        "mask"
      ],
      "execution_count": null,
      "outputs": [
        {
          "output_type": "execute_result",
          "data": {
            "text/html": [
              "<div>\n",
              "<style scoped>\n",
              "    .dataframe tbody tr th:only-of-type {\n",
              "        vertical-align: middle;\n",
              "    }\n",
              "\n",
              "    .dataframe tbody tr th {\n",
              "        vertical-align: top;\n",
              "    }\n",
              "\n",
              "    .dataframe thead th {\n",
              "        text-align: right;\n",
              "    }\n",
              "</style>\n",
              "<table border=\"1\" class=\"dataframe\">\n",
              "  <thead>\n",
              "    <tr style=\"text-align: right;\">\n",
              "      <th></th>\n",
              "      <th>Hospital_code</th>\n",
              "      <th>Hospital_type_code</th>\n",
              "      <th>City_Code_Hospital</th>\n",
              "      <th>Hospital_region_code</th>\n",
              "      <th>Department</th>\n",
              "      <th>Ward_Type</th>\n",
              "      <th>Ward_Facility_Code</th>\n",
              "      <th>Bed Grade</th>\n",
              "      <th>City_Code_Patient</th>\n",
              "      <th>Type of Admission</th>\n",
              "      <th>Severity of Illness</th>\n",
              "      <th>Age</th>\n",
              "      <th>Stay</th>\n",
              "    </tr>\n",
              "  </thead>\n",
              "  <tbody>\n",
              "    <tr>\n",
              "      <th>0</th>\n",
              "      <td>False</td>\n",
              "      <td>False</td>\n",
              "      <td>False</td>\n",
              "      <td>False</td>\n",
              "      <td>False</td>\n",
              "      <td>False</td>\n",
              "      <td>False</td>\n",
              "      <td>False</td>\n",
              "      <td>False</td>\n",
              "      <td>False</td>\n",
              "      <td>False</td>\n",
              "      <td>False</td>\n",
              "      <td>False</td>\n",
              "    </tr>\n",
              "    <tr>\n",
              "      <th>1</th>\n",
              "      <td>False</td>\n",
              "      <td>False</td>\n",
              "      <td>False</td>\n",
              "      <td>False</td>\n",
              "      <td>False</td>\n",
              "      <td>False</td>\n",
              "      <td>False</td>\n",
              "      <td>False</td>\n",
              "      <td>False</td>\n",
              "      <td>False</td>\n",
              "      <td>False</td>\n",
              "      <td>False</td>\n",
              "      <td>False</td>\n",
              "    </tr>\n",
              "    <tr>\n",
              "      <th>2</th>\n",
              "      <td>False</td>\n",
              "      <td>False</td>\n",
              "      <td>False</td>\n",
              "      <td>False</td>\n",
              "      <td>False</td>\n",
              "      <td>False</td>\n",
              "      <td>False</td>\n",
              "      <td>False</td>\n",
              "      <td>False</td>\n",
              "      <td>False</td>\n",
              "      <td>False</td>\n",
              "      <td>False</td>\n",
              "      <td>False</td>\n",
              "    </tr>\n",
              "    <tr>\n",
              "      <th>3</th>\n",
              "      <td>False</td>\n",
              "      <td>False</td>\n",
              "      <td>False</td>\n",
              "      <td>False</td>\n",
              "      <td>False</td>\n",
              "      <td>False</td>\n",
              "      <td>False</td>\n",
              "      <td>False</td>\n",
              "      <td>False</td>\n",
              "      <td>False</td>\n",
              "      <td>False</td>\n",
              "      <td>False</td>\n",
              "      <td>False</td>\n",
              "    </tr>\n",
              "    <tr>\n",
              "      <th>4</th>\n",
              "      <td>False</td>\n",
              "      <td>False</td>\n",
              "      <td>False</td>\n",
              "      <td>False</td>\n",
              "      <td>False</td>\n",
              "      <td>False</td>\n",
              "      <td>False</td>\n",
              "      <td>False</td>\n",
              "      <td>False</td>\n",
              "      <td>False</td>\n",
              "      <td>False</td>\n",
              "      <td>False</td>\n",
              "      <td>False</td>\n",
              "    </tr>\n",
              "    <tr>\n",
              "      <th>...</th>\n",
              "      <td>...</td>\n",
              "      <td>...</td>\n",
              "      <td>...</td>\n",
              "      <td>...</td>\n",
              "      <td>...</td>\n",
              "      <td>...</td>\n",
              "      <td>...</td>\n",
              "      <td>...</td>\n",
              "      <td>...</td>\n",
              "      <td>...</td>\n",
              "      <td>...</td>\n",
              "      <td>...</td>\n",
              "      <td>...</td>\n",
              "    </tr>\n",
              "    <tr>\n",
              "      <th>318433</th>\n",
              "      <td>False</td>\n",
              "      <td>False</td>\n",
              "      <td>False</td>\n",
              "      <td>False</td>\n",
              "      <td>False</td>\n",
              "      <td>False</td>\n",
              "      <td>False</td>\n",
              "      <td>False</td>\n",
              "      <td>False</td>\n",
              "      <td>False</td>\n",
              "      <td>False</td>\n",
              "      <td>False</td>\n",
              "      <td>False</td>\n",
              "    </tr>\n",
              "    <tr>\n",
              "      <th>318434</th>\n",
              "      <td>False</td>\n",
              "      <td>False</td>\n",
              "      <td>False</td>\n",
              "      <td>False</td>\n",
              "      <td>False</td>\n",
              "      <td>False</td>\n",
              "      <td>False</td>\n",
              "      <td>False</td>\n",
              "      <td>False</td>\n",
              "      <td>False</td>\n",
              "      <td>False</td>\n",
              "      <td>False</td>\n",
              "      <td>False</td>\n",
              "    </tr>\n",
              "    <tr>\n",
              "      <th>318435</th>\n",
              "      <td>False</td>\n",
              "      <td>False</td>\n",
              "      <td>False</td>\n",
              "      <td>False</td>\n",
              "      <td>False</td>\n",
              "      <td>False</td>\n",
              "      <td>False</td>\n",
              "      <td>False</td>\n",
              "      <td>False</td>\n",
              "      <td>False</td>\n",
              "      <td>False</td>\n",
              "      <td>False</td>\n",
              "      <td>False</td>\n",
              "    </tr>\n",
              "    <tr>\n",
              "      <th>318436</th>\n",
              "      <td>False</td>\n",
              "      <td>False</td>\n",
              "      <td>False</td>\n",
              "      <td>False</td>\n",
              "      <td>False</td>\n",
              "      <td>False</td>\n",
              "      <td>False</td>\n",
              "      <td>False</td>\n",
              "      <td>False</td>\n",
              "      <td>False</td>\n",
              "      <td>False</td>\n",
              "      <td>False</td>\n",
              "      <td>False</td>\n",
              "    </tr>\n",
              "    <tr>\n",
              "      <th>318437</th>\n",
              "      <td>False</td>\n",
              "      <td>False</td>\n",
              "      <td>False</td>\n",
              "      <td>False</td>\n",
              "      <td>False</td>\n",
              "      <td>False</td>\n",
              "      <td>False</td>\n",
              "      <td>False</td>\n",
              "      <td>False</td>\n",
              "      <td>False</td>\n",
              "      <td>False</td>\n",
              "      <td>False</td>\n",
              "      <td>False</td>\n",
              "    </tr>\n",
              "  </tbody>\n",
              "</table>\n",
              "<p>318314 rows × 13 columns</p>\n",
              "</div>"
            ],
            "text/plain": [
              "        Hospital_code  Hospital_type_code  ...    Age   Stay\n",
              "0               False               False  ...  False  False\n",
              "1               False               False  ...  False  False\n",
              "2               False               False  ...  False  False\n",
              "3               False               False  ...  False  False\n",
              "4               False               False  ...  False  False\n",
              "...               ...                 ...  ...    ...    ...\n",
              "318433          False               False  ...  False  False\n",
              "318434          False               False  ...  False  False\n",
              "318435          False               False  ...  False  False\n",
              "318436          False               False  ...  False  False\n",
              "318437          False               False  ...  False  False\n",
              "\n",
              "[318314 rows x 13 columns]"
            ]
          },
          "metadata": {
            "tags": []
          },
          "execution_count": 99
        }
      ]
    },
    {
      "cell_type": "code",
      "metadata": {
        "id": "lJN2Ok2uSbNk"
      },
      "source": [
        "#Load Label Imputer\n",
        "from sklearn.preprocessing import LabelEncoder"
      ],
      "execution_count": null,
      "outputs": []
    },
    {
      "cell_type": "code",
      "metadata": {
        "id": "z5oSVQpbSbNp"
      },
      "source": [
        "# Instantiate LabelEncoder\n",
        "le=LabelEncoder()"
      ],
      "execution_count": null,
      "outputs": []
    },
    {
      "cell_type": "code",
      "metadata": {
        "id": "cqLa88IqSbNv"
      },
      "source": [
        "#Execute Label Encoder\n",
        "df_cat_encoded=df_cat.astype(str).apply(le.fit_transform)"
      ],
      "execution_count": null,
      "outputs": []
    },
    {
      "cell_type": "code",
      "metadata": {
        "id": "5EjOflBCSbNz",
        "colab": {
          "base_uri": "https://localhost:8080/",
          "height": 258
        },
        "outputId": "ef662796-d96a-4707-dc3c-0e5f6d2b010d"
      },
      "source": [
        "df_cat_encoded.head(5)"
      ],
      "execution_count": null,
      "outputs": [
        {
          "output_type": "execute_result",
          "data": {
            "text/html": [
              "<div>\n",
              "<style scoped>\n",
              "    .dataframe tbody tr th:only-of-type {\n",
              "        vertical-align: middle;\n",
              "    }\n",
              "\n",
              "    .dataframe tbody tr th {\n",
              "        vertical-align: top;\n",
              "    }\n",
              "\n",
              "    .dataframe thead th {\n",
              "        text-align: right;\n",
              "    }\n",
              "</style>\n",
              "<table border=\"1\" class=\"dataframe\">\n",
              "  <thead>\n",
              "    <tr style=\"text-align: right;\">\n",
              "      <th></th>\n",
              "      <th>Hospital_code</th>\n",
              "      <th>Hospital_type_code</th>\n",
              "      <th>City_Code_Hospital</th>\n",
              "      <th>Hospital_region_code</th>\n",
              "      <th>Department</th>\n",
              "      <th>Ward_Type</th>\n",
              "      <th>Ward_Facility_Code</th>\n",
              "      <th>Bed Grade</th>\n",
              "      <th>City_Code_Patient</th>\n",
              "      <th>Type of Admission</th>\n",
              "      <th>Severity of Illness</th>\n",
              "      <th>Age</th>\n",
              "      <th>Stay</th>\n",
              "    </tr>\n",
              "  </thead>\n",
              "  <tbody>\n",
              "    <tr>\n",
              "      <th>0</th>\n",
              "      <td>30</td>\n",
              "      <td>2</td>\n",
              "      <td>5</td>\n",
              "      <td>2</td>\n",
              "      <td>3</td>\n",
              "      <td>2</td>\n",
              "      <td>5</td>\n",
              "      <td>1</td>\n",
              "      <td>34</td>\n",
              "      <td>0</td>\n",
              "      <td>0</td>\n",
              "      <td>5</td>\n",
              "      <td>0</td>\n",
              "    </tr>\n",
              "    <tr>\n",
              "      <th>1</th>\n",
              "      <td>11</td>\n",
              "      <td>2</td>\n",
              "      <td>7</td>\n",
              "      <td>2</td>\n",
              "      <td>3</td>\n",
              "      <td>3</td>\n",
              "      <td>5</td>\n",
              "      <td>1</td>\n",
              "      <td>34</td>\n",
              "      <td>1</td>\n",
              "      <td>0</td>\n",
              "      <td>5</td>\n",
              "      <td>4</td>\n",
              "    </tr>\n",
              "    <tr>\n",
              "      <th>2</th>\n",
              "      <td>1</td>\n",
              "      <td>4</td>\n",
              "      <td>0</td>\n",
              "      <td>0</td>\n",
              "      <td>1</td>\n",
              "      <td>3</td>\n",
              "      <td>4</td>\n",
              "      <td>1</td>\n",
              "      <td>34</td>\n",
              "      <td>1</td>\n",
              "      <td>0</td>\n",
              "      <td>5</td>\n",
              "      <td>3</td>\n",
              "    </tr>\n",
              "    <tr>\n",
              "      <th>3</th>\n",
              "      <td>18</td>\n",
              "      <td>1</td>\n",
              "      <td>4</td>\n",
              "      <td>1</td>\n",
              "      <td>3</td>\n",
              "      <td>2</td>\n",
              "      <td>3</td>\n",
              "      <td>1</td>\n",
              "      <td>34</td>\n",
              "      <td>1</td>\n",
              "      <td>0</td>\n",
              "      <td>5</td>\n",
              "      <td>4</td>\n",
              "    </tr>\n",
              "    <tr>\n",
              "      <th>4</th>\n",
              "      <td>18</td>\n",
              "      <td>1</td>\n",
              "      <td>4</td>\n",
              "      <td>1</td>\n",
              "      <td>3</td>\n",
              "      <td>3</td>\n",
              "      <td>3</td>\n",
              "      <td>1</td>\n",
              "      <td>34</td>\n",
              "      <td>1</td>\n",
              "      <td>0</td>\n",
              "      <td>5</td>\n",
              "      <td>4</td>\n",
              "    </tr>\n",
              "  </tbody>\n",
              "</table>\n",
              "</div>"
            ],
            "text/plain": [
              "   Hospital_code  Hospital_type_code  ...  Age  Stay\n",
              "0             30                   2  ...    5     0\n",
              "1             11                   2  ...    5     4\n",
              "2              1                   4  ...    5     3\n",
              "3             18                   1  ...    5     4\n",
              "4             18                   1  ...    5     4\n",
              "\n",
              "[5 rows x 13 columns]"
            ]
          },
          "metadata": {
            "tags": []
          },
          "execution_count": 103
        }
      ]
    },
    {
      "cell_type": "code",
      "metadata": {
        "id": "P04KWDDGSbN3"
      },
      "source": [
        "df_cat_encoded=df_cat_encoded.where(~mask,df_cat)"
      ],
      "execution_count": null,
      "outputs": []
    },
    {
      "cell_type": "code",
      "metadata": {
        "id": "bqe-gIFrSbN7",
        "colab": {
          "base_uri": "https://localhost:8080/",
          "height": 258
        },
        "outputId": "95251ff2-a684-40bb-c0f8-3dbfe78ca99c"
      },
      "source": [
        "df_cat_encoded.head()"
      ],
      "execution_count": null,
      "outputs": [
        {
          "output_type": "execute_result",
          "data": {
            "text/html": [
              "<div>\n",
              "<style scoped>\n",
              "    .dataframe tbody tr th:only-of-type {\n",
              "        vertical-align: middle;\n",
              "    }\n",
              "\n",
              "    .dataframe tbody tr th {\n",
              "        vertical-align: top;\n",
              "    }\n",
              "\n",
              "    .dataframe thead th {\n",
              "        text-align: right;\n",
              "    }\n",
              "</style>\n",
              "<table border=\"1\" class=\"dataframe\">\n",
              "  <thead>\n",
              "    <tr style=\"text-align: right;\">\n",
              "      <th></th>\n",
              "      <th>Hospital_code</th>\n",
              "      <th>Hospital_type_code</th>\n",
              "      <th>City_Code_Hospital</th>\n",
              "      <th>Hospital_region_code</th>\n",
              "      <th>Department</th>\n",
              "      <th>Ward_Type</th>\n",
              "      <th>Ward_Facility_Code</th>\n",
              "      <th>Bed Grade</th>\n",
              "      <th>City_Code_Patient</th>\n",
              "      <th>Type of Admission</th>\n",
              "      <th>Severity of Illness</th>\n",
              "      <th>Age</th>\n",
              "      <th>Stay</th>\n",
              "    </tr>\n",
              "  </thead>\n",
              "  <tbody>\n",
              "    <tr>\n",
              "      <th>0</th>\n",
              "      <td>30</td>\n",
              "      <td>2</td>\n",
              "      <td>5</td>\n",
              "      <td>2</td>\n",
              "      <td>3</td>\n",
              "      <td>2</td>\n",
              "      <td>5</td>\n",
              "      <td>1</td>\n",
              "      <td>34</td>\n",
              "      <td>0</td>\n",
              "      <td>0</td>\n",
              "      <td>5</td>\n",
              "      <td>0</td>\n",
              "    </tr>\n",
              "    <tr>\n",
              "      <th>1</th>\n",
              "      <td>11</td>\n",
              "      <td>2</td>\n",
              "      <td>7</td>\n",
              "      <td>2</td>\n",
              "      <td>3</td>\n",
              "      <td>3</td>\n",
              "      <td>5</td>\n",
              "      <td>1</td>\n",
              "      <td>34</td>\n",
              "      <td>1</td>\n",
              "      <td>0</td>\n",
              "      <td>5</td>\n",
              "      <td>4</td>\n",
              "    </tr>\n",
              "    <tr>\n",
              "      <th>2</th>\n",
              "      <td>1</td>\n",
              "      <td>4</td>\n",
              "      <td>0</td>\n",
              "      <td>0</td>\n",
              "      <td>1</td>\n",
              "      <td>3</td>\n",
              "      <td>4</td>\n",
              "      <td>1</td>\n",
              "      <td>34</td>\n",
              "      <td>1</td>\n",
              "      <td>0</td>\n",
              "      <td>5</td>\n",
              "      <td>3</td>\n",
              "    </tr>\n",
              "    <tr>\n",
              "      <th>3</th>\n",
              "      <td>18</td>\n",
              "      <td>1</td>\n",
              "      <td>4</td>\n",
              "      <td>1</td>\n",
              "      <td>3</td>\n",
              "      <td>2</td>\n",
              "      <td>3</td>\n",
              "      <td>1</td>\n",
              "      <td>34</td>\n",
              "      <td>1</td>\n",
              "      <td>0</td>\n",
              "      <td>5</td>\n",
              "      <td>4</td>\n",
              "    </tr>\n",
              "    <tr>\n",
              "      <th>4</th>\n",
              "      <td>18</td>\n",
              "      <td>1</td>\n",
              "      <td>4</td>\n",
              "      <td>1</td>\n",
              "      <td>3</td>\n",
              "      <td>3</td>\n",
              "      <td>3</td>\n",
              "      <td>1</td>\n",
              "      <td>34</td>\n",
              "      <td>1</td>\n",
              "      <td>0</td>\n",
              "      <td>5</td>\n",
              "      <td>4</td>\n",
              "    </tr>\n",
              "  </tbody>\n",
              "</table>\n",
              "</div>"
            ],
            "text/plain": [
              "   Hospital_code  Hospital_type_code  ...  Age  Stay\n",
              "0             30                   2  ...    5     0\n",
              "1             11                   2  ...    5     4\n",
              "2              1                   4  ...    5     3\n",
              "3             18                   1  ...    5     4\n",
              "4             18                   1  ...    5     4\n",
              "\n",
              "[5 rows x 13 columns]"
            ]
          },
          "metadata": {
            "tags": []
          },
          "execution_count": 105
        }
      ]
    },
    {
      "cell_type": "code",
      "metadata": {
        "id": "Kz_kFETSSbOG"
      },
      "source": [
        "#Concat the numeric and categorical dataframe\n",
        "main_data_encoded=pd.concat((df_cat_encoded,df_num),axis=1)"
      ],
      "execution_count": null,
      "outputs": []
    },
    {
      "cell_type": "code",
      "metadata": {
        "id": "w-gAsTpmSbOM",
        "colab": {
          "base_uri": "https://localhost:8080/",
          "height": 275
        },
        "outputId": "4979851e-381f-4be9-915d-6aff5a641dd5"
      },
      "source": [
        "main_data_encoded.head()"
      ],
      "execution_count": null,
      "outputs": [
        {
          "output_type": "execute_result",
          "data": {
            "text/html": [
              "<div>\n",
              "<style scoped>\n",
              "    .dataframe tbody tr th:only-of-type {\n",
              "        vertical-align: middle;\n",
              "    }\n",
              "\n",
              "    .dataframe tbody tr th {\n",
              "        vertical-align: top;\n",
              "    }\n",
              "\n",
              "    .dataframe thead th {\n",
              "        text-align: right;\n",
              "    }\n",
              "</style>\n",
              "<table border=\"1\" class=\"dataframe\">\n",
              "  <thead>\n",
              "    <tr style=\"text-align: right;\">\n",
              "      <th></th>\n",
              "      <th>Hospital_code</th>\n",
              "      <th>Hospital_type_code</th>\n",
              "      <th>City_Code_Hospital</th>\n",
              "      <th>Hospital_region_code</th>\n",
              "      <th>Department</th>\n",
              "      <th>Ward_Type</th>\n",
              "      <th>Ward_Facility_Code</th>\n",
              "      <th>Bed Grade</th>\n",
              "      <th>City_Code_Patient</th>\n",
              "      <th>Type of Admission</th>\n",
              "      <th>Severity of Illness</th>\n",
              "      <th>Age</th>\n",
              "      <th>Stay</th>\n",
              "      <th>Available Extra Rooms in Hospital</th>\n",
              "      <th>patientid</th>\n",
              "      <th>Visitors with Patient</th>\n",
              "      <th>Admission_Deposit</th>\n",
              "    </tr>\n",
              "  </thead>\n",
              "  <tbody>\n",
              "    <tr>\n",
              "      <th>0</th>\n",
              "      <td>30</td>\n",
              "      <td>2</td>\n",
              "      <td>5</td>\n",
              "      <td>2</td>\n",
              "      <td>3</td>\n",
              "      <td>2</td>\n",
              "      <td>5</td>\n",
              "      <td>1</td>\n",
              "      <td>34</td>\n",
              "      <td>0</td>\n",
              "      <td>0</td>\n",
              "      <td>5</td>\n",
              "      <td>0</td>\n",
              "      <td>3</td>\n",
              "      <td>31397</td>\n",
              "      <td>2</td>\n",
              "      <td>4911.0</td>\n",
              "    </tr>\n",
              "    <tr>\n",
              "      <th>1</th>\n",
              "      <td>11</td>\n",
              "      <td>2</td>\n",
              "      <td>7</td>\n",
              "      <td>2</td>\n",
              "      <td>3</td>\n",
              "      <td>3</td>\n",
              "      <td>5</td>\n",
              "      <td>1</td>\n",
              "      <td>34</td>\n",
              "      <td>1</td>\n",
              "      <td>0</td>\n",
              "      <td>5</td>\n",
              "      <td>4</td>\n",
              "      <td>2</td>\n",
              "      <td>31397</td>\n",
              "      <td>2</td>\n",
              "      <td>5954.0</td>\n",
              "    </tr>\n",
              "    <tr>\n",
              "      <th>2</th>\n",
              "      <td>1</td>\n",
              "      <td>4</td>\n",
              "      <td>0</td>\n",
              "      <td>0</td>\n",
              "      <td>1</td>\n",
              "      <td>3</td>\n",
              "      <td>4</td>\n",
              "      <td>1</td>\n",
              "      <td>34</td>\n",
              "      <td>1</td>\n",
              "      <td>0</td>\n",
              "      <td>5</td>\n",
              "      <td>3</td>\n",
              "      <td>2</td>\n",
              "      <td>31397</td>\n",
              "      <td>2</td>\n",
              "      <td>4745.0</td>\n",
              "    </tr>\n",
              "    <tr>\n",
              "      <th>3</th>\n",
              "      <td>18</td>\n",
              "      <td>1</td>\n",
              "      <td>4</td>\n",
              "      <td>1</td>\n",
              "      <td>3</td>\n",
              "      <td>2</td>\n",
              "      <td>3</td>\n",
              "      <td>1</td>\n",
              "      <td>34</td>\n",
              "      <td>1</td>\n",
              "      <td>0</td>\n",
              "      <td>5</td>\n",
              "      <td>4</td>\n",
              "      <td>2</td>\n",
              "      <td>31397</td>\n",
              "      <td>2</td>\n",
              "      <td>7272.0</td>\n",
              "    </tr>\n",
              "    <tr>\n",
              "      <th>4</th>\n",
              "      <td>18</td>\n",
              "      <td>1</td>\n",
              "      <td>4</td>\n",
              "      <td>1</td>\n",
              "      <td>3</td>\n",
              "      <td>3</td>\n",
              "      <td>3</td>\n",
              "      <td>1</td>\n",
              "      <td>34</td>\n",
              "      <td>1</td>\n",
              "      <td>0</td>\n",
              "      <td>5</td>\n",
              "      <td>4</td>\n",
              "      <td>2</td>\n",
              "      <td>31397</td>\n",
              "      <td>2</td>\n",
              "      <td>5558.0</td>\n",
              "    </tr>\n",
              "  </tbody>\n",
              "</table>\n",
              "</div>"
            ],
            "text/plain": [
              "   Hospital_code  Hospital_type_code  ...  Visitors with Patient  Admission_Deposit\n",
              "0             30                   2  ...                      2             4911.0\n",
              "1             11                   2  ...                      2             5954.0\n",
              "2              1                   4  ...                      2             4745.0\n",
              "3             18                   1  ...                      2             7272.0\n",
              "4             18                   1  ...                      2             5558.0\n",
              "\n",
              "[5 rows x 17 columns]"
            ]
          },
          "metadata": {
            "tags": []
          },
          "execution_count": 107
        }
      ]
    },
    {
      "cell_type": "code",
      "metadata": {
        "id": "YMNYNNnBXoQX",
        "colab": {
          "base_uri": "https://localhost:8080/",
          "height": 323
        },
        "outputId": "56bc5c78-cbb1-40c4-9630-6621ddfcaa39"
      },
      "source": [
        "main_data_encoded.dtypes"
      ],
      "execution_count": null,
      "outputs": [
        {
          "output_type": "execute_result",
          "data": {
            "text/plain": [
              "Hospital_code                          int64\n",
              "Hospital_type_code                     int64\n",
              "City_Code_Hospital                     int64\n",
              "Hospital_region_code                   int64\n",
              "Department                             int64\n",
              "Ward_Type                              int64\n",
              "Ward_Facility_Code                     int64\n",
              "Bed Grade                             object\n",
              "City_Code_Patient                     object\n",
              "Type of Admission                      int64\n",
              "Severity of Illness                    int64\n",
              "Age                                    int64\n",
              "Stay                                   int64\n",
              "Available Extra Rooms in Hospital      int64\n",
              "patientid                              int64\n",
              "Visitors with Patient                  int64\n",
              "Admission_Deposit                    float64\n",
              "dtype: object"
            ]
          },
          "metadata": {
            "tags": []
          },
          "execution_count": 108
        }
      ]
    },
    {
      "cell_type": "markdown",
      "metadata": {
        "id": "wV80BQAHSbOS"
      },
      "source": [
        "# Missing Value Imputation"
      ]
    },
    {
      "cell_type": "code",
      "metadata": {
        "id": "pXlX8EzrSbOU",
        "colab": {
          "base_uri": "https://localhost:8080/",
          "height": 323
        },
        "outputId": "76178cb9-dab1-40ac-bc6c-73e83b7d7f06"
      },
      "source": [
        " #Find missing values in each column\n",
        "main_data_encoded.isna().sum()"
      ],
      "execution_count": null,
      "outputs": [
        {
          "output_type": "execute_result",
          "data": {
            "text/plain": [
              "Hospital_code                           0\n",
              "Hospital_type_code                      0\n",
              "City_Code_Hospital                      0\n",
              "Hospital_region_code                    0\n",
              "Department                              0\n",
              "Ward_Type                               0\n",
              "Ward_Facility_Code                      0\n",
              "Bed Grade                             113\n",
              "City_Code_Patient                    4530\n",
              "Type of Admission                       0\n",
              "Severity of Illness                     0\n",
              "Age                                     0\n",
              "Stay                                    0\n",
              "Available Extra Rooms in Hospital       0\n",
              "patientid                               0\n",
              "Visitors with Patient                   0\n",
              "Admission_Deposit                       0\n",
              "dtype: int64"
            ]
          },
          "metadata": {
            "tags": []
          },
          "execution_count": 113
        }
      ]
    },
    {
      "cell_type": "code",
      "metadata": {
        "id": "Wjp7HqN4SbOa"
      },
      "source": [
        "# Load KNN imputer\n",
        "from sklearn.impute import KNNImputer"
      ],
      "execution_count": null,
      "outputs": []
    },
    {
      "cell_type": "code",
      "metadata": {
        "id": "0eJoQQeBSbOh"
      },
      "source": [
        "#Instantiate KNN imputer\n",
        "imputer=KNNImputer(n_neighbors=5,missing_values=np.nan)"
      ],
      "execution_count": null,
      "outputs": []
    },
    {
      "cell_type": "markdown",
      "metadata": {
        "id": "vtf01qhqz-hR"
      },
      "source": [
        "np.nan cause you have to specifically take the missing vlues and not all the values."
      ]
    },
    {
      "cell_type": "code",
      "metadata": {
        "id": "ZRlL4F3hSbOn"
      },
      "source": [
        "#Execute\n",
        "main_data_imputed=pd.DataFrame(np.round(imputer.fit_transform(main_data_encoded)),columns=main_data_encoded.columns)"
      ],
      "execution_count": null,
      "outputs": []
    },
    {
      "cell_type": "code",
      "metadata": {
        "id": "pFjx_IOYSbOs",
        "colab": {
          "base_uri": "https://localhost:8080/",
          "height": 430
        },
        "outputId": "273b746f-5e86-4307-e5d7-d3ca487f0f18"
      },
      "source": [
        "main_data_imputed.head(10)"
      ],
      "execution_count": null,
      "outputs": [
        {
          "output_type": "execute_result",
          "data": {
            "text/html": [
              "<div>\n",
              "<style scoped>\n",
              "    .dataframe tbody tr th:only-of-type {\n",
              "        vertical-align: middle;\n",
              "    }\n",
              "\n",
              "    .dataframe tbody tr th {\n",
              "        vertical-align: top;\n",
              "    }\n",
              "\n",
              "    .dataframe thead th {\n",
              "        text-align: right;\n",
              "    }\n",
              "</style>\n",
              "<table border=\"1\" class=\"dataframe\">\n",
              "  <thead>\n",
              "    <tr style=\"text-align: right;\">\n",
              "      <th></th>\n",
              "      <th>Hospital_code</th>\n",
              "      <th>Hospital_type_code</th>\n",
              "      <th>City_Code_Hospital</th>\n",
              "      <th>Hospital_region_code</th>\n",
              "      <th>Department</th>\n",
              "      <th>Ward_Type</th>\n",
              "      <th>Ward_Facility_Code</th>\n",
              "      <th>Bed Grade</th>\n",
              "      <th>City_Code_Patient</th>\n",
              "      <th>Type of Admission</th>\n",
              "      <th>Severity of Illness</th>\n",
              "      <th>Age</th>\n",
              "      <th>Stay</th>\n",
              "      <th>Available Extra Rooms in Hospital</th>\n",
              "      <th>patientid</th>\n",
              "      <th>Visitors with Patient</th>\n",
              "      <th>Admission_Deposit</th>\n",
              "    </tr>\n",
              "  </thead>\n",
              "  <tbody>\n",
              "    <tr>\n",
              "      <th>0</th>\n",
              "      <td>30.0</td>\n",
              "      <td>2.0</td>\n",
              "      <td>5.0</td>\n",
              "      <td>2.0</td>\n",
              "      <td>3.0</td>\n",
              "      <td>2.0</td>\n",
              "      <td>5.0</td>\n",
              "      <td>1.0</td>\n",
              "      <td>34.0</td>\n",
              "      <td>0.0</td>\n",
              "      <td>0.0</td>\n",
              "      <td>5.0</td>\n",
              "      <td>0.0</td>\n",
              "      <td>3.0</td>\n",
              "      <td>31397.0</td>\n",
              "      <td>2.0</td>\n",
              "      <td>4911.0</td>\n",
              "    </tr>\n",
              "    <tr>\n",
              "      <th>1</th>\n",
              "      <td>11.0</td>\n",
              "      <td>2.0</td>\n",
              "      <td>7.0</td>\n",
              "      <td>2.0</td>\n",
              "      <td>3.0</td>\n",
              "      <td>3.0</td>\n",
              "      <td>5.0</td>\n",
              "      <td>1.0</td>\n",
              "      <td>34.0</td>\n",
              "      <td>1.0</td>\n",
              "      <td>0.0</td>\n",
              "      <td>5.0</td>\n",
              "      <td>4.0</td>\n",
              "      <td>2.0</td>\n",
              "      <td>31397.0</td>\n",
              "      <td>2.0</td>\n",
              "      <td>5954.0</td>\n",
              "    </tr>\n",
              "    <tr>\n",
              "      <th>2</th>\n",
              "      <td>1.0</td>\n",
              "      <td>4.0</td>\n",
              "      <td>0.0</td>\n",
              "      <td>0.0</td>\n",
              "      <td>1.0</td>\n",
              "      <td>3.0</td>\n",
              "      <td>4.0</td>\n",
              "      <td>1.0</td>\n",
              "      <td>34.0</td>\n",
              "      <td>1.0</td>\n",
              "      <td>0.0</td>\n",
              "      <td>5.0</td>\n",
              "      <td>3.0</td>\n",
              "      <td>2.0</td>\n",
              "      <td>31397.0</td>\n",
              "      <td>2.0</td>\n",
              "      <td>4745.0</td>\n",
              "    </tr>\n",
              "    <tr>\n",
              "      <th>3</th>\n",
              "      <td>18.0</td>\n",
              "      <td>1.0</td>\n",
              "      <td>4.0</td>\n",
              "      <td>1.0</td>\n",
              "      <td>3.0</td>\n",
              "      <td>2.0</td>\n",
              "      <td>3.0</td>\n",
              "      <td>1.0</td>\n",
              "      <td>34.0</td>\n",
              "      <td>1.0</td>\n",
              "      <td>0.0</td>\n",
              "      <td>5.0</td>\n",
              "      <td>4.0</td>\n",
              "      <td>2.0</td>\n",
              "      <td>31397.0</td>\n",
              "      <td>2.0</td>\n",
              "      <td>7272.0</td>\n",
              "    </tr>\n",
              "    <tr>\n",
              "      <th>4</th>\n",
              "      <td>18.0</td>\n",
              "      <td>1.0</td>\n",
              "      <td>4.0</td>\n",
              "      <td>1.0</td>\n",
              "      <td>3.0</td>\n",
              "      <td>3.0</td>\n",
              "      <td>3.0</td>\n",
              "      <td>1.0</td>\n",
              "      <td>34.0</td>\n",
              "      <td>1.0</td>\n",
              "      <td>0.0</td>\n",
              "      <td>5.0</td>\n",
              "      <td>4.0</td>\n",
              "      <td>2.0</td>\n",
              "      <td>31397.0</td>\n",
              "      <td>2.0</td>\n",
              "      <td>5558.0</td>\n",
              "    </tr>\n",
              "    <tr>\n",
              "      <th>5</th>\n",
              "      <td>15.0</td>\n",
              "      <td>0.0</td>\n",
              "      <td>8.0</td>\n",
              "      <td>0.0</td>\n",
              "      <td>1.0</td>\n",
              "      <td>3.0</td>\n",
              "      <td>5.0</td>\n",
              "      <td>1.0</td>\n",
              "      <td>34.0</td>\n",
              "      <td>1.0</td>\n",
              "      <td>0.0</td>\n",
              "      <td>5.0</td>\n",
              "      <td>1.0</td>\n",
              "      <td>2.0</td>\n",
              "      <td>31397.0</td>\n",
              "      <td>2.0</td>\n",
              "      <td>4449.0</td>\n",
              "    </tr>\n",
              "    <tr>\n",
              "      <th>6</th>\n",
              "      <td>25.0</td>\n",
              "      <td>5.0</td>\n",
              "      <td>10.0</td>\n",
              "      <td>1.0</td>\n",
              "      <td>3.0</td>\n",
              "      <td>3.0</td>\n",
              "      <td>1.0</td>\n",
              "      <td>2.0</td>\n",
              "      <td>34.0</td>\n",
              "      <td>0.0</td>\n",
              "      <td>0.0</td>\n",
              "      <td>5.0</td>\n",
              "      <td>0.0</td>\n",
              "      <td>1.0</td>\n",
              "      <td>31397.0</td>\n",
              "      <td>2.0</td>\n",
              "      <td>6167.0</td>\n",
              "    </tr>\n",
              "    <tr>\n",
              "      <th>7</th>\n",
              "      <td>15.0</td>\n",
              "      <td>0.0</td>\n",
              "      <td>8.0</td>\n",
              "      <td>0.0</td>\n",
              "      <td>3.0</td>\n",
              "      <td>1.0</td>\n",
              "      <td>5.0</td>\n",
              "      <td>2.0</td>\n",
              "      <td>34.0</td>\n",
              "      <td>1.0</td>\n",
              "      <td>0.0</td>\n",
              "      <td>5.0</td>\n",
              "      <td>4.0</td>\n",
              "      <td>4.0</td>\n",
              "      <td>31397.0</td>\n",
              "      <td>2.0</td>\n",
              "      <td>5571.0</td>\n",
              "    </tr>\n",
              "    <tr>\n",
              "      <th>8</th>\n",
              "      <td>0.0</td>\n",
              "      <td>3.0</td>\n",
              "      <td>1.0</td>\n",
              "      <td>1.0</td>\n",
              "      <td>2.0</td>\n",
              "      <td>2.0</td>\n",
              "      <td>1.0</td>\n",
              "      <td>3.0</td>\n",
              "      <td>34.0</td>\n",
              "      <td>1.0</td>\n",
              "      <td>0.0</td>\n",
              "      <td>5.0</td>\n",
              "      <td>5.0</td>\n",
              "      <td>2.0</td>\n",
              "      <td>31397.0</td>\n",
              "      <td>2.0</td>\n",
              "      <td>7223.0</td>\n",
              "    </tr>\n",
              "    <tr>\n",
              "      <th>9</th>\n",
              "      <td>1.0</td>\n",
              "      <td>4.0</td>\n",
              "      <td>0.0</td>\n",
              "      <td>0.0</td>\n",
              "      <td>2.0</td>\n",
              "      <td>3.0</td>\n",
              "      <td>4.0</td>\n",
              "      <td>2.0</td>\n",
              "      <td>34.0</td>\n",
              "      <td>1.0</td>\n",
              "      <td>0.0</td>\n",
              "      <td>5.0</td>\n",
              "      <td>3.0</td>\n",
              "      <td>2.0</td>\n",
              "      <td>31397.0</td>\n",
              "      <td>2.0</td>\n",
              "      <td>6056.0</td>\n",
              "    </tr>\n",
              "  </tbody>\n",
              "</table>\n",
              "</div>"
            ],
            "text/plain": [
              "   Hospital_code  Hospital_type_code  ...  Visitors with Patient  Admission_Deposit\n",
              "0           30.0                 2.0  ...                    2.0             4911.0\n",
              "1           11.0                 2.0  ...                    2.0             5954.0\n",
              "2            1.0                 4.0  ...                    2.0             4745.0\n",
              "3           18.0                 1.0  ...                    2.0             7272.0\n",
              "4           18.0                 1.0  ...                    2.0             5558.0\n",
              "5           15.0                 0.0  ...                    2.0             4449.0\n",
              "6           25.0                 5.0  ...                    2.0             6167.0\n",
              "7           15.0                 0.0  ...                    2.0             5571.0\n",
              "8            0.0                 3.0  ...                    2.0             7223.0\n",
              "9            1.0                 4.0  ...                    2.0             6056.0\n",
              "\n",
              "[10 rows x 17 columns]"
            ]
          },
          "metadata": {
            "tags": []
          },
          "execution_count": 42
        }
      ]
    },
    {
      "cell_type": "code",
      "metadata": {
        "id": "WZ_P8YoRSbOz",
        "colab": {
          "base_uri": "https://localhost:8080/",
          "height": 323
        },
        "outputId": "14355086-4ff0-4a0b-917b-e0cd504954cf"
      },
      "source": [
        "main_data_imputed.dtypes"
      ],
      "execution_count": null,
      "outputs": [
        {
          "output_type": "execute_result",
          "data": {
            "text/plain": [
              "Hospital_code                        float64\n",
              "Hospital_type_code                   float64\n",
              "City_Code_Hospital                   float64\n",
              "Hospital_region_code                 float64\n",
              "Department                           float64\n",
              "Ward_Type                            float64\n",
              "Ward_Facility_Code                   float64\n",
              "Bed Grade                            float64\n",
              "City_Code_Patient                    float64\n",
              "Type of Admission                    float64\n",
              "Severity of Illness                  float64\n",
              "Age                                  float64\n",
              "Stay                                 float64\n",
              "Available Extra Rooms in Hospital    float64\n",
              "patientid                            float64\n",
              "Visitors with Patient                float64\n",
              "Admission_Deposit                    float64\n",
              "dtype: object"
            ]
          },
          "metadata": {
            "tags": []
          },
          "execution_count": 43
        }
      ]
    },
    {
      "cell_type": "code",
      "metadata": {
        "id": "-Vbe5VC6SbO4"
      },
      "source": [
        "for k in main_data_imputed.columns:\n",
        "    main_data_imputed[k]=main_data_imputed[k].astype('object')"
      ],
      "execution_count": null,
      "outputs": []
    },
    {
      "cell_type": "code",
      "metadata": {
        "id": "iMbtl-G-SbPE",
        "colab": {
          "base_uri": "https://localhost:8080/",
          "height": 275
        },
        "outputId": "bb79eb31-216f-4a93-c53a-b45bcdd9d8c7"
      },
      "source": [
        "main_data_imputed.head()"
      ],
      "execution_count": null,
      "outputs": [
        {
          "output_type": "execute_result",
          "data": {
            "text/html": [
              "<div>\n",
              "<style scoped>\n",
              "    .dataframe tbody tr th:only-of-type {\n",
              "        vertical-align: middle;\n",
              "    }\n",
              "\n",
              "    .dataframe tbody tr th {\n",
              "        vertical-align: top;\n",
              "    }\n",
              "\n",
              "    .dataframe thead th {\n",
              "        text-align: right;\n",
              "    }\n",
              "</style>\n",
              "<table border=\"1\" class=\"dataframe\">\n",
              "  <thead>\n",
              "    <tr style=\"text-align: right;\">\n",
              "      <th></th>\n",
              "      <th>Hospital_code</th>\n",
              "      <th>Hospital_type_code</th>\n",
              "      <th>City_Code_Hospital</th>\n",
              "      <th>Hospital_region_code</th>\n",
              "      <th>Department</th>\n",
              "      <th>Ward_Type</th>\n",
              "      <th>Ward_Facility_Code</th>\n",
              "      <th>Bed Grade</th>\n",
              "      <th>City_Code_Patient</th>\n",
              "      <th>Type of Admission</th>\n",
              "      <th>Severity of Illness</th>\n",
              "      <th>Age</th>\n",
              "      <th>Stay</th>\n",
              "      <th>Available Extra Rooms in Hospital</th>\n",
              "      <th>patientid</th>\n",
              "      <th>Visitors with Patient</th>\n",
              "      <th>Admission_Deposit</th>\n",
              "    </tr>\n",
              "  </thead>\n",
              "  <tbody>\n",
              "    <tr>\n",
              "      <th>0</th>\n",
              "      <td>30</td>\n",
              "      <td>2</td>\n",
              "      <td>5</td>\n",
              "      <td>2</td>\n",
              "      <td>3</td>\n",
              "      <td>2</td>\n",
              "      <td>5</td>\n",
              "      <td>1</td>\n",
              "      <td>34</td>\n",
              "      <td>0</td>\n",
              "      <td>0</td>\n",
              "      <td>5</td>\n",
              "      <td>0</td>\n",
              "      <td>3</td>\n",
              "      <td>31397</td>\n",
              "      <td>2</td>\n",
              "      <td>4911</td>\n",
              "    </tr>\n",
              "    <tr>\n",
              "      <th>1</th>\n",
              "      <td>11</td>\n",
              "      <td>2</td>\n",
              "      <td>7</td>\n",
              "      <td>2</td>\n",
              "      <td>3</td>\n",
              "      <td>3</td>\n",
              "      <td>5</td>\n",
              "      <td>1</td>\n",
              "      <td>34</td>\n",
              "      <td>1</td>\n",
              "      <td>0</td>\n",
              "      <td>5</td>\n",
              "      <td>4</td>\n",
              "      <td>2</td>\n",
              "      <td>31397</td>\n",
              "      <td>2</td>\n",
              "      <td>5954</td>\n",
              "    </tr>\n",
              "    <tr>\n",
              "      <th>2</th>\n",
              "      <td>1</td>\n",
              "      <td>4</td>\n",
              "      <td>0</td>\n",
              "      <td>0</td>\n",
              "      <td>1</td>\n",
              "      <td>3</td>\n",
              "      <td>4</td>\n",
              "      <td>1</td>\n",
              "      <td>34</td>\n",
              "      <td>1</td>\n",
              "      <td>0</td>\n",
              "      <td>5</td>\n",
              "      <td>3</td>\n",
              "      <td>2</td>\n",
              "      <td>31397</td>\n",
              "      <td>2</td>\n",
              "      <td>4745</td>\n",
              "    </tr>\n",
              "    <tr>\n",
              "      <th>3</th>\n",
              "      <td>18</td>\n",
              "      <td>1</td>\n",
              "      <td>4</td>\n",
              "      <td>1</td>\n",
              "      <td>3</td>\n",
              "      <td>2</td>\n",
              "      <td>3</td>\n",
              "      <td>1</td>\n",
              "      <td>34</td>\n",
              "      <td>1</td>\n",
              "      <td>0</td>\n",
              "      <td>5</td>\n",
              "      <td>4</td>\n",
              "      <td>2</td>\n",
              "      <td>31397</td>\n",
              "      <td>2</td>\n",
              "      <td>7272</td>\n",
              "    </tr>\n",
              "    <tr>\n",
              "      <th>4</th>\n",
              "      <td>18</td>\n",
              "      <td>1</td>\n",
              "      <td>4</td>\n",
              "      <td>1</td>\n",
              "      <td>3</td>\n",
              "      <td>3</td>\n",
              "      <td>3</td>\n",
              "      <td>1</td>\n",
              "      <td>34</td>\n",
              "      <td>1</td>\n",
              "      <td>0</td>\n",
              "      <td>5</td>\n",
              "      <td>4</td>\n",
              "      <td>2</td>\n",
              "      <td>31397</td>\n",
              "      <td>2</td>\n",
              "      <td>5558</td>\n",
              "    </tr>\n",
              "  </tbody>\n",
              "</table>\n",
              "</div>"
            ],
            "text/plain": [
              "  Hospital_code Hospital_type_code  ... Visitors with Patient Admission_Deposit\n",
              "0            30                  2  ...                     2              4911\n",
              "1            11                  2  ...                     2              5954\n",
              "2             1                  4  ...                     2              4745\n",
              "3            18                  1  ...                     2              7272\n",
              "4            18                  1  ...                     2              5558\n",
              "\n",
              "[5 rows x 17 columns]"
            ]
          },
          "metadata": {
            "tags": []
          },
          "execution_count": 45
        }
      ]
    },
    {
      "cell_type": "code",
      "metadata": {
        "id": "diV3_I4QSbPJ"
      },
      "source": [
        "for i in cat1:\n",
        "    main_data_imputed[i]=main_data_imputed[i].astype('category')\n",
        "\n",
        "for j in cat2:\n",
        "    cat_type = CategoricalDtype(main_data_imputed[main_data_imputed[j].notna()][j].unique(), ordered=True)\n",
        "    main_data_imputed[j]=main_data_imputed[j].astype(cat_type)"
      ],
      "execution_count": null,
      "outputs": []
    },
    {
      "cell_type": "code",
      "metadata": {
        "id": "qablTcVkSbPO"
      },
      "source": [
        "for k in df_num.columns:\n",
        "    main_data_imputed[k]=main_data_imputed[k].astype(df_num[k].dtype)"
      ],
      "execution_count": null,
      "outputs": []
    },
    {
      "cell_type": "code",
      "metadata": {
        "id": "KP6KqNdGSbPS",
        "colab": {
          "base_uri": "https://localhost:8080/",
          "height": 323
        },
        "outputId": "33e9189f-d5f1-4259-e6f8-8818bb5b6a76"
      },
      "source": [
        "main_data_imputed.isna().sum()"
      ],
      "execution_count": null,
      "outputs": [
        {
          "output_type": "execute_result",
          "data": {
            "text/plain": [
              "Hospital_code                        0\n",
              "Hospital_type_code                   0\n",
              "City_Code_Hospital                   0\n",
              "Hospital_region_code                 0\n",
              "Department                           0\n",
              "Ward_Type                            0\n",
              "Ward_Facility_Code                   0\n",
              "Bed Grade                            0\n",
              "City_Code_Patient                    0\n",
              "Type of Admission                    0\n",
              "Severity of Illness                  0\n",
              "Age                                  0\n",
              "Stay                                 0\n",
              "Available Extra Rooms in Hospital    0\n",
              "patientid                            0\n",
              "Visitors with Patient                0\n",
              "Admission_Deposit                    0\n",
              "dtype: int64"
            ]
          },
          "metadata": {
            "tags": []
          },
          "execution_count": 154
        }
      ]
    },
    {
      "cell_type": "code",
      "metadata": {
        "id": "TzdVt2lzcEkw",
        "colab": {
          "base_uri": "https://localhost:8080/",
          "height": 323
        },
        "outputId": "fc561516-31b2-4572-c848-95dcf20b636d"
      },
      "source": [
        "main_data_imputed.dtypes"
      ],
      "execution_count": null,
      "outputs": [
        {
          "output_type": "execute_result",
          "data": {
            "text/plain": [
              "Hospital_code                        category\n",
              "Hospital_type_code                   category\n",
              "City_Code_Hospital                   category\n",
              "Hospital_region_code                 category\n",
              "Department                           category\n",
              "Ward_Type                            category\n",
              "Ward_Facility_Code                   category\n",
              "Bed Grade                            category\n",
              "City_Code_Patient                    category\n",
              "Type of Admission                    category\n",
              "Severity of Illness                  category\n",
              "Age                                  category\n",
              "Stay                                 category\n",
              "Available Extra Rooms in Hospital       int64\n",
              "patientid                               int64\n",
              "Visitors with Patient                   int64\n",
              "Admission_Deposit                     float64\n",
              "dtype: object"
            ]
          },
          "metadata": {
            "tags": []
          },
          "execution_count": 155
        }
      ]
    },
    {
      "cell_type": "code",
      "metadata": {
        "id": "O4WRDQRPyy7l"
      },
      "source": [
        "main_data_imputed.drop('patientid', axis=1, inplace=True)"
      ],
      "execution_count": null,
      "outputs": []
    },
    {
      "cell_type": "markdown",
      "metadata": {
        "id": "jYiwpax0SbPW"
      },
      "source": [
        "# Outlier Analysis"
      ]
    },
    {
      "cell_type": "code",
      "metadata": {
        "id": "pHXIAKzJd9Rw",
        "colab": {
          "base_uri": "https://localhost:8080/",
          "height": 297
        },
        "outputId": "5e557a12-6ad5-4dce-abd1-12a9ee699e77"
      },
      "source": [
        "#Outlier analysis using the boxplot function \n",
        "sns.boxplot(main_data_imputed['Admission_Deposit'])"
      ],
      "execution_count": null,
      "outputs": [
        {
          "output_type": "execute_result",
          "data": {
            "text/plain": [
              "<matplotlib.axes._subplots.AxesSubplot at 0x7f4d2924db00>"
            ]
          },
          "metadata": {
            "tags": []
          },
          "execution_count": 194
        },
        {
          "output_type": "display_data",
          "data": {
            "image/png": "[encoded data removed]",
            "text/plain": [
              "<Figure size 432x288 with 1 Axes>"
            ]
          },
          "metadata": {
            "tags": [],
            "needs_background": "light"
          }
        }
      ]
    },
    {
      "cell_type": "code",
      "metadata": {
        "id": "8qR290umd9R2",
        "colab": {
          "base_uri": "https://localhost:8080/",
          "height": 298
        },
        "outputId": "eb27ee5b-0813-48f5-b867-584d449b6937"
      },
      "source": [
        "sns.distplot(main_data_imputed['Admission_Deposit'],bins=100)"
      ],
      "execution_count": null,
      "outputs": [
        {
          "output_type": "execute_result",
          "data": {
            "text/plain": [
              "<matplotlib.axes._subplots.AxesSubplot at 0x7f4d28ba85c0>"
            ]
          },
          "metadata": {
            "tags": []
          },
          "execution_count": 195
        },
        {
          "output_type": "display_data",
          "data": {
            "image/png": "[encoded data removed]",
            "text/plain": [
              "<Figure size 432x288 with 1 Axes>"
            ]
          },
          "metadata": {
            "tags": [],
            "needs_background": "light"
          }
        }
      ]
    },
    {
      "cell_type": "code",
      "metadata": {
        "id": "EsIM5Ync5lv5"
      },
      "source": [
        "# Admission_Deposit\n",
        "#Step 1: Get the upper and lower quartile and IQR\n",
        "q3_Admission_Deposit=main_data_imputed['Admission_Deposit'].quantile(.75)\n",
        "q1_Admission_Deposit=main_data_imputed['Admission_Deposit'].quantile(.25)"
      ],
      "execution_count": null,
      "outputs": []
    },
    {
      "cell_type": "code",
      "metadata": {
        "id": "qridzOSl5lv8"
      },
      "source": [
        "#Get IQR\n",
        "iqr_Admission_Deposit= q3_Admission_Deposit-q1_Admission_Deposit"
      ],
      "execution_count": null,
      "outputs": []
    },
    {
      "cell_type": "code",
      "metadata": {
        "id": "FPZErs7A5lv-"
      },
      "source": [
        "# Step 2: Get upper and lower limits \n",
        "upper_Admission_Deposit=q3_Admission_Deposit+(1.5*iqr_Admission_Deposit)\n",
        "lower_Admission_Deposit=q1_Admission_Deposit-(1.5*iqr_Admission_Deposit)"
      ],
      "execution_count": null,
      "outputs": []
    },
    {
      "cell_type": "code",
      "metadata": {
        "id": "wpf0GxAW5lwA",
        "colab": {
          "base_uri": "https://localhost:8080/",
          "height": 34
        },
        "outputId": "b9d5abe0-6b58-4ded-b3f6-d60d18063a4a"
      },
      "source": [
        "print(upper_Admission_Deposit,lower_Admission_Deposit)"
      ],
      "execution_count": null,
      "outputs": [
        {
          "output_type": "stream",
          "text": [
            "7243.5 2351.5\n"
          ],
          "name": "stdout"
        }
      ]
    },
    {
      "cell_type": "code",
      "metadata": {
        "id": "Jyp5EYPa5lwK"
      },
      "source": [
        "#Step 3: Capping and Flooring\n",
        "main_data_imputed['Admission_Deposit']=np.where(main_data_imputed['Admission_Deposit']>upper_Admission_Deposit,upper_Admission_Deposit,main_data_imputed['Admission_Deposit'])\n",
        "main_data_imputed['Admission_Deposit']=np.where(main_data_imputed['Admission_Deposit']<lower_Admission_Deposit,lower_Admission_Deposit,main_data_imputed['Admission_Deposit'])"
      ],
      "execution_count": null,
      "outputs": []
    },
    {
      "cell_type": "code",
      "metadata": {
        "id": "umJxp0865lwO",
        "colab": {
          "base_uri": "https://localhost:8080/",
          "height": 297
        },
        "outputId": "d1444378-564d-4989-b2ea-1ac847722786"
      },
      "source": [
        "sns.boxplot(main_data_imputed['Admission_Deposit'])"
      ],
      "execution_count": null,
      "outputs": [
        {
          "output_type": "execute_result",
          "data": {
            "text/plain": [
              "<matplotlib.axes._subplots.AxesSubplot at 0x7f4d28b6f908>"
            ]
          },
          "metadata": {
            "tags": []
          },
          "execution_count": 201
        },
        {
          "output_type": "display_data",
          "data": {
            "image/png": "[encoded data removed]",
            "text/plain": [
              "<Figure size 432x288 with 1 Axes>"
            ]
          },
          "metadata": {
            "tags": [],
            "needs_background": "light"
          }
        }
      ]
    },
    {
      "cell_type": "code",
      "metadata": {
        "id": "mV91e0ZBeJCl",
        "colab": {
          "base_uri": "https://localhost:8080/",
          "height": 298
        },
        "outputId": "7b799f06-ca17-4582-a2cb-710cce61efc7"
      },
      "source": [
        "sns.distplot(main_data_imputed['Admission_Deposit'],bins=100)"
      ],
      "execution_count": null,
      "outputs": [
        {
          "output_type": "execute_result",
          "data": {
            "text/plain": [
              "<matplotlib.axes._subplots.AxesSubplot at 0x7f4d28950240>"
            ]
          },
          "metadata": {
            "tags": []
          },
          "execution_count": 202
        },
        {
          "output_type": "display_data",
          "data": {
            "image/png": "[encoded data removed]",
            "text/plain": [
              "<Figure size 432x288 with 1 Axes>"
            ]
          },
          "metadata": {
            "tags": [],
            "needs_background": "light"
          }
        }
      ]
    },
    {
      "cell_type": "code",
      "metadata": {
        "id": "kV_7Jdi2eTMY",
        "colab": {
          "base_uri": "https://localhost:8080/",
          "height": 296
        },
        "outputId": "9b8b6b12-1d5c-4083-9e52-26a5bf234b69"
      },
      "source": [
        "#Outlier analysis using the boxplot function \n",
        "sns.boxplot(main_data_imputed['Visitors with Patient'])"
      ],
      "execution_count": null,
      "outputs": [
        {
          "output_type": "execute_result",
          "data": {
            "text/plain": [
              "<matplotlib.axes._subplots.AxesSubplot at 0x7f4d29266588>"
            ]
          },
          "metadata": {
            "tags": []
          },
          "execution_count": 203
        },
        {
          "output_type": "display_data",
          "data": {
            "image/png": "[encoded data removed]",
            "text/plain": [
              "<Figure size 432x288 with 1 Axes>"
            ]
          },
          "metadata": {
            "tags": [],
            "needs_background": "light"
          }
        }
      ]
    },
    {
      "cell_type": "code",
      "metadata": {
        "id": "JZMXDWSmeTMd",
        "colab": {
          "base_uri": "https://localhost:8080/",
          "height": 296
        },
        "outputId": "1a7e5228-2d9a-498c-9f73-e865ae9e7e2b"
      },
      "source": [
        "sns.distplot(main_data_imputed['Visitors with Patient'],bins=100)"
      ],
      "execution_count": null,
      "outputs": [
        {
          "output_type": "execute_result",
          "data": {
            "text/plain": [
              "<matplotlib.axes._subplots.AxesSubplot at 0x7f4d293f2940>"
            ]
          },
          "metadata": {
            "tags": []
          },
          "execution_count": 204
        },
        {
          "output_type": "display_data",
          "data": {
            "image/png": "[encoded data removed]",
            "text/plain": [
              "<Figure size 432x288 with 1 Axes>"
            ]
          },
          "metadata": {
            "tags": [],
            "needs_background": "light"
          }
        }
      ]
    },
    {
      "cell_type": "code",
      "metadata": {
        "id": "L4Fdjor6m2SY"
      },
      "source": [
        "# Visitors with Patient\n",
        "#Step 1: Get the upper and lower quartile and IQR\n",
        "q3_visitors=main_data_imputed['Visitors with Patient'].quantile(.75)\n",
        "q1_visitors=main_data_imputed['Visitors with Patient'].quantile(.25)"
      ],
      "execution_count": null,
      "outputs": []
    },
    {
      "cell_type": "code",
      "metadata": {
        "id": "kBaVSe5Wm2Sc"
      },
      "source": [
        "#Get IQR\n",
        "iqr_visitors= q3_visitors-q1_visitors"
      ],
      "execution_count": null,
      "outputs": []
    },
    {
      "cell_type": "code",
      "metadata": {
        "id": "aOmsf-Dlm2Sf"
      },
      "source": [
        "# Step 2: Get upper and lower limits \n",
        "upper_visitors=q3_visitors+(1.5*iqr_visitors)\n",
        "lower_visitors=q1_visitors-(1.5*iqr_visitors)"
      ],
      "execution_count": null,
      "outputs": []
    },
    {
      "cell_type": "code",
      "metadata": {
        "id": "1_Vi1PEvm2Si",
        "colab": {
          "base_uri": "https://localhost:8080/",
          "height": 34
        },
        "outputId": "3e69cb9a-318f-488a-e177-6cda3bfe9d19"
      },
      "source": [
        "print(upper_visitors,lower_visitors)"
      ],
      "execution_count": null,
      "outputs": [
        {
          "output_type": "stream",
          "text": [
            "7.0 -1.0\n"
          ],
          "name": "stdout"
        }
      ]
    },
    {
      "cell_type": "code",
      "metadata": {
        "id": "GpeBRiC7m2Sl"
      },
      "source": [
        "#Step 3: Capping and Flooring\n",
        "main_data_imputed['Visitors with Patient']=np.where(main_data_imputed['Visitors with Patient']>upper_visitors,upper_visitors,main_data_imputed['Visitors with Patient'])\n",
        "main_data_imputed['Visitors with Patient']=np.where(main_data_imputed['Visitors with Patient']<lower_visitors,lower_visitors,main_data_imputed['Visitors with Patient'])"
      ],
      "execution_count": null,
      "outputs": []
    },
    {
      "cell_type": "code",
      "metadata": {
        "id": "OUPogkSCm2Sn",
        "colab": {
          "base_uri": "https://localhost:8080/",
          "height": 296
        },
        "outputId": "b8c5222b-27e2-4af2-b87a-79381467abc2"
      },
      "source": [
        "sns.countplot(main_data_imputed['Visitors with Patient'])"
      ],
      "execution_count": null,
      "outputs": [
        {
          "output_type": "execute_result",
          "data": {
            "text/plain": [
              "<matplotlib.axes._subplots.AxesSubplot at 0x7f4d2862c710>"
            ]
          },
          "metadata": {
            "tags": []
          },
          "execution_count": 210
        },
        {
          "output_type": "display_data",
          "data": {
            "image/png": "[encoded data removed]",
            "text/plain": [
              "<Figure size 432x288 with 1 Axes>"
            ]
          },
          "metadata": {
            "tags": [],
            "needs_background": "light"
          }
        }
      ]
    },
    {
      "cell_type": "code",
      "metadata": {
        "id": "TAtVK6ybo9Tb",
        "colab": {
          "base_uri": "https://localhost:8080/",
          "height": 296
        },
        "outputId": "3935a64a-5e8f-4f0f-d7f6-685f9287e717"
      },
      "source": [
        "#Outlier analysis using the boxplot function \n",
        "sns.boxplot(main_data_imputed['Available Extra Rooms in Hospital'])"
      ],
      "execution_count": null,
      "outputs": [
        {
          "output_type": "execute_result",
          "data": {
            "text/plain": [
              "<matplotlib.axes._subplots.AxesSubplot at 0x7f4d283ceb70>"
            ]
          },
          "metadata": {
            "tags": []
          },
          "execution_count": 212
        },
        {
          "output_type": "display_data",
          "data": {
            "image/png": "[encoded data removed]",
            "text/plain": [
              "<Figure size 432x288 with 1 Axes>"
            ]
          },
          "metadata": {
            "tags": [],
            "needs_background": "light"
          }
        }
      ]
    },
    {
      "cell_type": "code",
      "metadata": {
        "id": "cN5F64G2o9Tk",
        "colab": {
          "base_uri": "https://localhost:8080/",
          "height": 296
        },
        "outputId": "5b54f11d-be3c-4f3b-adad-db37f570e790"
      },
      "source": [
        "sns.distplot(main_data_imputed['Available Extra Rooms in Hospital'],bins=100)"
      ],
      "execution_count": null,
      "outputs": [
        {
          "output_type": "execute_result",
          "data": {
            "text/plain": [
              "<matplotlib.axes._subplots.AxesSubplot at 0x7f4d2838ea58>"
            ]
          },
          "metadata": {
            "tags": []
          },
          "execution_count": 213
        },
        {
          "output_type": "display_data",
          "data": {
            "image/png": "[encoded data removed]",
            "text/plain": [
              "<Figure size 432x288 with 1 Axes>"
            ]
          },
          "metadata": {
            "tags": [],
            "needs_background": "light"
          }
        }
      ]
    },
    {
      "cell_type": "code",
      "metadata": {
        "id": "upuu8xvOo9To"
      },
      "source": [
        "# Visitors with Patient\n",
        "#Step 1: Get the upper and lower quartile and IQR\n",
        "q3_rooms=main_data_imputed['Available Extra Rooms in Hospital'].quantile(.75)\n",
        "q1_rooms=main_data_imputed['Available Extra Rooms in Hospital'].quantile(.25)"
      ],
      "execution_count": null,
      "outputs": []
    },
    {
      "cell_type": "code",
      "metadata": {
        "id": "8uksdhVeo9Tr"
      },
      "source": [
        "#Get IQR\n",
        "iqr_rooms= q3_rooms-q1_rooms"
      ],
      "execution_count": null,
      "outputs": []
    },
    {
      "cell_type": "code",
      "metadata": {
        "id": "wNRiszIno9Tw"
      },
      "source": [
        "# Step 2: Get upper and lower limits \n",
        "upper_rooms=q3_rooms+(1.5*iqr_rooms)\n",
        "lower_rooms=q1_rooms-(1.5*iqr_rooms)"
      ],
      "execution_count": null,
      "outputs": []
    },
    {
      "cell_type": "code",
      "metadata": {
        "id": "L5r0E-fWo9T1",
        "colab": {
          "base_uri": "https://localhost:8080/",
          "height": 34
        },
        "outputId": "eccbdec4-3f35-4b2c-db44-ca370ba17d87"
      },
      "source": [
        "print(upper_rooms,lower_rooms)"
      ],
      "execution_count": null,
      "outputs": [
        {
          "output_type": "stream",
          "text": [
            "7.0 -1.0\n"
          ],
          "name": "stdout"
        }
      ]
    },
    {
      "cell_type": "code",
      "metadata": {
        "id": "Pra2w60uo9T6"
      },
      "source": [
        "#Step 3: Capping and Flooring\n",
        "main_data_imputed['Available Extra Rooms in Hospital']=np.where(main_data_imputed['Available Extra Rooms in Hospital']>upper_rooms,upper_rooms,main_data_imputed['Available Extra Rooms in Hospital'])\n",
        "main_data_imputed['Available Extra Rooms in Hospital']=np.where(main_data_imputed['Available Extra Rooms in Hospital']<lower_rooms,lower_rooms,main_data_imputed['Available Extra Rooms in Hospital'])"
      ],
      "execution_count": null,
      "outputs": []
    },
    {
      "cell_type": "code",
      "metadata": {
        "id": "6kspk8X-o9T9",
        "colab": {
          "base_uri": "https://localhost:8080/",
          "height": 296
        },
        "outputId": "ffa8deb5-f5ee-4438-8a1b-58474b495b5c"
      },
      "source": [
        "sns.boxplot(main_data_imputed['Available Extra Rooms in Hospital'])"
      ],
      "execution_count": null,
      "outputs": [
        {
          "output_type": "execute_result",
          "data": {
            "text/plain": [
              "<matplotlib.axes._subplots.AxesSubplot at 0x7f4d27cda780>"
            ]
          },
          "metadata": {
            "tags": []
          },
          "execution_count": 221
        },
        {
          "output_type": "display_data",
          "data": {
            "image/png": "[encoded data removed]",
            "text/plain": [
              "<Figure size 432x288 with 1 Axes>"
            ]
          },
          "metadata": {
            "tags": [],
            "needs_background": "light"
          }
        }
      ]
    },
    {
      "cell_type": "code",
      "metadata": {
        "id": "18vNoeNomA3k",
        "colab": {
          "base_uri": "https://localhost:8080/",
          "height": 296
        },
        "outputId": "6ac5111a-ed95-4a10-9b26-03ff2736b461"
      },
      "source": [
        "sns.distplot(main_data_imputed['Available Extra Rooms in Hospital'])"
      ],
      "execution_count": null,
      "outputs": [
        {
          "output_type": "execute_result",
          "data": {
            "text/plain": [
              "<matplotlib.axes._subplots.AxesSubplot at 0x7f4d26c31eb8>"
            ]
          },
          "metadata": {
            "tags": []
          },
          "execution_count": 238
        },
        {
          "output_type": "display_data",
          "data": {
            "image/png": "[encoded data removed]",
            "text/plain": [
              "<Figure size 432x288 with 1 Axes>"
            ]
          },
          "metadata": {
            "tags": [],
            "needs_background": "light"
          }
        }
      ]
    },
    {
      "cell_type": "code",
      "metadata": {
        "id": "GSXCwJqVgXnZ",
        "colab": {
          "base_uri": "https://localhost:8080/",
          "height": 136
        },
        "outputId": "ca812490-6f34-4b2f-8278-c4de8403c48c"
      },
      "source": [
        "main_data_imputed.columns"
      ],
      "execution_count": null,
      "outputs": [
        {
          "output_type": "execute_result",
          "data": {
            "text/plain": [
              "Index(['Hospital_code', 'Hospital_type_code', 'City_Code_Hospital',\n",
              "       'Hospital_region_code', 'Department', 'Ward_Type', 'Ward_Facility_Code',\n",
              "       'Bed Grade', 'City_Code_Patient', 'Type of Admission',\n",
              "       'Severity of Illness', 'Age', 'Stay',\n",
              "       'Available Extra Rooms in Hospital', 'patientid',\n",
              "       'Visitors with Patient', 'Admission_Deposit'],\n",
              "      dtype='object')"
            ]
          },
          "metadata": {
            "tags": []
          },
          "execution_count": 222
        }
      ]
    },
    {
      "cell_type": "code",
      "metadata": {
        "id": "N6Im5ih5ebwN",
        "colab": {
          "base_uri": "https://localhost:8080/",
          "height": 297
        },
        "outputId": "d2dea22b-4ece-4585-ebb7-df4992402d6e"
      },
      "source": [
        "# Distribution of labels\n",
        "sns.countplot(main_data_imputed['Hospital_type_code'])"
      ],
      "execution_count": null,
      "outputs": [
        {
          "output_type": "execute_result",
          "data": {
            "text/plain": [
              "<matplotlib.axes._subplots.AxesSubplot at 0x7f4d27c41b00>"
            ]
          },
          "metadata": {
            "tags": []
          },
          "execution_count": 223
        },
        {
          "output_type": "display_data",
          "data": {
            "image/png": "[encoded data removed]",
            "text/plain": [
              "<Figure size 432x288 with 1 Axes>"
            ]
          },
          "metadata": {
            "tags": [],
            "needs_background": "light"
          }
        }
      ]
    },
    {
      "cell_type": "code",
      "metadata": {
        "id": "U3vkHLs0ggxd",
        "colab": {
          "base_uri": "https://localhost:8080/",
          "height": 297
        },
        "outputId": "b9c4795c-22ef-49f8-be5b-b969afa9fa01"
      },
      "source": [
        "# Distribution of labels\n",
        "sns.countplot(main_data_imputed['Hospital_region_code'])"
      ],
      "execution_count": null,
      "outputs": [
        {
          "output_type": "execute_result",
          "data": {
            "text/plain": [
              "<matplotlib.axes._subplots.AxesSubplot at 0x7f4d27318320>"
            ]
          },
          "metadata": {
            "tags": []
          },
          "execution_count": 224
        },
        {
          "output_type": "display_data",
          "data": {
            "image/png": "[encoded data removed]",
            "text/plain": [
              "<Figure size 432x288 with 1 Axes>"
            ]
          },
          "metadata": {
            "tags": [],
            "needs_background": "light"
          }
        }
      ]
    },
    {
      "cell_type": "code",
      "metadata": {
        "id": "0Ciezmipgpmm",
        "colab": {
          "base_uri": "https://localhost:8080/",
          "height": 296
        },
        "outputId": "6a2f0c4d-9d70-4ccb-9973-235d14e9c064"
      },
      "source": [
        "sns.countplot(main_data_imputed['Department'])"
      ],
      "execution_count": null,
      "outputs": [
        {
          "output_type": "execute_result",
          "data": {
            "text/plain": [
              "<matplotlib.axes._subplots.AxesSubplot at 0x7f4d27318c50>"
            ]
          },
          "metadata": {
            "tags": []
          },
          "execution_count": 225
        },
        {
          "output_type": "display_data",
          "data": {
            "image/png": "[encoded data removed]",
            "text/plain": [
              "<Figure size 432x288 with 1 Axes>"
            ]
          },
          "metadata": {
            "tags": [],
            "needs_background": "light"
          }
        }
      ]
    },
    {
      "cell_type": "code",
      "metadata": {
        "id": "EQilXlfUgyjU",
        "colab": {
          "base_uri": "https://localhost:8080/",
          "height": 297
        },
        "outputId": "e1f84783-cfc7-4269-f163-43a75bd3cc3c"
      },
      "source": [
        "sns.countplot(main_data_imputed['Ward_Type'])"
      ],
      "execution_count": null,
      "outputs": [
        {
          "output_type": "execute_result",
          "data": {
            "text/plain": [
              "<matplotlib.axes._subplots.AxesSubplot at 0x7f4d27249ef0>"
            ]
          },
          "metadata": {
            "tags": []
          },
          "execution_count": 226
        },
        {
          "output_type": "display_data",
          "data": {
            "image/png": "[encoded data removed]",
            "text/plain": [
              "<Figure size 432x288 with 1 Axes>"
            ]
          },
          "metadata": {
            "tags": [],
            "needs_background": "light"
          }
        }
      ]
    },
    {
      "cell_type": "code",
      "metadata": {
        "id": "wWKwL6wCg-4G",
        "colab": {
          "base_uri": "https://localhost:8080/",
          "height": 297
        },
        "outputId": "7755019c-7fdd-4d66-fa6e-ab667cebe6f7"
      },
      "source": [
        "sns.countplot(main_data_imputed['Ward_Facility_Code'])"
      ],
      "execution_count": null,
      "outputs": [
        {
          "output_type": "execute_result",
          "data": {
            "text/plain": [
              "<matplotlib.axes._subplots.AxesSubplot at 0x7f4d27221588>"
            ]
          },
          "metadata": {
            "tags": []
          },
          "execution_count": 227
        },
        {
          "output_type": "display_data",
          "data": {
            "image/png": "[encoded data removed]",
            "text/plain": [
              "<Figure size 432x288 with 1 Axes>"
            ]
          },
          "metadata": {
            "tags": [],
            "needs_background": "light"
          }
        }
      ]
    },
    {
      "cell_type": "code",
      "metadata": {
        "id": "xurF-Q12hKwg",
        "colab": {
          "base_uri": "https://localhost:8080/",
          "height": 296
        },
        "outputId": "81b5b93b-af9c-4cb3-ad26-322764fb0e14"
      },
      "source": [
        "sns.countplot(main_data_imputed['Type of Admission'])"
      ],
      "execution_count": null,
      "outputs": [
        {
          "output_type": "execute_result",
          "data": {
            "text/plain": [
              "<matplotlib.axes._subplots.AxesSubplot at 0x7f4d271570f0>"
            ]
          },
          "metadata": {
            "tags": []
          },
          "execution_count": 229
        },
        {
          "output_type": "display_data",
          "data": {
            "image/png": "[encoded data removed]",
            "text/plain": [
              "<Figure size 432x288 with 1 Axes>"
            ]
          },
          "metadata": {
            "tags": [],
            "needs_background": "light"
          }
        }
      ]
    },
    {
      "cell_type": "code",
      "metadata": {
        "id": "dKPUQDbdhUTn",
        "colab": {
          "base_uri": "https://localhost:8080/",
          "height": 296
        },
        "outputId": "cda988f0-a2d3-4414-b79b-b67d28e02bbf"
      },
      "source": [
        "sns.countplot(main_data_imputed['Severity of Illness'])"
      ],
      "execution_count": null,
      "outputs": [
        {
          "output_type": "execute_result",
          "data": {
            "text/plain": [
              "<matplotlib.axes._subplots.AxesSubplot at 0x7f4d27127b00>"
            ]
          },
          "metadata": {
            "tags": []
          },
          "execution_count": 230
        },
        {
          "output_type": "display_data",
          "data": {
            "image/png": "[encoded data removed]",
            "text/plain": [
              "<Figure size 432x288 with 1 Axes>"
            ]
          },
          "metadata": {
            "tags": [],
            "needs_background": "light"
          }
        }
      ]
    },
    {
      "cell_type": "code",
      "metadata": {
        "id": "neRbMWssiNH1",
        "colab": {
          "base_uri": "https://localhost:8080/",
          "height": 296
        },
        "outputId": "2bcb4b8a-c5ee-4de0-fb2b-a4441c9a06b5"
      },
      "source": [
        "sns.countplot(main_data_imputed['Age'])"
      ],
      "execution_count": null,
      "outputs": [
        {
          "output_type": "execute_result",
          "data": {
            "text/plain": [
              "<matplotlib.axes._subplots.AxesSubplot at 0x7f4d270206d8>"
            ]
          },
          "metadata": {
            "tags": []
          },
          "execution_count": 232
        },
        {
          "output_type": "display_data",
          "data": {
            "image/png": "[encoded data removed]",
            "text/plain": [
              "<Figure size 432x288 with 1 Axes>"
            ]
          },
          "metadata": {
            "tags": [],
            "needs_background": "light"
          }
        }
      ]
    },
    {
      "cell_type": "code",
      "metadata": {
        "id": "MloM_7fpjHvs",
        "colab": {
          "base_uri": "https://localhost:8080/",
          "height": 296
        },
        "outputId": "6deb86a0-577b-463e-d582-d83f0f70e9f7"
      },
      "source": [
        "sns.countplot(main_data_imputed['Stay'])"
      ],
      "execution_count": null,
      "outputs": [
        {
          "output_type": "execute_result",
          "data": {
            "text/plain": [
              "<matplotlib.axes._subplots.AxesSubplot at 0x7f4d26f8da58>"
            ]
          },
          "metadata": {
            "tags": []
          },
          "execution_count": 233
        },
        {
          "output_type": "display_data",
          "data": {
            "image/png": "[encoded data removed]",
            "text/plain": [
              "<Figure size 432x288 with 1 Axes>"
            ]
          },
          "metadata": {
            "tags": [],
            "needs_background": "light"
          }
        }
      ]
    },
    {
      "cell_type": "code",
      "metadata": {
        "id": "kZVsOJrAj6ZE",
        "colab": {
          "base_uri": "https://localhost:8080/",
          "height": 297
        },
        "outputId": "55b6fb47-41d3-4ebf-fbb1-a97369c3029a"
      },
      "source": [
        "sns.countplot(main_data_imputed['Hospital_code'])"
      ],
      "execution_count": null,
      "outputs": [
        {
          "output_type": "execute_result",
          "data": {
            "text/plain": [
              "<matplotlib.axes._subplots.AxesSubplot at 0x7f4d28ac9d30>"
            ]
          },
          "metadata": {
            "tags": []
          },
          "execution_count": 234
        },
        {
          "output_type": "display_data",
          "data": {
            "image/png": "[encoded data removed]",
            "text/plain": [
              "<Figure size 432x288 with 1 Axes>"
            ]
          },
          "metadata": {
            "tags": [],
            "needs_background": "light"
          }
        }
      ]
    },
    {
      "cell_type": "code",
      "metadata": {
        "id": "amGjLkubru-4",
        "colab": {
          "base_uri": "https://localhost:8080/",
          "height": 297
        },
        "outputId": "45e7ff7d-1de1-40bf-cae1-824f67bc3476"
      },
      "source": [
        "sns.countplot(main_data_imputed['City_Code_Hospital'])"
      ],
      "execution_count": null,
      "outputs": [
        {
          "output_type": "execute_result",
          "data": {
            "text/plain": [
              "<matplotlib.axes._subplots.AxesSubplot at 0x7f4d26e3c2b0>"
            ]
          },
          "metadata": {
            "tags": []
          },
          "execution_count": 235
        },
        {
          "output_type": "display_data",
          "data": {
            "image/png": "[encoded data removed]",
            "text/plain": [
              "<Figure size 432x288 with 1 Axes>"
            ]
          },
          "metadata": {
            "tags": [],
            "needs_background": "light"
          }
        }
      ]
    },
    {
      "cell_type": "code",
      "metadata": {
        "id": "BcjPLyenr3Te",
        "colab": {
          "base_uri": "https://localhost:8080/",
          "height": 296
        },
        "outputId": "0ff8ee1c-6435-40ac-b48b-fbb8970bcbf1"
      },
      "source": [
        "sns.countplot(main_data_imputed['Bed Grade'])"
      ],
      "execution_count": null,
      "outputs": [
        {
          "output_type": "execute_result",
          "data": {
            "text/plain": [
              "<matplotlib.axes._subplots.AxesSubplot at 0x7f4d26d7eda0>"
            ]
          },
          "metadata": {
            "tags": []
          },
          "execution_count": 236
        },
        {
          "output_type": "display_data",
          "data": {
            "image/png": "[encoded data removed]",
            "text/plain": [
              "<Figure size 432x288 with 1 Axes>"
            ]
          },
          "metadata": {
            "tags": [],
            "needs_background": "light"
          }
        }
      ]
    },
    {
      "cell_type": "code",
      "metadata": {
        "id": "csJBtY1CsG7X",
        "colab": {
          "base_uri": "https://localhost:8080/",
          "height": 297
        },
        "outputId": "6b296fce-329b-475f-967d-7484093155c5"
      },
      "source": [
        "sns.countplot(main_data_imputed['City_Code_Patient'])"
      ],
      "execution_count": null,
      "outputs": [
        {
          "output_type": "execute_result",
          "data": {
            "text/plain": [
              "<matplotlib.axes._subplots.AxesSubplot at 0x7f4d26d710f0>"
            ]
          },
          "metadata": {
            "tags": []
          },
          "execution_count": 237
        },
        {
          "output_type": "display_data",
          "data": {
            "image/png": "[encoded data removed]",
            "text/plain": [
              "<Figure size 432x288 with 1 Axes>"
            ]
          },
          "metadata": {
            "tags": [],
            "needs_background": "light"
          }
        }
      ]
    },
    {
      "cell_type": "markdown",
      "metadata": {
        "id": "xtLMIZXk5lw5"
      },
      "source": [
        "# Multi Colinearity Treatment"
      ]
    },
    {
      "cell_type": "code",
      "metadata": {
        "id": "Sj5Zp8QAQdav",
        "colab": {
          "base_uri": "https://localhost:8080/",
          "height": 102
        },
        "outputId": "02569a67-7391-4ea1-d9bb-301d8442404c"
      },
      "source": [
        "df_num.drop('patientid', axis=1, inplace=True)"
      ],
      "execution_count": null,
      "outputs": [
        {
          "output_type": "stream",
          "text": [
            "/usr/local/lib/python3.6/dist-packages/pandas/core/frame.py:3997: SettingWithCopyWarning: \n",
            "A value is trying to be set on a copy of a slice from a DataFrame\n",
            "\n",
            "See the caveats in the documentation: https://pandas.pydata.org/pandas-docs/stable/user_guide/indexing.html#returning-a-view-versus-a-copy\n",
            "  errors=errors,\n"
          ],
          "name": "stderr"
        }
      ]
    },
    {
      "cell_type": "markdown",
      "metadata": {
        "id": "ujMILdLR5lw5"
      },
      "source": [
        "NUMERICAL-NUMERICAL"
      ]
    },
    {
      "cell_type": "code",
      "metadata": {
        "id": "DXGZEI3_5lw6",
        "colab": {
          "base_uri": "https://localhost:8080/",
          "height": 576
        },
        "outputId": "1a8de987-ce44-40d8-8d90-f16dffb9746c"
      },
      "source": [
        "#Look at the scatterplots of numerical variables- sns.pairplot\n",
        "sns.pairplot(df_num)"
      ],
      "execution_count": null,
      "outputs": [
        {
          "output_type": "execute_result",
          "data": {
            "text/plain": [
              "<seaborn.axisgrid.PairGrid at 0x7f4d20e876a0>"
            ]
          },
          "metadata": {
            "tags": []
          },
          "execution_count": 248
        },
        {
          "output_type": "display_data",
          "data": {
            "image/png": "[encoded data removed]",
            "text/plain": [
              "<Figure size 540x540 with 12 Axes>"
            ]
          },
          "metadata": {
            "tags": [],
            "needs_background": "light"
          }
        }
      ]
    },
    {
      "cell_type": "markdown",
      "metadata": {
        "id": "NK66u_pU5lw8"
      },
      "source": [
        "What kind of Correlation should we use"
      ]
    },
    {
      "cell_type": "code",
      "metadata": {
        "id": "2X0Pm-MZ5lw-",
        "colab": {
          "base_uri": "https://localhost:8080/",
          "height": 142
        },
        "outputId": "bb98952a-494f-4eb6-eefc-73f680a6fdea"
      },
      "source": [
        "#Find correlation matrix\n",
        "corr1=main_data_imputed.corr(method='spearman')\n",
        "corr1"
      ],
      "execution_count": null,
      "outputs": [
        {
          "output_type": "execute_result",
          "data": {
            "text/html": [
              "<div>\n",
              "<style scoped>\n",
              "    .dataframe tbody tr th:only-of-type {\n",
              "        vertical-align: middle;\n",
              "    }\n",
              "\n",
              "    .dataframe tbody tr th {\n",
              "        vertical-align: top;\n",
              "    }\n",
              "\n",
              "    .dataframe thead th {\n",
              "        text-align: right;\n",
              "    }\n",
              "</style>\n",
              "<table border=\"1\" class=\"dataframe\">\n",
              "  <thead>\n",
              "    <tr style=\"text-align: right;\">\n",
              "      <th></th>\n",
              "      <th>Available Extra Rooms in Hospital</th>\n",
              "      <th>Visitors with Patient</th>\n",
              "      <th>Admission_Deposit</th>\n",
              "    </tr>\n",
              "  </thead>\n",
              "  <tbody>\n",
              "    <tr>\n",
              "      <th>Available Extra Rooms in Hospital</th>\n",
              "      <td>1.000000</td>\n",
              "      <td>0.140933</td>\n",
              "      <td>-0.169918</td>\n",
              "    </tr>\n",
              "    <tr>\n",
              "      <th>Visitors with Patient</th>\n",
              "      <td>0.140933</td>\n",
              "      <td>1.000000</td>\n",
              "      <td>-0.213868</td>\n",
              "    </tr>\n",
              "    <tr>\n",
              "      <th>Admission_Deposit</th>\n",
              "      <td>-0.169918</td>\n",
              "      <td>-0.213868</td>\n",
              "      <td>1.000000</td>\n",
              "    </tr>\n",
              "  </tbody>\n",
              "</table>\n",
              "</div>"
            ],
            "text/plain": [
              "                                   Available Extra Rooms in Hospital  ...  Admission_Deposit\n",
              "Available Extra Rooms in Hospital                           1.000000  ...          -0.169918\n",
              "Visitors with Patient                                       0.140933  ...          -0.213868\n",
              "Admission_Deposit                                          -0.169918  ...           1.000000\n",
              "\n",
              "[3 rows x 3 columns]"
            ]
          },
          "metadata": {
            "tags": []
          },
          "execution_count": 249
        }
      ]
    },
    {
      "cell_type": "code",
      "metadata": {
        "id": "u_D7ceo85lxA",
        "colab": {
          "base_uri": "https://localhost:8080/",
          "height": 444
        },
        "outputId": "9dfb95c6-8623-47fc-ba79-d4cd96c1fe5c"
      },
      "source": [
        "#Create heatmap of correlation matrix\n",
        "sns.heatmap(corr1,annot=True)"
      ],
      "execution_count": null,
      "outputs": [
        {
          "output_type": "execute_result",
          "data": {
            "text/plain": [
              "<matplotlib.axes._subplots.AxesSubplot at 0x7f4d1a164a20>"
            ]
          },
          "metadata": {
            "tags": []
          },
          "execution_count": 250
        },
        {
          "output_type": "display_data",
          "data": {
            "image/png": "[encoded data removed]",
            "text/plain": [
              "<Figure size 432x288 with 2 Axes>"
            ]
          },
          "metadata": {
            "tags": [],
            "needs_background": "light"
          }
        }
      ]
    },
    {
      "cell_type": "markdown",
      "metadata": {
        "id": "J8IKcTTc5lxE"
      },
      "source": [
        "NUMERIC-CATEGORICAL (Check for Independence)"
      ]
    },
    {
      "cell_type": "code",
      "metadata": {
        "id": "BWw21cq25lxF",
        "colab": {
          "base_uri": "https://localhost:8080/",
          "height": 296
        },
        "outputId": "7916c534-a3bc-44f8-c59a-4f398f5f301a"
      },
      "source": [
        "#Let's look at multi-collinearity for numeric-categorical data\n",
        "#sns.boxplot(x=,y=)\n",
        "sns.boxplot(x=main_data_imputed['Stay'],y=main_data_imputed['Admission_Deposit'])"
      ],
      "execution_count": null,
      "outputs": [
        {
          "output_type": "execute_result",
          "data": {
            "text/plain": [
              "<matplotlib.axes._subplots.AxesSubplot at 0x7f4d19eefd68>"
            ]
          },
          "metadata": {
            "tags": []
          },
          "execution_count": 252
        },
        {
          "output_type": "display_data",
          "data": {
            "image/png": "[encoded data removed]",
            "text/plain": [
              "<Figure size 432x288 with 1 Axes>"
            ]
          },
          "metadata": {
            "tags": [],
            "needs_background": "light"
          }
        }
      ]
    },
    {
      "cell_type": "markdown",
      "metadata": {
        "id": "u2neJuKulUVM"
      },
      "source": [
        "Since the median values are neither decreaing or increasing, hence fairly independent."
      ]
    },
    {
      "cell_type": "code",
      "metadata": {
        "id": "BXt0SvnhllKY",
        "colab": {
          "base_uri": "https://localhost:8080/",
          "height": 296
        },
        "outputId": "cdae769c-5222-44cb-cc90-876279e70c75"
      },
      "source": [
        "sns.boxplot(x=main_data_imputed['Stay'],y=main_data_imputed['Visitors with Patient'])"
      ],
      "execution_count": null,
      "outputs": [
        {
          "output_type": "execute_result",
          "data": {
            "text/plain": [
              "<matplotlib.axes._subplots.AxesSubplot at 0x7f4d19ec2b00>"
            ]
          },
          "metadata": {
            "tags": []
          },
          "execution_count": 253
        },
        {
          "output_type": "display_data",
          "data": {
            "image/png": "[encoded data removed]",
            "text/plain": [
              "<Figure size 432x288 with 1 Axes>"
            ]
          },
          "metadata": {
            "tags": [],
            "needs_background": "light"
          }
        }
      ]
    },
    {
      "cell_type": "code",
      "metadata": {
        "id": "A9H_urNHlTpF",
        "colab": {
          "base_uri": "https://localhost:8080/",
          "height": 296
        },
        "outputId": "11db0b06-363b-471a-e934-ba6e9a74b03c"
      },
      "source": [
        "sns.boxplot(x=main_data_imputed['Stay'],y=main_data_imputed['Available Extra Rooms in Hospital'])"
      ],
      "execution_count": null,
      "outputs": [
        {
          "output_type": "execute_result",
          "data": {
            "text/plain": [
              "<matplotlib.axes._subplots.AxesSubplot at 0x7f4d19c94d68>"
            ]
          },
          "metadata": {
            "tags": []
          },
          "execution_count": 254
        },
        {
          "output_type": "display_data",
          "data": {
            "image/png": "[encoded data removed]",
            "text/plain": [
              "<Figure size 432x288 with 1 Axes>"
            ]
          },
          "metadata": {
            "tags": [],
            "needs_background": "light"
          }
        }
      ]
    },
    {
      "cell_type": "code",
      "metadata": {
        "id": "P_3j-g0g5lxJ"
      },
      "source": [
        "from scipy import stats\n",
        "coeff1,p1=stats.spearmanr(main_data_imputed['Stay'],main_data_imputed['Admission_Deposit'])"
      ],
      "execution_count": null,
      "outputs": []
    },
    {
      "cell_type": "code",
      "metadata": {
        "id": "PlSKH7s95lxK",
        "colab": {
          "base_uri": "https://localhost:8080/",
          "height": 34
        },
        "outputId": "4aa2cc46-8c0e-47e3-94b0-799bcbae1eab"
      },
      "source": [
        "np.round(coeff1,3)"
      ],
      "execution_count": null,
      "outputs": [
        {
          "output_type": "execute_result",
          "data": {
            "text/plain": [
              "-0.057"
            ]
          },
          "metadata": {
            "tags": []
          },
          "execution_count": 256
        }
      ]
    },
    {
      "cell_type": "code",
      "metadata": {
        "id": "BT2kgNDynEn_",
        "colab": {
          "base_uri": "https://localhost:8080/",
          "height": 34
        },
        "outputId": "299a8859-0a35-4565-b710-5ac7b840b4f8"
      },
      "source": [
        "coeff2,p1=stats.spearmanr(main_data_imputed['Stay'],main_data_imputed['Visitors with Patient'])\n",
        "np.round(coeff2,3)"
      ],
      "execution_count": null,
      "outputs": [
        {
          "output_type": "execute_result",
          "data": {
            "text/plain": [
              "0.422"
            ]
          },
          "metadata": {
            "tags": []
          },
          "execution_count": 257
        }
      ]
    },
    {
      "cell_type": "code",
      "metadata": {
        "id": "afkfXVbVnjqY",
        "colab": {
          "base_uri": "https://localhost:8080/",
          "height": 34
        },
        "outputId": "ae5a13fd-5be7-4682-e74e-d7faf4158ba5"
      },
      "source": [
        "coeff3,p1=stats.spearmanr(main_data_imputed['Stay'],main_data_imputed['Available Extra Rooms in Hospital'])\n",
        "np.round(coeff3,3)"
      ],
      "execution_count": null,
      "outputs": [
        {
          "output_type": "execute_result",
          "data": {
            "text/plain": [
              "-0.109"
            ]
          },
          "metadata": {
            "tags": []
          },
          "execution_count": 258
        }
      ]
    },
    {
      "cell_type": "code",
      "metadata": {
        "id": "VOSb4ZOF5lxM"
      },
      "source": [
        "#Categorical-Categorical\n",
        "from scipy.stats import chi2_contingency"
      ],
      "execution_count": null,
      "outputs": []
    },
    {
      "cell_type": "markdown",
      "metadata": {
        "id": "0I6Icn9657wD"
      },
      "source": [
        "Categorical-Categorical (Checking for Independence)"
      ]
    },
    {
      "cell_type": "code",
      "metadata": {
        "id": "938Bf5hj5lxS",
        "colab": {
          "base_uri": "https://localhost:8080/",
          "height": 170
        },
        "outputId": "169f573e-143d-4f98-ced7-f79d60b17f5f"
      },
      "source": [
        "cat1"
      ],
      "execution_count": null,
      "outputs": [
        {
          "output_type": "execute_result",
          "data": {
            "text/plain": [
              "['Hospital_type_code',\n",
              " 'Hospital_region_code',\n",
              " 'Department',\n",
              " 'Ward_Type',\n",
              " 'Ward_Facility_Code',\n",
              " 'City_Code_Hospital',\n",
              " 'Bed Grade',\n",
              " 'City_Code_Patient',\n",
              " 'Hospital_code']"
            ]
          },
          "metadata": {
            "tags": []
          },
          "execution_count": 259
        }
      ]
    },
    {
      "cell_type": "code",
      "metadata": {
        "id": "Fi6TtBL1vbNP",
        "colab": {
          "base_uri": "https://localhost:8080/",
          "height": 473
        },
        "outputId": "522aa705-310a-45b1-ec7e-0124d08a2027"
      },
      "source": [
        "df_cat_imputed=main_data_imputed.select_dtypes('category')\n",
        "df_cat_imputed"
      ],
      "execution_count": null,
      "outputs": [
        {
          "output_type": "execute_result",
          "data": {
            "text/html": [
              "<div>\n",
              "<style scoped>\n",
              "    .dataframe tbody tr th:only-of-type {\n",
              "        vertical-align: middle;\n",
              "    }\n",
              "\n",
              "    .dataframe tbody tr th {\n",
              "        vertical-align: top;\n",
              "    }\n",
              "\n",
              "    .dataframe thead th {\n",
              "        text-align: right;\n",
              "    }\n",
              "</style>\n",
              "<table border=\"1\" class=\"dataframe\">\n",
              "  <thead>\n",
              "    <tr style=\"text-align: right;\">\n",
              "      <th></th>\n",
              "      <th>Hospital_code</th>\n",
              "      <th>Hospital_type_code</th>\n",
              "      <th>City_Code_Hospital</th>\n",
              "      <th>Hospital_region_code</th>\n",
              "      <th>Department</th>\n",
              "      <th>Ward_Type</th>\n",
              "      <th>Ward_Facility_Code</th>\n",
              "      <th>Bed Grade</th>\n",
              "      <th>City_Code_Patient</th>\n",
              "      <th>Type of Admission</th>\n",
              "      <th>Severity of Illness</th>\n",
              "      <th>Age</th>\n",
              "      <th>Stay</th>\n",
              "    </tr>\n",
              "  </thead>\n",
              "  <tbody>\n",
              "    <tr>\n",
              "      <th>0</th>\n",
              "      <td>30.0</td>\n",
              "      <td>2.0</td>\n",
              "      <td>5.0</td>\n",
              "      <td>2.0</td>\n",
              "      <td>3.0</td>\n",
              "      <td>2.0</td>\n",
              "      <td>5.0</td>\n",
              "      <td>1.0</td>\n",
              "      <td>34.0</td>\n",
              "      <td>0.0</td>\n",
              "      <td>0.0</td>\n",
              "      <td>5.0</td>\n",
              "      <td>0.0</td>\n",
              "    </tr>\n",
              "    <tr>\n",
              "      <th>1</th>\n",
              "      <td>11.0</td>\n",
              "      <td>2.0</td>\n",
              "      <td>7.0</td>\n",
              "      <td>2.0</td>\n",
              "      <td>3.0</td>\n",
              "      <td>3.0</td>\n",
              "      <td>5.0</td>\n",
              "      <td>1.0</td>\n",
              "      <td>34.0</td>\n",
              "      <td>1.0</td>\n",
              "      <td>0.0</td>\n",
              "      <td>5.0</td>\n",
              "      <td>4.0</td>\n",
              "    </tr>\n",
              "    <tr>\n",
              "      <th>2</th>\n",
              "      <td>1.0</td>\n",
              "      <td>4.0</td>\n",
              "      <td>0.0</td>\n",
              "      <td>0.0</td>\n",
              "      <td>1.0</td>\n",
              "      <td>3.0</td>\n",
              "      <td>4.0</td>\n",
              "      <td>1.0</td>\n",
              "      <td>34.0</td>\n",
              "      <td>1.0</td>\n",
              "      <td>0.0</td>\n",
              "      <td>5.0</td>\n",
              "      <td>3.0</td>\n",
              "    </tr>\n",
              "    <tr>\n",
              "      <th>3</th>\n",
              "      <td>18.0</td>\n",
              "      <td>1.0</td>\n",
              "      <td>4.0</td>\n",
              "      <td>1.0</td>\n",
              "      <td>3.0</td>\n",
              "      <td>2.0</td>\n",
              "      <td>3.0</td>\n",
              "      <td>1.0</td>\n",
              "      <td>34.0</td>\n",
              "      <td>1.0</td>\n",
              "      <td>0.0</td>\n",
              "      <td>5.0</td>\n",
              "      <td>4.0</td>\n",
              "    </tr>\n",
              "    <tr>\n",
              "      <th>4</th>\n",
              "      <td>18.0</td>\n",
              "      <td>1.0</td>\n",
              "      <td>4.0</td>\n",
              "      <td>1.0</td>\n",
              "      <td>3.0</td>\n",
              "      <td>3.0</td>\n",
              "      <td>3.0</td>\n",
              "      <td>1.0</td>\n",
              "      <td>34.0</td>\n",
              "      <td>1.0</td>\n",
              "      <td>0.0</td>\n",
              "      <td>5.0</td>\n",
              "      <td>4.0</td>\n",
              "    </tr>\n",
              "    <tr>\n",
              "      <th>...</th>\n",
              "      <td>...</td>\n",
              "      <td>...</td>\n",
              "      <td>...</td>\n",
              "      <td>...</td>\n",
              "      <td>...</td>\n",
              "      <td>...</td>\n",
              "      <td>...</td>\n",
              "      <td>...</td>\n",
              "      <td>...</td>\n",
              "      <td>...</td>\n",
              "      <td>...</td>\n",
              "      <td>...</td>\n",
              "      <td>...</td>\n",
              "    </tr>\n",
              "    <tr>\n",
              "      <th>318309</th>\n",
              "      <td>28.0</td>\n",
              "      <td>0.0</td>\n",
              "      <td>8.0</td>\n",
              "      <td>0.0</td>\n",
              "      <td>3.0</td>\n",
              "      <td>1.0</td>\n",
              "      <td>5.0</td>\n",
              "      <td>3.0</td>\n",
              "      <td>14.0</td>\n",
              "      <td>0.0</td>\n",
              "      <td>2.0</td>\n",
              "      <td>4.0</td>\n",
              "      <td>1.0</td>\n",
              "    </tr>\n",
              "    <tr>\n",
              "      <th>318310</th>\n",
              "      <td>16.0</td>\n",
              "      <td>0.0</td>\n",
              "      <td>0.0</td>\n",
              "      <td>0.0</td>\n",
              "      <td>1.0</td>\n",
              "      <td>1.0</td>\n",
              "      <td>4.0</td>\n",
              "      <td>3.0</td>\n",
              "      <td>35.0</td>\n",
              "      <td>2.0</td>\n",
              "      <td>2.0</td>\n",
              "      <td>8.0</td>\n",
              "      <td>3.0</td>\n",
              "    </tr>\n",
              "    <tr>\n",
              "      <th>318311</th>\n",
              "      <td>29.0</td>\n",
              "      <td>0.0</td>\n",
              "      <td>6.0</td>\n",
              "      <td>0.0</td>\n",
              "      <td>2.0</td>\n",
              "      <td>2.0</td>\n",
              "      <td>5.0</td>\n",
              "      <td>3.0</td>\n",
              "      <td>1.0</td>\n",
              "      <td>0.0</td>\n",
              "      <td>1.0</td>\n",
              "      <td>7.0</td>\n",
              "      <td>1.0</td>\n",
              "    </tr>\n",
              "    <tr>\n",
              "      <th>318312</th>\n",
              "      <td>2.0</td>\n",
              "      <td>1.0</td>\n",
              "      <td>4.0</td>\n",
              "      <td>1.0</td>\n",
              "      <td>1.0</td>\n",
              "      <td>1.0</td>\n",
              "      <td>3.0</td>\n",
              "      <td>2.0</td>\n",
              "      <td>35.0</td>\n",
              "      <td>1.0</td>\n",
              "      <td>1.0</td>\n",
              "      <td>1.0</td>\n",
              "      <td>1.0</td>\n",
              "    </tr>\n",
              "    <tr>\n",
              "      <th>318313</th>\n",
              "      <td>10.0</td>\n",
              "      <td>0.0</td>\n",
              "      <td>9.0</td>\n",
              "      <td>1.0</td>\n",
              "      <td>2.0</td>\n",
              "      <td>1.0</td>\n",
              "      <td>2.0</td>\n",
              "      <td>1.0</td>\n",
              "      <td>35.0</td>\n",
              "      <td>0.0</td>\n",
              "      <td>1.0</td>\n",
              "      <td>1.0</td>\n",
              "      <td>0.0</td>\n",
              "    </tr>\n",
              "  </tbody>\n",
              "</table>\n",
              "<p>318314 rows × 13 columns</p>\n",
              "</div>"
            ],
            "text/plain": [
              "       Hospital_code Hospital_type_code  ...  Age Stay\n",
              "0               30.0                2.0  ...  5.0  0.0\n",
              "1               11.0                2.0  ...  5.0  4.0\n",
              "2                1.0                4.0  ...  5.0  3.0\n",
              "3               18.0                1.0  ...  5.0  4.0\n",
              "4               18.0                1.0  ...  5.0  4.0\n",
              "...              ...                ...  ...  ...  ...\n",
              "318309          28.0                0.0  ...  4.0  1.0\n",
              "318310          16.0                0.0  ...  8.0  3.0\n",
              "318311          29.0                0.0  ...  7.0  1.0\n",
              "318312           2.0                1.0  ...  1.0  1.0\n",
              "318313          10.0                0.0  ...  1.0  0.0\n",
              "\n",
              "[318314 rows x 13 columns]"
            ]
          },
          "metadata": {
            "tags": []
          },
          "execution_count": 261
        }
      ]
    },
    {
      "cell_type": "code",
      "metadata": {
        "id": "k9xF22ZUv9l7"
      },
      "source": [
        "def cramers_V(var1,var2) :\n",
        "  matrix1=pd.crosstab(df_cat_imputed[var1],df_cat_imputed[var2])\n",
        "  chi2,r,dof,matrix=chi2_contingency(matrix1)\n",
        "  n = matrix1.sum().sum() \n",
        "  phi2 = chi2/n \n",
        "  r,k = matrix1.shape \n",
        "  phi2corr = max(0, phi2 - ((k-1)*(r-1))/(n-1))    \n",
        "  rcorr = r - ((r-1)**2)/(n-1)\n",
        "  kcorr = k - ((k-1)**2)/(n-1)\n",
        "  cram_v=np.sqrt(phi2corr / min( (kcorr-1), (rcorr-1)))\n",
        "  return cram_v\n",
        "\n",
        "  \n"
      ],
      "execution_count": null,
      "outputs": []
    },
    {
      "cell_type": "code",
      "metadata": {
        "id": "KV1cmPtjyF-S",
        "colab": {
          "base_uri": "https://localhost:8080/",
          "height": 506
        },
        "outputId": "0fcc46f1-42d3-4f22-a6d6-77cbca9d5c5f"
      },
      "source": [
        "rows= []\n",
        "\n",
        "for var1 in df_cat_imputed:\n",
        "  col = []\n",
        "  for var2 in df_cat_imputed :\n",
        "    cramers =cramers_V(var1,var2)\n",
        "    col.append(round(cramers,3)) # Keeping of the rounded value of the Cramer's V  \n",
        "  rows.append(col)\n",
        "  \n",
        "cramers_results = np.array(rows)\n",
        "df_cramersV = pd.DataFrame(cramers_results, columns = df_cat_imputed.columns, index =df_cat_imputed.columns)\n",
        "\n",
        "df_cramersV"
      ],
      "execution_count": null,
      "outputs": [
        {
          "output_type": "execute_result",
          "data": {
            "text/html": [
              "<div>\n",
              "<style scoped>\n",
              "    .dataframe tbody tr th:only-of-type {\n",
              "        vertical-align: middle;\n",
              "    }\n",
              "\n",
              "    .dataframe tbody tr th {\n",
              "        vertical-align: top;\n",
              "    }\n",
              "\n",
              "    .dataframe thead th {\n",
              "        text-align: right;\n",
              "    }\n",
              "</style>\n",
              "<table border=\"1\" class=\"dataframe\">\n",
              "  <thead>\n",
              "    <tr style=\"text-align: right;\">\n",
              "      <th></th>\n",
              "      <th>Hospital_code</th>\n",
              "      <th>Hospital_type_code</th>\n",
              "      <th>City_Code_Hospital</th>\n",
              "      <th>Hospital_region_code</th>\n",
              "      <th>Department</th>\n",
              "      <th>Ward_Type</th>\n",
              "      <th>Ward_Facility_Code</th>\n",
              "      <th>Bed Grade</th>\n",
              "      <th>City_Code_Patient</th>\n",
              "      <th>Type of Admission</th>\n",
              "      <th>Severity of Illness</th>\n",
              "      <th>Age</th>\n",
              "      <th>Stay</th>\n",
              "    </tr>\n",
              "  </thead>\n",
              "  <tbody>\n",
              "    <tr>\n",
              "      <th>Hospital_code</th>\n",
              "      <td>1.000</td>\n",
              "      <td>1.000</td>\n",
              "      <td>1.000</td>\n",
              "      <td>1.000</td>\n",
              "      <td>0.083</td>\n",
              "      <td>0.385</td>\n",
              "      <td>1.000</td>\n",
              "      <td>0.121</td>\n",
              "      <td>0.130</td>\n",
              "      <td>0.259</td>\n",
              "      <td>0.062</td>\n",
              "      <td>0.022</td>\n",
              "      <td>0.075</td>\n",
              "    </tr>\n",
              "    <tr>\n",
              "      <th>Hospital_type_code</th>\n",
              "      <td>1.000</td>\n",
              "      <td>1.000</td>\n",
              "      <td>0.744</td>\n",
              "      <td>0.739</td>\n",
              "      <td>0.031</td>\n",
              "      <td>0.187</td>\n",
              "      <td>0.657</td>\n",
              "      <td>0.046</td>\n",
              "      <td>0.170</td>\n",
              "      <td>0.092</td>\n",
              "      <td>0.013</td>\n",
              "      <td>0.014</td>\n",
              "      <td>0.054</td>\n",
              "    </tr>\n",
              "    <tr>\n",
              "      <th>City_Code_Hospital</th>\n",
              "      <td>1.000</td>\n",
              "      <td>0.744</td>\n",
              "      <td>1.000</td>\n",
              "      <td>1.000</td>\n",
              "      <td>0.070</td>\n",
              "      <td>0.252</td>\n",
              "      <td>0.985</td>\n",
              "      <td>0.099</td>\n",
              "      <td>0.222</td>\n",
              "      <td>0.198</td>\n",
              "      <td>0.050</td>\n",
              "      <td>0.017</td>\n",
              "      <td>0.051</td>\n",
              "    </tr>\n",
              "    <tr>\n",
              "      <th>Hospital_region_code</th>\n",
              "      <td>1.000</td>\n",
              "      <td>0.739</td>\n",
              "      <td>1.000</td>\n",
              "      <td>1.000</td>\n",
              "      <td>0.057</td>\n",
              "      <td>0.192</td>\n",
              "      <td>0.847</td>\n",
              "      <td>0.077</td>\n",
              "      <td>0.378</td>\n",
              "      <td>0.096</td>\n",
              "      <td>0.039</td>\n",
              "      <td>0.018</td>\n",
              "      <td>0.043</td>\n",
              "    </tr>\n",
              "    <tr>\n",
              "      <th>Department</th>\n",
              "      <td>0.083</td>\n",
              "      <td>0.031</td>\n",
              "      <td>0.070</td>\n",
              "      <td>0.057</td>\n",
              "      <td>1.000</td>\n",
              "      <td>0.021</td>\n",
              "      <td>0.058</td>\n",
              "      <td>0.089</td>\n",
              "      <td>0.040</td>\n",
              "      <td>0.104</td>\n",
              "      <td>0.036</td>\n",
              "      <td>0.084</td>\n",
              "      <td>0.035</td>\n",
              "    </tr>\n",
              "    <tr>\n",
              "      <th>Ward_Type</th>\n",
              "      <td>0.385</td>\n",
              "      <td>0.187</td>\n",
              "      <td>0.252</td>\n",
              "      <td>0.192</td>\n",
              "      <td>0.021</td>\n",
              "      <td>1.000</td>\n",
              "      <td>0.170</td>\n",
              "      <td>0.022</td>\n",
              "      <td>0.075</td>\n",
              "      <td>0.060</td>\n",
              "      <td>0.021</td>\n",
              "      <td>0.030</td>\n",
              "      <td>0.107</td>\n",
              "    </tr>\n",
              "    <tr>\n",
              "      <th>Ward_Facility_Code</th>\n",
              "      <td>1.000</td>\n",
              "      <td>0.657</td>\n",
              "      <td>0.985</td>\n",
              "      <td>0.847</td>\n",
              "      <td>0.058</td>\n",
              "      <td>0.170</td>\n",
              "      <td>1.000</td>\n",
              "      <td>0.096</td>\n",
              "      <td>0.237</td>\n",
              "      <td>0.196</td>\n",
              "      <td>0.048</td>\n",
              "      <td>0.017</td>\n",
              "      <td>0.068</td>\n",
              "    </tr>\n",
              "    <tr>\n",
              "      <th>Bed Grade</th>\n",
              "      <td>0.121</td>\n",
              "      <td>0.046</td>\n",
              "      <td>0.099</td>\n",
              "      <td>0.077</td>\n",
              "      <td>0.089</td>\n",
              "      <td>0.022</td>\n",
              "      <td>0.096</td>\n",
              "      <td>1.000</td>\n",
              "      <td>0.062</td>\n",
              "      <td>0.110</td>\n",
              "      <td>0.271</td>\n",
              "      <td>0.071</td>\n",
              "      <td>0.084</td>\n",
              "    </tr>\n",
              "    <tr>\n",
              "      <th>City_Code_Patient</th>\n",
              "      <td>0.130</td>\n",
              "      <td>0.170</td>\n",
              "      <td>0.222</td>\n",
              "      <td>0.378</td>\n",
              "      <td>0.040</td>\n",
              "      <td>0.075</td>\n",
              "      <td>0.237</td>\n",
              "      <td>0.062</td>\n",
              "      <td>1.000</td>\n",
              "      <td>0.097</td>\n",
              "      <td>0.079</td>\n",
              "      <td>0.046</td>\n",
              "      <td>0.035</td>\n",
              "    </tr>\n",
              "    <tr>\n",
              "      <th>Type of Admission</th>\n",
              "      <td>0.259</td>\n",
              "      <td>0.092</td>\n",
              "      <td>0.198</td>\n",
              "      <td>0.096</td>\n",
              "      <td>0.104</td>\n",
              "      <td>0.060</td>\n",
              "      <td>0.196</td>\n",
              "      <td>0.110</td>\n",
              "      <td>0.097</td>\n",
              "      <td>1.000</td>\n",
              "      <td>0.045</td>\n",
              "      <td>0.088</td>\n",
              "      <td>0.123</td>\n",
              "    </tr>\n",
              "    <tr>\n",
              "      <th>Severity of Illness</th>\n",
              "      <td>0.062</td>\n",
              "      <td>0.013</td>\n",
              "      <td>0.050</td>\n",
              "      <td>0.039</td>\n",
              "      <td>0.036</td>\n",
              "      <td>0.021</td>\n",
              "      <td>0.048</td>\n",
              "      <td>0.271</td>\n",
              "      <td>0.079</td>\n",
              "      <td>0.045</td>\n",
              "      <td>1.000</td>\n",
              "      <td>0.132</td>\n",
              "      <td>0.102</td>\n",
              "    </tr>\n",
              "    <tr>\n",
              "      <th>Age</th>\n",
              "      <td>0.022</td>\n",
              "      <td>0.014</td>\n",
              "      <td>0.017</td>\n",
              "      <td>0.018</td>\n",
              "      <td>0.084</td>\n",
              "      <td>0.030</td>\n",
              "      <td>0.017</td>\n",
              "      <td>0.071</td>\n",
              "      <td>0.046</td>\n",
              "      <td>0.088</td>\n",
              "      <td>0.132</td>\n",
              "      <td>1.000</td>\n",
              "      <td>0.035</td>\n",
              "    </tr>\n",
              "    <tr>\n",
              "      <th>Stay</th>\n",
              "      <td>0.075</td>\n",
              "      <td>0.054</td>\n",
              "      <td>0.051</td>\n",
              "      <td>0.043</td>\n",
              "      <td>0.035</td>\n",
              "      <td>0.107</td>\n",
              "      <td>0.068</td>\n",
              "      <td>0.084</td>\n",
              "      <td>0.035</td>\n",
              "      <td>0.123</td>\n",
              "      <td>0.102</td>\n",
              "      <td>0.035</td>\n",
              "      <td>1.000</td>\n",
              "    </tr>\n",
              "  </tbody>\n",
              "</table>\n",
              "</div>"
            ],
            "text/plain": [
              "                      Hospital_code  Hospital_type_code  ...    Age   Stay\n",
              "Hospital_code                 1.000               1.000  ...  0.022  0.075\n",
              "Hospital_type_code            1.000               1.000  ...  0.014  0.054\n",
              "City_Code_Hospital            1.000               0.744  ...  0.017  0.051\n",
              "Hospital_region_code          1.000               0.739  ...  0.018  0.043\n",
              "Department                    0.083               0.031  ...  0.084  0.035\n",
              "Ward_Type                     0.385               0.187  ...  0.030  0.107\n",
              "Ward_Facility_Code            1.000               0.657  ...  0.017  0.068\n",
              "Bed Grade                     0.121               0.046  ...  0.071  0.084\n",
              "City_Code_Patient             0.130               0.170  ...  0.046  0.035\n",
              "Type of Admission             0.259               0.092  ...  0.088  0.123\n",
              "Severity of Illness           0.062               0.013  ...  0.132  0.102\n",
              "Age                           0.022               0.014  ...  1.000  0.035\n",
              "Stay                          0.075               0.054  ...  0.035  1.000\n",
              "\n",
              "[13 rows x 13 columns]"
            ]
          },
          "metadata": {
            "tags": []
          },
          "execution_count": 265
        }
      ]
    },
    {
      "cell_type": "code",
      "metadata": {
        "id": "jptFBgb4zemM",
        "colab": {
          "base_uri": "https://localhost:8080/",
          "height": 383
        },
        "outputId": "c75873df-a46d-4125-849b-325010d3df27"
      },
      "source": [
        "sns.heatmap(df_cramersV, annot=True)"
      ],
      "execution_count": null,
      "outputs": [
        {
          "output_type": "execute_result",
          "data": {
            "text/plain": [
              "<matplotlib.axes._subplots.AxesSubplot at 0x7f4d19b60a20>"
            ]
          },
          "metadata": {
            "tags": []
          },
          "execution_count": 266
        },
        {
          "output_type": "display_data",
          "data": {
            "image/png": "[encoded data removed]",
            "text/plain": [
              "<Figure size 432x288 with 2 Axes>"
            ]
          },
          "metadata": {
            "tags": [],
            "needs_background": "light"
          }
        }
      ]
    },
    {
      "cell_type": "code",
      "metadata": {
        "id": "D4Oxjav9u-PT"
      },
      "source": [
        "main_data_imputed.drop(['Hospital_code','City_Code_Hospital','Hospital_region_code','Ward_Type'],axis=1, inplace=True)"
      ],
      "execution_count": null,
      "outputs": []
    },
    {
      "cell_type": "code",
      "metadata": {
        "id": "xCT23j5OFlAl"
      },
      "source": [
        "main_data_imputed.drop(['Ward_Facility_Code'],axis=1, inplace=True)"
      ],
      "execution_count": null,
      "outputs": []
    },
    {
      "cell_type": "markdown",
      "metadata": {
        "id": "tj_EpS528x9_"
      },
      "source": [
        "Rerunning Cramer's after dropping variables"
      ]
    },
    {
      "cell_type": "code",
      "metadata": {
        "id": "lNzoA-x27p3I",
        "colab": {
          "base_uri": "https://localhost:8080/",
          "height": 419
        },
        "outputId": "c2439dda-3347-48b6-efbb-a77eb864c3ed"
      },
      "source": [
        "df_cat_imputed=main_data_imputed.select_dtypes('category')\n",
        "df_cat_imputed"
      ],
      "execution_count": null,
      "outputs": [
        {
          "output_type": "execute_result",
          "data": {
            "text/html": [
              "<div>\n",
              "<style scoped>\n",
              "    .dataframe tbody tr th:only-of-type {\n",
              "        vertical-align: middle;\n",
              "    }\n",
              "\n",
              "    .dataframe tbody tr th {\n",
              "        vertical-align: top;\n",
              "    }\n",
              "\n",
              "    .dataframe thead th {\n",
              "        text-align: right;\n",
              "    }\n",
              "</style>\n",
              "<table border=\"1\" class=\"dataframe\">\n",
              "  <thead>\n",
              "    <tr style=\"text-align: right;\">\n",
              "      <th></th>\n",
              "      <th>Hospital_type_code</th>\n",
              "      <th>Department</th>\n",
              "      <th>Bed Grade</th>\n",
              "      <th>City_Code_Patient</th>\n",
              "      <th>Type of Admission</th>\n",
              "      <th>Severity of Illness</th>\n",
              "      <th>Age</th>\n",
              "      <th>Stay</th>\n",
              "    </tr>\n",
              "  </thead>\n",
              "  <tbody>\n",
              "    <tr>\n",
              "      <th>0</th>\n",
              "      <td>2.0</td>\n",
              "      <td>3.0</td>\n",
              "      <td>1.0</td>\n",
              "      <td>34.0</td>\n",
              "      <td>0.0</td>\n",
              "      <td>0.0</td>\n",
              "      <td>5.0</td>\n",
              "      <td>0.0</td>\n",
              "    </tr>\n",
              "    <tr>\n",
              "      <th>1</th>\n",
              "      <td>2.0</td>\n",
              "      <td>3.0</td>\n",
              "      <td>1.0</td>\n",
              "      <td>34.0</td>\n",
              "      <td>1.0</td>\n",
              "      <td>0.0</td>\n",
              "      <td>5.0</td>\n",
              "      <td>4.0</td>\n",
              "    </tr>\n",
              "    <tr>\n",
              "      <th>2</th>\n",
              "      <td>4.0</td>\n",
              "      <td>1.0</td>\n",
              "      <td>1.0</td>\n",
              "      <td>34.0</td>\n",
              "      <td>1.0</td>\n",
              "      <td>0.0</td>\n",
              "      <td>5.0</td>\n",
              "      <td>3.0</td>\n",
              "    </tr>\n",
              "    <tr>\n",
              "      <th>3</th>\n",
              "      <td>1.0</td>\n",
              "      <td>3.0</td>\n",
              "      <td>1.0</td>\n",
              "      <td>34.0</td>\n",
              "      <td>1.0</td>\n",
              "      <td>0.0</td>\n",
              "      <td>5.0</td>\n",
              "      <td>4.0</td>\n",
              "    </tr>\n",
              "    <tr>\n",
              "      <th>4</th>\n",
              "      <td>1.0</td>\n",
              "      <td>3.0</td>\n",
              "      <td>1.0</td>\n",
              "      <td>34.0</td>\n",
              "      <td>1.0</td>\n",
              "      <td>0.0</td>\n",
              "      <td>5.0</td>\n",
              "      <td>4.0</td>\n",
              "    </tr>\n",
              "    <tr>\n",
              "      <th>...</th>\n",
              "      <td>...</td>\n",
              "      <td>...</td>\n",
              "      <td>...</td>\n",
              "      <td>...</td>\n",
              "      <td>...</td>\n",
              "      <td>...</td>\n",
              "      <td>...</td>\n",
              "      <td>...</td>\n",
              "    </tr>\n",
              "    <tr>\n",
              "      <th>318309</th>\n",
              "      <td>0.0</td>\n",
              "      <td>3.0</td>\n",
              "      <td>3.0</td>\n",
              "      <td>14.0</td>\n",
              "      <td>0.0</td>\n",
              "      <td>2.0</td>\n",
              "      <td>4.0</td>\n",
              "      <td>1.0</td>\n",
              "    </tr>\n",
              "    <tr>\n",
              "      <th>318310</th>\n",
              "      <td>0.0</td>\n",
              "      <td>1.0</td>\n",
              "      <td>3.0</td>\n",
              "      <td>35.0</td>\n",
              "      <td>2.0</td>\n",
              "      <td>2.0</td>\n",
              "      <td>8.0</td>\n",
              "      <td>3.0</td>\n",
              "    </tr>\n",
              "    <tr>\n",
              "      <th>318311</th>\n",
              "      <td>0.0</td>\n",
              "      <td>2.0</td>\n",
              "      <td>3.0</td>\n",
              "      <td>1.0</td>\n",
              "      <td>0.0</td>\n",
              "      <td>1.0</td>\n",
              "      <td>7.0</td>\n",
              "      <td>1.0</td>\n",
              "    </tr>\n",
              "    <tr>\n",
              "      <th>318312</th>\n",
              "      <td>1.0</td>\n",
              "      <td>1.0</td>\n",
              "      <td>2.0</td>\n",
              "      <td>35.0</td>\n",
              "      <td>1.0</td>\n",
              "      <td>1.0</td>\n",
              "      <td>1.0</td>\n",
              "      <td>1.0</td>\n",
              "    </tr>\n",
              "    <tr>\n",
              "      <th>318313</th>\n",
              "      <td>0.0</td>\n",
              "      <td>2.0</td>\n",
              "      <td>1.0</td>\n",
              "      <td>35.0</td>\n",
              "      <td>0.0</td>\n",
              "      <td>1.0</td>\n",
              "      <td>1.0</td>\n",
              "      <td>0.0</td>\n",
              "    </tr>\n",
              "  </tbody>\n",
              "</table>\n",
              "<p>318314 rows × 8 columns</p>\n",
              "</div>"
            ],
            "text/plain": [
              "       Hospital_type_code Department Bed Grade  ... Severity of Illness  Age Stay\n",
              "0                     2.0        3.0       1.0  ...                 0.0  5.0  0.0\n",
              "1                     2.0        3.0       1.0  ...                 0.0  5.0  4.0\n",
              "2                     4.0        1.0       1.0  ...                 0.0  5.0  3.0\n",
              "3                     1.0        3.0       1.0  ...                 0.0  5.0  4.0\n",
              "4                     1.0        3.0       1.0  ...                 0.0  5.0  4.0\n",
              "...                   ...        ...       ...  ...                 ...  ...  ...\n",
              "318309                0.0        3.0       3.0  ...                 2.0  4.0  1.0\n",
              "318310                0.0        1.0       3.0  ...                 2.0  8.0  3.0\n",
              "318311                0.0        2.0       3.0  ...                 1.0  7.0  1.0\n",
              "318312                1.0        1.0       2.0  ...                 1.0  1.0  1.0\n",
              "318313                0.0        2.0       1.0  ...                 1.0  1.0  0.0\n",
              "\n",
              "[318314 rows x 8 columns]"
            ]
          },
          "metadata": {
            "tags": []
          },
          "execution_count": 299
        }
      ]
    },
    {
      "cell_type": "code",
      "metadata": {
        "id": "amLubl8F7qc1"
      },
      "source": [
        "def cramers_V(var1,var2) :\n",
        "  matrix1=pd.crosstab(df_cat_imputed[var1],df_cat_imputed[var2])\n",
        "  chi2,r,dof,matrix=chi2_contingency(matrix1)\n",
        "  n = matrix1.sum().sum() \n",
        "  phi2 = chi2/n \n",
        "  r,k = matrix1.shape \n",
        "  phi2corr = max(0, phi2 - ((k-1)*(r-1))/(n-1))    \n",
        "  rcorr = r - ((r-1)**2)/(n-1)\n",
        "  kcorr = k - ((k-1)**2)/(n-1)\n",
        "  cram_v=np.sqrt(phi2corr / min( (kcorr-1), (rcorr-1)))\n",
        "  return cram_v\n",
        "\n",
        "  \n"
      ],
      "execution_count": null,
      "outputs": []
    },
    {
      "cell_type": "code",
      "metadata": {
        "id": "NdKosTA17qdK",
        "colab": {
          "base_uri": "https://localhost:8080/",
          "height": 297
        },
        "outputId": "0fa70ce0-0c63-46df-f3da-a43a27112aba"
      },
      "source": [
        "rows= []\n",
        "\n",
        "for var1 in df_cat_imputed:\n",
        "  col = []\n",
        "  for var2 in df_cat_imputed :\n",
        "    cramers =cramers_V(var1,var2)\n",
        "    col.append(round(cramers,3)) # Keeping of the rounded value of the Cramer's V  \n",
        "  rows.append(col)\n",
        "  \n",
        "cramers_results = np.array(rows)\n",
        "df_cramersV = pd.DataFrame(cramers_results, columns = df_cat_imputed.columns, index =df_cat_imputed.columns)\n",
        "\n",
        "df_cramersV"
      ],
      "execution_count": null,
      "outputs": [
        {
          "output_type": "execute_result",
          "data": {
            "text/html": [
              "<div>\n",
              "<style scoped>\n",
              "    .dataframe tbody tr th:only-of-type {\n",
              "        vertical-align: middle;\n",
              "    }\n",
              "\n",
              "    .dataframe tbody tr th {\n",
              "        vertical-align: top;\n",
              "    }\n",
              "\n",
              "    .dataframe thead th {\n",
              "        text-align: right;\n",
              "    }\n",
              "</style>\n",
              "<table border=\"1\" class=\"dataframe\">\n",
              "  <thead>\n",
              "    <tr style=\"text-align: right;\">\n",
              "      <th></th>\n",
              "      <th>Hospital_type_code</th>\n",
              "      <th>Department</th>\n",
              "      <th>Bed Grade</th>\n",
              "      <th>City_Code_Patient</th>\n",
              "      <th>Type of Admission</th>\n",
              "      <th>Severity of Illness</th>\n",
              "      <th>Age</th>\n",
              "      <th>Stay</th>\n",
              "    </tr>\n",
              "  </thead>\n",
              "  <tbody>\n",
              "    <tr>\n",
              "      <th>Hospital_type_code</th>\n",
              "      <td>1.000</td>\n",
              "      <td>0.031</td>\n",
              "      <td>0.046</td>\n",
              "      <td>0.170</td>\n",
              "      <td>0.092</td>\n",
              "      <td>0.013</td>\n",
              "      <td>0.014</td>\n",
              "      <td>0.054</td>\n",
              "    </tr>\n",
              "    <tr>\n",
              "      <th>Department</th>\n",
              "      <td>0.031</td>\n",
              "      <td>1.000</td>\n",
              "      <td>0.089</td>\n",
              "      <td>0.040</td>\n",
              "      <td>0.104</td>\n",
              "      <td>0.036</td>\n",
              "      <td>0.084</td>\n",
              "      <td>0.035</td>\n",
              "    </tr>\n",
              "    <tr>\n",
              "      <th>Bed Grade</th>\n",
              "      <td>0.046</td>\n",
              "      <td>0.089</td>\n",
              "      <td>1.000</td>\n",
              "      <td>0.062</td>\n",
              "      <td>0.110</td>\n",
              "      <td>0.271</td>\n",
              "      <td>0.071</td>\n",
              "      <td>0.084</td>\n",
              "    </tr>\n",
              "    <tr>\n",
              "      <th>City_Code_Patient</th>\n",
              "      <td>0.170</td>\n",
              "      <td>0.040</td>\n",
              "      <td>0.062</td>\n",
              "      <td>1.000</td>\n",
              "      <td>0.097</td>\n",
              "      <td>0.079</td>\n",
              "      <td>0.046</td>\n",
              "      <td>0.035</td>\n",
              "    </tr>\n",
              "    <tr>\n",
              "      <th>Type of Admission</th>\n",
              "      <td>0.092</td>\n",
              "      <td>0.104</td>\n",
              "      <td>0.110</td>\n",
              "      <td>0.097</td>\n",
              "      <td>1.000</td>\n",
              "      <td>0.045</td>\n",
              "      <td>0.088</td>\n",
              "      <td>0.123</td>\n",
              "    </tr>\n",
              "    <tr>\n",
              "      <th>Severity of Illness</th>\n",
              "      <td>0.013</td>\n",
              "      <td>0.036</td>\n",
              "      <td>0.271</td>\n",
              "      <td>0.079</td>\n",
              "      <td>0.045</td>\n",
              "      <td>1.000</td>\n",
              "      <td>0.132</td>\n",
              "      <td>0.102</td>\n",
              "    </tr>\n",
              "    <tr>\n",
              "      <th>Age</th>\n",
              "      <td>0.014</td>\n",
              "      <td>0.084</td>\n",
              "      <td>0.071</td>\n",
              "      <td>0.046</td>\n",
              "      <td>0.088</td>\n",
              "      <td>0.132</td>\n",
              "      <td>1.000</td>\n",
              "      <td>0.035</td>\n",
              "    </tr>\n",
              "    <tr>\n",
              "      <th>Stay</th>\n",
              "      <td>0.054</td>\n",
              "      <td>0.035</td>\n",
              "      <td>0.084</td>\n",
              "      <td>0.035</td>\n",
              "      <td>0.123</td>\n",
              "      <td>0.102</td>\n",
              "      <td>0.035</td>\n",
              "      <td>1.000</td>\n",
              "    </tr>\n",
              "  </tbody>\n",
              "</table>\n",
              "</div>"
            ],
            "text/plain": [
              "                     Hospital_type_code  Department  ...    Age   Stay\n",
              "Hospital_type_code                1.000       0.031  ...  0.014  0.054\n",
              "Department                        0.031       1.000  ...  0.084  0.035\n",
              "Bed Grade                         0.046       0.089  ...  0.071  0.084\n",
              "City_Code_Patient                 0.170       0.040  ...  0.046  0.035\n",
              "Type of Admission                 0.092       0.104  ...  0.088  0.123\n",
              "Severity of Illness               0.013       0.036  ...  0.132  0.102\n",
              "Age                               0.014       0.084  ...  1.000  0.035\n",
              "Stay                              0.054       0.035  ...  0.035  1.000\n",
              "\n",
              "[8 rows x 8 columns]"
            ]
          },
          "metadata": {
            "tags": []
          },
          "execution_count": 301
        }
      ]
    },
    {
      "cell_type": "code",
      "metadata": {
        "id": "VmxP6QH58Vif",
        "colab": {
          "base_uri": "https://localhost:8080/",
          "height": 373
        },
        "outputId": "b2ac4b2a-a8f7-41ad-e963-643b59474615"
      },
      "source": [
        "sns.heatmap(df_cramersV, annot=True)"
      ],
      "execution_count": null,
      "outputs": [
        {
          "output_type": "execute_result",
          "data": {
            "text/plain": [
              "<matplotlib.axes._subplots.AxesSubplot at 0x7f4d1903e518>"
            ]
          },
          "metadata": {
            "tags": []
          },
          "execution_count": 302
        },
        {
          "output_type": "display_data",
          "data": {
            "image/png": "[encoded data removed]",
            "text/plain": [
              "<Figure size 432x288 with 2 Axes>"
            ]
          },
          "metadata": {
            "tags": [],
            "needs_background": "light"
          }
        }
      ]
    },
    {
      "cell_type": "code",
      "metadata": {
        "id": "n4AqPn4yDWP5",
        "colab": {
          "base_uri": "https://localhost:8080/",
          "height": 272
        },
        "outputId": "b93a2e7a-6745-42b7-ceda-2c0bd6e890b2"
      },
      "source": [
        "#Checking for duplicate values \n",
        "\n",
        "duplicateRowsDF = main_data_imputed[main_data_imputed.duplicated()]\n",
        "print(\"Duplicate Rows except first occurrence based on all columns are :\")\n",
        "print(duplicateRowsDF)"
      ],
      "execution_count": null,
      "outputs": [
        {
          "output_type": "stream",
          "text": [
            "Duplicate Rows except first occurrence based on all columns are :\n",
            "       Hospital_type_code Department  ... Visitors with Patient Admission_Deposit\n",
            "576                   0.0        2.0  ...                   4.0            4414.0\n",
            "5529                  1.0        2.0  ...                   2.0            7243.5\n",
            "6932                  1.0        2.0  ...                   2.0            7243.5\n",
            "7821                  0.0        1.0  ...                   4.0            7243.5\n",
            "8265                  0.0        2.0  ...                   2.0            7243.5\n",
            "...                   ...        ...  ...                   ...               ...\n",
            "315989                0.0        2.0  ...                   4.0            7243.5\n",
            "316516                0.0        2.0  ...                   2.0            4941.0\n",
            "317307                1.0        2.0  ...                   2.0            7243.5\n",
            "317679                1.0        2.0  ...                   3.0            7243.5\n",
            "317730                0.0        2.0  ...                   2.0            7243.5\n",
            "\n",
            "[807 rows x 11 columns]\n"
          ],
          "name": "stdout"
        }
      ]
    },
    {
      "cell_type": "code",
      "metadata": {
        "id": "vqM_G-GLDuhv"
      },
      "source": [
        "#Dropping duplicate rows from the main_data DataFrame\n",
        "\n",
        "main_data_imputed.drop_duplicates(keep = False, inplace = True) "
      ],
      "execution_count": null,
      "outputs": []
    },
    {
      "cell_type": "markdown",
      "metadata": {
        "id": "yJzTYpka5lx3"
      },
      "source": [
        "# Class Imbalance"
      ]
    },
    {
      "cell_type": "code",
      "metadata": {
        "id": "xmgu5RzM5lx3"
      },
      "source": [
        "#LOAD\n",
        "from imblearn.over_sampling import SMOTE"
      ],
      "execution_count": null,
      "outputs": []
    },
    {
      "cell_type": "code",
      "metadata": {
        "id": "X2qvOzhl5lx7"
      },
      "source": [
        "#INITIALIZE\n",
        "smote =SMOTE()"
      ],
      "execution_count": null,
      "outputs": []
    },
    {
      "cell_type": "code",
      "metadata": {
        "id": "0JsspHVm5lx9"
      },
      "source": [
        "#For this method we need to split the data into the feature and target variables\n",
        "x= main_data_imputed[main_data_imputed.columns.difference(['Stay'])]\n",
        "y= main_data_imputed['Stay']"
      ],
      "execution_count": null,
      "outputs": []
    },
    {
      "cell_type": "code",
      "metadata": {
        "id": "tIwzlyDd5lx_",
        "colab": {
          "base_uri": "https://localhost:8080/",
          "height": 221
        },
        "outputId": "70c3b011-7e7f-415a-8640-0d71d355fba1"
      },
      "source": [
        "x.head()"
      ],
      "execution_count": null,
      "outputs": [
        {
          "output_type": "execute_result",
          "data": {
            "text/html": [
              "<div>\n",
              "<style scoped>\n",
              "    .dataframe tbody tr th:only-of-type {\n",
              "        vertical-align: middle;\n",
              "    }\n",
              "\n",
              "    .dataframe tbody tr th {\n",
              "        vertical-align: top;\n",
              "    }\n",
              "\n",
              "    .dataframe thead th {\n",
              "        text-align: right;\n",
              "    }\n",
              "</style>\n",
              "<table border=\"1\" class=\"dataframe\">\n",
              "  <thead>\n",
              "    <tr style=\"text-align: right;\">\n",
              "      <th></th>\n",
              "      <th>Admission_Deposit</th>\n",
              "      <th>Age</th>\n",
              "      <th>Available Extra Rooms in Hospital</th>\n",
              "      <th>Bed Grade</th>\n",
              "      <th>City_Code_Patient</th>\n",
              "      <th>Department</th>\n",
              "      <th>Hospital_type_code</th>\n",
              "      <th>Severity of Illness</th>\n",
              "      <th>Type of Admission</th>\n",
              "      <th>Visitors with Patient</th>\n",
              "    </tr>\n",
              "  </thead>\n",
              "  <tbody>\n",
              "    <tr>\n",
              "      <th>0</th>\n",
              "      <td>4911.0</td>\n",
              "      <td>5.0</td>\n",
              "      <td>3.0</td>\n",
              "      <td>1.0</td>\n",
              "      <td>34.0</td>\n",
              "      <td>3.0</td>\n",
              "      <td>2.0</td>\n",
              "      <td>0.0</td>\n",
              "      <td>0.0</td>\n",
              "      <td>2.0</td>\n",
              "    </tr>\n",
              "    <tr>\n",
              "      <th>1</th>\n",
              "      <td>5954.0</td>\n",
              "      <td>5.0</td>\n",
              "      <td>2.0</td>\n",
              "      <td>1.0</td>\n",
              "      <td>34.0</td>\n",
              "      <td>3.0</td>\n",
              "      <td>2.0</td>\n",
              "      <td>0.0</td>\n",
              "      <td>1.0</td>\n",
              "      <td>2.0</td>\n",
              "    </tr>\n",
              "    <tr>\n",
              "      <th>2</th>\n",
              "      <td>4745.0</td>\n",
              "      <td>5.0</td>\n",
              "      <td>2.0</td>\n",
              "      <td>1.0</td>\n",
              "      <td>34.0</td>\n",
              "      <td>1.0</td>\n",
              "      <td>4.0</td>\n",
              "      <td>0.0</td>\n",
              "      <td>1.0</td>\n",
              "      <td>2.0</td>\n",
              "    </tr>\n",
              "    <tr>\n",
              "      <th>3</th>\n",
              "      <td>7243.5</td>\n",
              "      <td>5.0</td>\n",
              "      <td>2.0</td>\n",
              "      <td>1.0</td>\n",
              "      <td>34.0</td>\n",
              "      <td>3.0</td>\n",
              "      <td>1.0</td>\n",
              "      <td>0.0</td>\n",
              "      <td>1.0</td>\n",
              "      <td>2.0</td>\n",
              "    </tr>\n",
              "    <tr>\n",
              "      <th>4</th>\n",
              "      <td>5558.0</td>\n",
              "      <td>5.0</td>\n",
              "      <td>2.0</td>\n",
              "      <td>1.0</td>\n",
              "      <td>34.0</td>\n",
              "      <td>3.0</td>\n",
              "      <td>1.0</td>\n",
              "      <td>0.0</td>\n",
              "      <td>1.0</td>\n",
              "      <td>2.0</td>\n",
              "    </tr>\n",
              "  </tbody>\n",
              "</table>\n",
              "</div>"
            ],
            "text/plain": [
              "   Admission_Deposit  Age  ...  Type of Admission Visitors with Patient\n",
              "0             4911.0  5.0  ...                0.0                   2.0\n",
              "1             5954.0  5.0  ...                1.0                   2.0\n",
              "2             4745.0  5.0  ...                1.0                   2.0\n",
              "3             7243.5  5.0  ...                1.0                   2.0\n",
              "4             5558.0  5.0  ...                1.0                   2.0\n",
              "\n",
              "[5 rows x 10 columns]"
            ]
          },
          "metadata": {
            "tags": []
          },
          "execution_count": 308
        }
      ]
    },
    {
      "cell_type": "code",
      "metadata": {
        "id": "zWCfjMcS5lyC",
        "colab": {
          "base_uri": "https://localhost:8080/",
          "height": 136
        },
        "outputId": "55f7ac59-08a7-4077-b766-669d73073105"
      },
      "source": [
        "y.head()"
      ],
      "execution_count": null,
      "outputs": [
        {
          "output_type": "execute_result",
          "data": {
            "text/plain": [
              "0    0.0\n",
              "1    4.0\n",
              "2    3.0\n",
              "3    4.0\n",
              "4    4.0\n",
              "Name: Stay, dtype: category\n",
              "Categories (11, float64): [0.0 < 4.0 < 3.0 < 1.0 ... 10.0 < 8.0 < 6.0 < 9.0]"
            ]
          },
          "metadata": {
            "tags": []
          },
          "execution_count": 309
        }
      ]
    },
    {
      "cell_type": "code",
      "metadata": {
        "id": "iYM2WyBM5lyD",
        "colab": {
          "base_uri": "https://localhost:8080/",
          "height": 377
        },
        "outputId": "e37f5070-6040-46d7-eb1d-6064fc74c87a"
      },
      "source": [
        "#EXECUTE\n",
        "x_smote,y_smote=smote.fit_sample(x,y)"
      ],
      "execution_count": null,
      "outputs": [
        {
          "output_type": "stream",
          "text": [
            "/usr/local/lib/python3.6/dist-packages/sklearn/utils/deprecation.py:87: FutureWarning: Function safe_indexing is deprecated; safe_indexing is deprecated in version 0.22 and will be removed in version 0.24.\n",
            "  warnings.warn(msg, category=FutureWarning)\n",
            "/usr/local/lib/python3.6/dist-packages/sklearn/utils/deprecation.py:87: FutureWarning: Function safe_indexing is deprecated; safe_indexing is deprecated in version 0.22 and will be removed in version 0.24.\n",
            "  warnings.warn(msg, category=FutureWarning)\n",
            "/usr/local/lib/python3.6/dist-packages/sklearn/utils/deprecation.py:87: FutureWarning: Function safe_indexing is deprecated; safe_indexing is deprecated in version 0.22 and will be removed in version 0.24.\n",
            "  warnings.warn(msg, category=FutureWarning)\n",
            "/usr/local/lib/python3.6/dist-packages/sklearn/utils/deprecation.py:87: FutureWarning: Function safe_indexing is deprecated; safe_indexing is deprecated in version 0.22 and will be removed in version 0.24.\n",
            "  warnings.warn(msg, category=FutureWarning)\n",
            "/usr/local/lib/python3.6/dist-packages/sklearn/utils/deprecation.py:87: FutureWarning: Function safe_indexing is deprecated; safe_indexing is deprecated in version 0.22 and will be removed in version 0.24.\n",
            "  warnings.warn(msg, category=FutureWarning)\n",
            "/usr/local/lib/python3.6/dist-packages/sklearn/utils/deprecation.py:87: FutureWarning: Function safe_indexing is deprecated; safe_indexing is deprecated in version 0.22 and will be removed in version 0.24.\n",
            "  warnings.warn(msg, category=FutureWarning)\n",
            "/usr/local/lib/python3.6/dist-packages/sklearn/utils/deprecation.py:87: FutureWarning: Function safe_indexing is deprecated; safe_indexing is deprecated in version 0.22 and will be removed in version 0.24.\n",
            "  warnings.warn(msg, category=FutureWarning)\n",
            "/usr/local/lib/python3.6/dist-packages/sklearn/utils/deprecation.py:87: FutureWarning: Function safe_indexing is deprecated; safe_indexing is deprecated in version 0.22 and will be removed in version 0.24.\n",
            "  warnings.warn(msg, category=FutureWarning)\n",
            "/usr/local/lib/python3.6/dist-packages/sklearn/utils/deprecation.py:87: FutureWarning: Function safe_indexing is deprecated; safe_indexing is deprecated in version 0.22 and will be removed in version 0.24.\n",
            "  warnings.warn(msg, category=FutureWarning)\n",
            "/usr/local/lib/python3.6/dist-packages/sklearn/utils/deprecation.py:87: FutureWarning: Function safe_indexing is deprecated; safe_indexing is deprecated in version 0.22 and will be removed in version 0.24.\n",
            "  warnings.warn(msg, category=FutureWarning)\n"
          ],
          "name": "stderr"
        }
      ]
    },
    {
      "cell_type": "code",
      "metadata": {
        "id": "NDOqvqOr5lyF",
        "colab": {
          "base_uri": "https://localhost:8080/",
          "height": 282
        },
        "outputId": "8cef8004-b670-468a-8194-ce4b2a9781f9"
      },
      "source": [
        "#Check Final Distributions of lables\n",
        "sns.countplot(y_smote)"
      ],
      "execution_count": null,
      "outputs": [
        {
          "output_type": "execute_result",
          "data": {
            "text/plain": [
              "<matplotlib.axes._subplots.AxesSubplot at 0x7f4d18f458d0>"
            ]
          },
          "metadata": {
            "tags": []
          },
          "execution_count": 311
        },
        {
          "output_type": "display_data",
          "data": {
            "image/png": "[encoded data removed]",
            "text/plain": [
              "<Figure size 432x288 with 1 Axes>"
            ]
          },
          "metadata": {
            "tags": [],
            "needs_background": "light"
          }
        }
      ]
    },
    {
      "cell_type": "code",
      "metadata": {
        "id": "ZtOkyOIoWJ79"
      },
      "source": [
        "df_smoted = pd.concat([pd.DataFrame(x_smote,columns=x.columns), pd.DataFrame(y_smote, columns=['Stay'])], axis=1)"
      ],
      "execution_count": null,
      "outputs": []
    },
    {
      "cell_type": "code",
      "metadata": {
        "id": "obzoFaRoU-YT",
        "colab": {
          "base_uri": "https://localhost:8080/",
          "height": 34
        },
        "outputId": "36812522-16ec-41e5-b2d2-56997ce026af"
      },
      "source": [
        "df_smoted.shape"
      ],
      "execution_count": null,
      "outputs": [
        {
          "output_type": "execute_result",
          "data": {
            "text/plain": [
              "(954723, 11)"
            ]
          },
          "metadata": {
            "tags": []
          },
          "execution_count": 313
        }
      ]
    },
    {
      "cell_type": "code",
      "metadata": {
        "id": "uG1Sonn1VuZN",
        "colab": {
          "base_uri": "https://localhost:8080/",
          "height": 221
        },
        "outputId": "1ee4e8e2-e303-46a5-ed73-d50b7b068c5b"
      },
      "source": [
        "df_smoted.head()"
      ],
      "execution_count": null,
      "outputs": [
        {
          "output_type": "execute_result",
          "data": {
            "text/html": [
              "<div>\n",
              "<style scoped>\n",
              "    .dataframe tbody tr th:only-of-type {\n",
              "        vertical-align: middle;\n",
              "    }\n",
              "\n",
              "    .dataframe tbody tr th {\n",
              "        vertical-align: top;\n",
              "    }\n",
              "\n",
              "    .dataframe thead th {\n",
              "        text-align: right;\n",
              "    }\n",
              "</style>\n",
              "<table border=\"1\" class=\"dataframe\">\n",
              "  <thead>\n",
              "    <tr style=\"text-align: right;\">\n",
              "      <th></th>\n",
              "      <th>Admission_Deposit</th>\n",
              "      <th>Age</th>\n",
              "      <th>Available Extra Rooms in Hospital</th>\n",
              "      <th>Bed Grade</th>\n",
              "      <th>City_Code_Patient</th>\n",
              "      <th>Department</th>\n",
              "      <th>Hospital_type_code</th>\n",
              "      <th>Severity of Illness</th>\n",
              "      <th>Type of Admission</th>\n",
              "      <th>Visitors with Patient</th>\n",
              "      <th>Stay</th>\n",
              "    </tr>\n",
              "  </thead>\n",
              "  <tbody>\n",
              "    <tr>\n",
              "      <th>0</th>\n",
              "      <td>4911.0</td>\n",
              "      <td>5.0</td>\n",
              "      <td>3.0</td>\n",
              "      <td>1.0</td>\n",
              "      <td>34.0</td>\n",
              "      <td>3.0</td>\n",
              "      <td>2.0</td>\n",
              "      <td>0.0</td>\n",
              "      <td>0.0</td>\n",
              "      <td>2.0</td>\n",
              "      <td>0.0</td>\n",
              "    </tr>\n",
              "    <tr>\n",
              "      <th>1</th>\n",
              "      <td>5954.0</td>\n",
              "      <td>5.0</td>\n",
              "      <td>2.0</td>\n",
              "      <td>1.0</td>\n",
              "      <td>34.0</td>\n",
              "      <td>3.0</td>\n",
              "      <td>2.0</td>\n",
              "      <td>0.0</td>\n",
              "      <td>1.0</td>\n",
              "      <td>2.0</td>\n",
              "      <td>4.0</td>\n",
              "    </tr>\n",
              "    <tr>\n",
              "      <th>2</th>\n",
              "      <td>4745.0</td>\n",
              "      <td>5.0</td>\n",
              "      <td>2.0</td>\n",
              "      <td>1.0</td>\n",
              "      <td>34.0</td>\n",
              "      <td>1.0</td>\n",
              "      <td>4.0</td>\n",
              "      <td>0.0</td>\n",
              "      <td>1.0</td>\n",
              "      <td>2.0</td>\n",
              "      <td>3.0</td>\n",
              "    </tr>\n",
              "    <tr>\n",
              "      <th>3</th>\n",
              "      <td>7243.5</td>\n",
              "      <td>5.0</td>\n",
              "      <td>2.0</td>\n",
              "      <td>1.0</td>\n",
              "      <td>34.0</td>\n",
              "      <td>3.0</td>\n",
              "      <td>1.0</td>\n",
              "      <td>0.0</td>\n",
              "      <td>1.0</td>\n",
              "      <td>2.0</td>\n",
              "      <td>4.0</td>\n",
              "    </tr>\n",
              "    <tr>\n",
              "      <th>4</th>\n",
              "      <td>5558.0</td>\n",
              "      <td>5.0</td>\n",
              "      <td>2.0</td>\n",
              "      <td>1.0</td>\n",
              "      <td>34.0</td>\n",
              "      <td>3.0</td>\n",
              "      <td>1.0</td>\n",
              "      <td>0.0</td>\n",
              "      <td>1.0</td>\n",
              "      <td>2.0</td>\n",
              "      <td>4.0</td>\n",
              "    </tr>\n",
              "  </tbody>\n",
              "</table>\n",
              "</div>"
            ],
            "text/plain": [
              "   Admission_Deposit  Age  ...  Visitors with Patient  Stay\n",
              "0             4911.0  5.0  ...                    2.0   0.0\n",
              "1             5954.0  5.0  ...                    2.0   4.0\n",
              "2             4745.0  5.0  ...                    2.0   3.0\n",
              "3             7243.5  5.0  ...                    2.0   4.0\n",
              "4             5558.0  5.0  ...                    2.0   4.0\n",
              "\n",
              "[5 rows x 11 columns]"
            ]
          },
          "metadata": {
            "tags": []
          },
          "execution_count": 314
        }
      ]
    },
    {
      "cell_type": "code",
      "metadata": {
        "id": "n7xeYjNtVPXt",
        "colab": {
          "base_uri": "https://localhost:8080/",
          "height": 34
        },
        "outputId": "15a25f74-772e-4247-bc06-63c71ce20163"
      },
      "source": [
        "main_data_imputed.shape"
      ],
      "execution_count": null,
      "outputs": [
        {
          "output_type": "execute_result",
          "data": {
            "text/plain": [
              "(316761, 11)"
            ]
          },
          "metadata": {
            "tags": []
          },
          "execution_count": 315
        }
      ]
    },
    {
      "cell_type": "markdown",
      "metadata": {
        "id": "hkADqHfWBVlP"
      },
      "source": [
        "Creating a sample data frame for further processes"
      ]
    },
    {
      "cell_type": "code",
      "metadata": {
        "id": "5VUBzA8gBT9U",
        "colab": {
          "base_uri": "https://localhost:8080/",
          "height": 238
        },
        "outputId": "1c57c9af-cab1-4c43-cb34-dbd6bb10df72"
      },
      "source": [
        "df_sample=df_smoted.sample(frac=0.05,replace=True,random_state=1)\n",
        "df_sample.head()"
      ],
      "execution_count": null,
      "outputs": [
        {
          "output_type": "execute_result",
          "data": {
            "text/html": [
              "<div>\n",
              "<style scoped>\n",
              "    .dataframe tbody tr th:only-of-type {\n",
              "        vertical-align: middle;\n",
              "    }\n",
              "\n",
              "    .dataframe tbody tr th {\n",
              "        vertical-align: top;\n",
              "    }\n",
              "\n",
              "    .dataframe thead th {\n",
              "        text-align: right;\n",
              "    }\n",
              "</style>\n",
              "<table border=\"1\" class=\"dataframe\">\n",
              "  <thead>\n",
              "    <tr style=\"text-align: right;\">\n",
              "      <th></th>\n",
              "      <th>Admission_Deposit</th>\n",
              "      <th>Age</th>\n",
              "      <th>Available Extra Rooms in Hospital</th>\n",
              "      <th>Bed Grade</th>\n",
              "      <th>City_Code_Patient</th>\n",
              "      <th>Department</th>\n",
              "      <th>Hospital_type_code</th>\n",
              "      <th>Severity of Illness</th>\n",
              "      <th>Type of Admission</th>\n",
              "      <th>Visitors with Patient</th>\n",
              "      <th>Stay</th>\n",
              "    </tr>\n",
              "  </thead>\n",
              "  <tbody>\n",
              "    <tr>\n",
              "      <th>128037</th>\n",
              "      <td>6253.000000</td>\n",
              "      <td>2.000000</td>\n",
              "      <td>4.000000</td>\n",
              "      <td>3.000000</td>\n",
              "      <td>35.000000</td>\n",
              "      <td>1.000000</td>\n",
              "      <td>0.000000</td>\n",
              "      <td>2.000000</td>\n",
              "      <td>0.000000</td>\n",
              "      <td>4.000000</td>\n",
              "      <td>1.0</td>\n",
              "    </tr>\n",
              "    <tr>\n",
              "      <th>491755</th>\n",
              "      <td>4736.000000</td>\n",
              "      <td>3.313575</td>\n",
              "      <td>4.000000</td>\n",
              "      <td>1.156787</td>\n",
              "      <td>34.156787</td>\n",
              "      <td>2.000000</td>\n",
              "      <td>0.843213</td>\n",
              "      <td>2.000000</td>\n",
              "      <td>0.000000</td>\n",
              "      <td>3.156787</td>\n",
              "      <td>4.0</td>\n",
              "    </tr>\n",
              "    <tr>\n",
              "      <th>470924</th>\n",
              "      <td>3434.520960</td>\n",
              "      <td>3.826347</td>\n",
              "      <td>3.413173</td>\n",
              "      <td>1.000000</td>\n",
              "      <td>11.173653</td>\n",
              "      <td>1.173653</td>\n",
              "      <td>1.760480</td>\n",
              "      <td>0.413173</td>\n",
              "      <td>1.586827</td>\n",
              "      <td>5.173653</td>\n",
              "      <td>4.0</td>\n",
              "    </tr>\n",
              "    <tr>\n",
              "      <th>791624</th>\n",
              "      <td>7221.840484</td>\n",
              "      <td>5.587239</td>\n",
              "      <td>2.206381</td>\n",
              "      <td>2.206381</td>\n",
              "      <td>10.000000</td>\n",
              "      <td>3.000000</td>\n",
              "      <td>0.000000</td>\n",
              "      <td>2.000000</td>\n",
              "      <td>1.000000</td>\n",
              "      <td>5.968097</td>\n",
              "      <td>9.0</td>\n",
              "    </tr>\n",
              "    <tr>\n",
              "      <th>491263</th>\n",
              "      <td>5731.244914</td>\n",
              "      <td>5.489828</td>\n",
              "      <td>2.000000</td>\n",
              "      <td>1.489828</td>\n",
              "      <td>35.000000</td>\n",
              "      <td>1.000000</td>\n",
              "      <td>0.755086</td>\n",
              "      <td>1.755086</td>\n",
              "      <td>1.000000</td>\n",
              "      <td>2.000000</td>\n",
              "      <td>4.0</td>\n",
              "    </tr>\n",
              "  </tbody>\n",
              "</table>\n",
              "</div>"
            ],
            "text/plain": [
              "        Admission_Deposit       Age  ...  Visitors with Patient  Stay\n",
              "128037        6253.000000  2.000000  ...               4.000000   1.0\n",
              "491755        4736.000000  3.313575  ...               3.156787   4.0\n",
              "470924        3434.520960  3.826347  ...               5.173653   4.0\n",
              "791624        7221.840484  5.587239  ...               5.968097   9.0\n",
              "491263        5731.244914  5.489828  ...               2.000000   4.0\n",
              "\n",
              "[5 rows x 11 columns]"
            ]
          },
          "metadata": {
            "tags": []
          },
          "execution_count": 316
        }
      ]
    },
    {
      "cell_type": "code",
      "metadata": {
        "id": "buHpWhLLVdBQ",
        "colab": {
          "base_uri": "https://localhost:8080/",
          "height": 34
        },
        "outputId": "b390083e-af67-48f8-a3f6-8ee198d26607"
      },
      "source": [
        "df_sample.shape"
      ],
      "execution_count": null,
      "outputs": [
        {
          "output_type": "execute_result",
          "data": {
            "text/plain": [
              "(47736, 11)"
            ]
          },
          "metadata": {
            "tags": []
          },
          "execution_count": 317
        }
      ]
    },
    {
      "cell_type": "markdown",
      "metadata": {
        "id": "9gjmnFctNGi9"
      },
      "source": [
        "Checking for imbalance"
      ]
    },
    {
      "cell_type": "code",
      "metadata": {
        "id": "ShIENwA6M2PC",
        "colab": {
          "base_uri": "https://localhost:8080/",
          "height": 296
        },
        "outputId": "6e3a35fe-8bfb-4425-d1a1-5b902d5b44ae"
      },
      "source": [
        "sns.countplot(df_sample['Stay'])"
      ],
      "execution_count": null,
      "outputs": [
        {
          "output_type": "execute_result",
          "data": {
            "text/plain": [
              "<matplotlib.axes._subplots.AxesSubplot at 0x7f4d1a115a90>"
            ]
          },
          "metadata": {
            "tags": []
          },
          "execution_count": 318
        },
        {
          "output_type": "display_data",
          "data": {
            "image/png": "[encoded data removed]",
            "text/plain": [
              "<Figure size 432x288 with 1 Axes>"
            ]
          },
          "metadata": {
            "tags": [],
            "needs_background": "light"
          }
        }
      ]
    },
    {
      "cell_type": "code",
      "metadata": {
        "id": "eXmdcWJecsbF"
      },
      "source": [
        "for i in df_sample.columns:\n",
        "  df_sample[i]=df_sample[i].astype('category')\n",
        "for k in df_num.columns:\n",
        "    df_sample[k]=df_sample[k].astype(df_num[k].dtype)"
      ],
      "execution_count": null,
      "outputs": []
    },
    {
      "cell_type": "code",
      "metadata": {
        "id": "P4qtt3O_ddZL",
        "colab": {
          "base_uri": "https://localhost:8080/",
          "height": 221
        },
        "outputId": "16b02167-f707-492a-8b00-e75def049edf"
      },
      "source": [
        "df_sample.dtypes"
      ],
      "execution_count": null,
      "outputs": [
        {
          "output_type": "execute_result",
          "data": {
            "text/plain": [
              "Admission_Deposit                     float64\n",
              "Age                                  category\n",
              "Available Extra Rooms in Hospital       int64\n",
              "Bed Grade                            category\n",
              "City_Code_Patient                    category\n",
              "Department                           category\n",
              "Hospital_type_code                   category\n",
              "Severity of Illness                  category\n",
              "Type of Admission                    category\n",
              "Visitors with Patient                   int64\n",
              "Stay                                 category\n",
              "dtype: object"
            ]
          },
          "metadata": {
            "tags": []
          },
          "execution_count": 320
        }
      ]
    },
    {
      "cell_type": "markdown",
      "metadata": {
        "id": "hHw8g61XFcup"
      },
      "source": [
        "Modelling Phase"
      ]
    },
    {
      "cell_type": "markdown",
      "metadata": {
        "id": "SnpRw3HtFfyj"
      },
      "source": [
        "Taining sample data "
      ]
    },
    {
      "cell_type": "code",
      "metadata": {
        "id": "vZZ-OABEZAzd"
      },
      "source": [
        "#For this method we need to split the data into the feature and target variables\n",
        "x= df_sample[df_sample.columns.difference(['Stay'])]\n",
        "y= df_sample['Stay']"
      ],
      "execution_count": null,
      "outputs": []
    },
    {
      "cell_type": "code",
      "metadata": {
        "id": "nFdLkaRLSuu_"
      },
      "source": [
        "#Divide into train test splits:\n",
        "from sklearn.model_selection import train_test_split"
      ],
      "execution_count": null,
      "outputs": []
    },
    {
      "cell_type": "code",
      "metadata": {
        "id": "B_F8ldpjF1sP",
        "colab": {
          "base_uri": "https://localhost:8080/",
          "height": 221
        },
        "outputId": "267b650b-71cf-467c-8737-c47d5c2aa5eb"
      },
      "source": [
        "x_train,x_test,y_train,y_test=train_test_split(x,y,test_size=0.3)\n",
        "x_train.head()"
      ],
      "execution_count": null,
      "outputs": [
        {
          "output_type": "execute_result",
          "data": {
            "text/html": [
              "<div>\n",
              "<style scoped>\n",
              "    .dataframe tbody tr th:only-of-type {\n",
              "        vertical-align: middle;\n",
              "    }\n",
              "\n",
              "    .dataframe tbody tr th {\n",
              "        vertical-align: top;\n",
              "    }\n",
              "\n",
              "    .dataframe thead th {\n",
              "        text-align: right;\n",
              "    }\n",
              "</style>\n",
              "<table border=\"1\" class=\"dataframe\">\n",
              "  <thead>\n",
              "    <tr style=\"text-align: right;\">\n",
              "      <th></th>\n",
              "      <th>Admission_Deposit</th>\n",
              "      <th>Age</th>\n",
              "      <th>Available Extra Rooms in Hospital</th>\n",
              "      <th>Bed Grade</th>\n",
              "      <th>City_Code_Patient</th>\n",
              "      <th>Department</th>\n",
              "      <th>Hospital_type_code</th>\n",
              "      <th>Severity of Illness</th>\n",
              "      <th>Type of Admission</th>\n",
              "      <th>Visitors with Patient</th>\n",
              "    </tr>\n",
              "  </thead>\n",
              "  <tbody>\n",
              "    <tr>\n",
              "      <th>430978</th>\n",
              "      <td>5189.347452</td>\n",
              "      <td>1.652548</td>\n",
              "      <td>2</td>\n",
              "      <td>2.000000</td>\n",
              "      <td>4.305095</td>\n",
              "      <td>1.652548</td>\n",
              "      <td>1.652548</td>\n",
              "      <td>1.000000</td>\n",
              "      <td>1.347452</td>\n",
              "      <td>2</td>\n",
              "    </tr>\n",
              "    <tr>\n",
              "      <th>927217</th>\n",
              "      <td>3768.229762</td>\n",
              "      <td>5.708095</td>\n",
              "      <td>3</td>\n",
              "      <td>0.708095</td>\n",
              "      <td>0.354048</td>\n",
              "      <td>1.645952</td>\n",
              "      <td>0.354048</td>\n",
              "      <td>0.708095</td>\n",
              "      <td>0.645952</td>\n",
              "      <td>6</td>\n",
              "    </tr>\n",
              "    <tr>\n",
              "      <th>204913</th>\n",
              "      <td>4344.000000</td>\n",
              "      <td>6.000000</td>\n",
              "      <td>2</td>\n",
              "      <td>1.000000</td>\n",
              "      <td>32.000000</td>\n",
              "      <td>2.000000</td>\n",
              "      <td>1.000000</td>\n",
              "      <td>2.000000</td>\n",
              "      <td>1.000000</td>\n",
              "      <td>2</td>\n",
              "    </tr>\n",
              "    <tr>\n",
              "      <th>752830</th>\n",
              "      <td>5526.673240</td>\n",
              "      <td>6.756978</td>\n",
              "      <td>3</td>\n",
              "      <td>2.756978</td>\n",
              "      <td>7.569782</td>\n",
              "      <td>1.756978</td>\n",
              "      <td>0.000000</td>\n",
              "      <td>2.000000</td>\n",
              "      <td>1.000000</td>\n",
              "      <td>6</td>\n",
              "    </tr>\n",
              "    <tr>\n",
              "      <th>343860</th>\n",
              "      <td>4393.000000</td>\n",
              "      <td>3.713715</td>\n",
              "      <td>3</td>\n",
              "      <td>1.572570</td>\n",
              "      <td>10.713715</td>\n",
              "      <td>2.000000</td>\n",
              "      <td>1.713715</td>\n",
              "      <td>1.713715</td>\n",
              "      <td>1.000000</td>\n",
              "      <td>2</td>\n",
              "    </tr>\n",
              "  </tbody>\n",
              "</table>\n",
              "</div>"
            ],
            "text/plain": [
              "        Admission_Deposit       Age  ...  Type of Admission Visitors with Patient\n",
              "430978        5189.347452  1.652548  ...           1.347452                     2\n",
              "927217        3768.229762  5.708095  ...           0.645952                     6\n",
              "204913        4344.000000  6.000000  ...           1.000000                     2\n",
              "752830        5526.673240  6.756978  ...           1.000000                     6\n",
              "343860        4393.000000  3.713715  ...           1.000000                     2\n",
              "\n",
              "[5 rows x 10 columns]"
            ]
          },
          "metadata": {
            "tags": []
          },
          "execution_count": 325
        }
      ]
    },
    {
      "cell_type": "code",
      "metadata": {
        "id": "keOhZAeUGAAr",
        "colab": {
          "base_uri": "https://localhost:8080/",
          "height": 136
        },
        "outputId": "3b4097b1-d4b3-4257-9ff4-86c361c5cb04"
      },
      "source": [
        "y_train.head()"
      ],
      "execution_count": null,
      "outputs": [
        {
          "output_type": "execute_result",
          "data": {
            "text/plain": [
              "430978     4.0\n",
              "927217    10.0\n",
              "204913     3.0\n",
              "752830     8.0\n",
              "343860     0.0\n",
              "Name: Stay, dtype: category\n",
              "Categories (11, float64): [0.0, 1.0, 2.0, 3.0, ..., 7.0, 8.0, 9.0, 10.0]"
            ]
          },
          "metadata": {
            "tags": []
          },
          "execution_count": 326
        }
      ]
    },
    {
      "cell_type": "markdown",
      "metadata": {
        "id": "3BpcnfcyGLEO"
      },
      "source": [
        "ADA boost"
      ]
    },
    {
      "cell_type": "code",
      "metadata": {
        "id": "GQO7K0FJbU6m"
      },
      "source": [
        "# LOAD classifier from ENSEMBLE family\n",
        "from sklearn.ensemble import AdaBoostClassifier"
      ],
      "execution_count": null,
      "outputs": []
    },
    {
      "cell_type": "code",
      "metadata": {
        "id": "pWqNToLuZior"
      },
      "source": [
        "#Initialize Classifier and fit to x_train and y_train (Execute Step)\n",
        "ada_boost = AdaBoostClassifier(n_estimators=500,learning_rate=.5,random_state=10).fit(x_train,y_train)"
      ],
      "execution_count": null,
      "outputs": []
    },
    {
      "cell_type": "code",
      "metadata": {
        "id": "DX996s6eZncG"
      },
      "source": [
        "#Make predictions on x_test\n",
        "pred1=ada_boost.predict(x_test)"
      ],
      "execution_count": null,
      "outputs": []
    },
    {
      "cell_type": "code",
      "metadata": {
        "id": "3H_lH1huZqMO",
        "colab": {
          "base_uri": "https://localhost:8080/",
          "height": 34
        },
        "outputId": "f2195e9f-ae2e-47bf-a74a-0ce56ce8b3bb"
      },
      "source": [
        "pred1"
      ],
      "execution_count": null,
      "outputs": [
        {
          "output_type": "execute_result",
          "data": {
            "text/plain": [
              "array([ 3., 10.,  9., ...,  2., 10.,  6.])"
            ]
          },
          "metadata": {
            "tags": []
          },
          "execution_count": 377
        }
      ]
    },
    {
      "cell_type": "code",
      "metadata": {
        "id": "rPfVi8TGZ1DA"
      },
      "source": [
        "from sklearn.metrics import classification_report"
      ],
      "execution_count": null,
      "outputs": []
    },
    {
      "cell_type": "code",
      "metadata": {
        "id": "F-tG1o5ZZ3-v",
        "colab": {
          "base_uri": "https://localhost:8080/",
          "height": 323
        },
        "outputId": "613afa3c-d8e8-4925-9ca3-902b3f247d16"
      },
      "source": [
        "#Confusion matrix\n",
        "pd.crosstab(pred1,y_test)\n",
        "#Get performance metrics\n",
        "print(classification_report(pred1,y_test))"
      ],
      "execution_count": null,
      "outputs": [
        {
          "output_type": "stream",
          "text": [
            "              precision    recall  f1-score   support\n",
            "\n",
            "         0.0       0.49      0.36      0.42      1809\n",
            "         1.0       0.42      0.35      0.38      1556\n",
            "         2.0       0.27      0.44      0.34       819\n",
            "         3.0       0.19      0.20      0.20      1261\n",
            "         4.0       0.21      0.29      0.24       889\n",
            "         5.0       0.23      0.30      0.26       999\n",
            "         6.0       0.36      0.27      0.31      1722\n",
            "         7.0       0.13      0.25      0.17       724\n",
            "         8.0       0.39      0.32      0.35      1539\n",
            "         9.0       0.32      0.26      0.29      1599\n",
            "        10.0       0.42      0.38      0.40      1404\n",
            "\n",
            "    accuracy                           0.31     14321\n",
            "   macro avg       0.31      0.31      0.30     14321\n",
            "weighted avg       0.34      0.31      0.32     14321\n",
            "\n"
          ],
          "name": "stdout"
        }
      ]
    },
    {
      "cell_type": "code",
      "metadata": {
        "id": "wYV9eQJVx-HA"
      },
      "source": [
        ""
      ],
      "execution_count": null,
      "outputs": []
    },
    {
      "cell_type": "markdown",
      "metadata": {
        "id": "keFw4iTu2jAl"
      },
      "source": [
        "Gradient Boosting"
      ]
    },
    {
      "cell_type": "code",
      "metadata": {
        "id": "0MwdbQuH4MaK",
        "colab": {
          "base_uri": "https://localhost:8080/",
          "height": 578
        },
        "outputId": "64d8a629-eded-4613-dd97-d8b45850410e"
      },
      "source": [
        "\n",
        "from sklearn.ensemble import GradientBoostingClassifier\n",
        "\n",
        "gb_clf=GradientBoostingClassifier(max_depth=10, n_estimators=50,verbose=1).fit(x_train,y_train)\n",
        "pred2=gb_clf.predict(x_test)\n",
        "\n",
        "#Confusion matrix\n",
        "pd.crosstab(pred2,y_test)\n",
        "#Get performance metrics\n",
        "print(classification_report(pred2,y_test))\n"
      ],
      "execution_count": null,
      "outputs": [
        {
          "output_type": "stream",
          "text": [
            "      Iter       Train Loss   Remaining Time \n",
            "         1       71564.9732            2.01m\n",
            "         2       65980.1040            2.04m\n",
            "         3       61468.8263            2.03m\n",
            "         4       57744.1024            2.01m\n",
            "         5       54527.0777            1.98m\n",
            "         6       51729.6511            1.95m\n",
            "         7       49289.4845            1.91m\n",
            "         8       47072.4676            1.87m\n",
            "         9       45095.6127            1.83m\n",
            "        10       43283.2735            1.78m\n",
            "        20       31165.6650            1.34m\n",
            "        30       24463.0290           53.55s\n",
            "        40       20525.5432           26.70s\n",
            "        50       17477.7017            0.00s\n",
            "              precision    recall  f1-score   support\n",
            "\n",
            "         0.0       0.47      0.44      0.46      1427\n",
            "         1.0       0.37      0.35      0.36      1380\n",
            "         2.0       0.52      0.40      0.45      1718\n",
            "         3.0       0.17      0.26      0.20       839\n",
            "         4.0       0.39      0.36      0.38      1329\n",
            "         5.0       0.26      0.31      0.28      1102\n",
            "         6.0       0.40      0.43      0.41      1211\n",
            "         7.0       0.34      0.33      0.33      1364\n",
            "         8.0       0.54      0.45      0.49      1503\n",
            "         9.0       0.40      0.43      0.42      1228\n",
            "        10.0       0.47      0.49      0.48      1220\n",
            "\n",
            "    accuracy                           0.39     14321\n",
            "   macro avg       0.39      0.39      0.39     14321\n",
            "weighted avg       0.41      0.39      0.40     14321\n",
            "\n"
          ],
          "name": "stdout"
        }
      ]
    },
    {
      "cell_type": "markdown",
      "metadata": {
        "id": "sEIwr0YLxjXB"
      },
      "source": [
        "RANDOM FOREST\n"
      ]
    },
    {
      "cell_type": "code",
      "metadata": {
        "id": "ybOJ5G6d_1AW"
      },
      "source": [
        "from sklearn.ensemble import RandomForestClassifier"
      ],
      "execution_count": null,
      "outputs": []
    },
    {
      "cell_type": "code",
      "metadata": {
        "id": "InuaLT6vABpr"
      },
      "source": [
        "#initialize\n",
        "rf_clf=RandomForestClassifier(n_estimators=500,max_depth=18,max_features='sqrt')"
      ],
      "execution_count": null,
      "outputs": []
    },
    {
      "cell_type": "code",
      "metadata": {
        "id": "COA15BRcArwB",
        "colab": {
          "base_uri": "https://localhost:8080/",
          "height": 153
        },
        "outputId": "35fd2575-fb03-4d63-f99c-f2f079db624e"
      },
      "source": [
        "rf_clf.fit(x_train,y_train)"
      ],
      "execution_count": null,
      "outputs": [
        {
          "output_type": "execute_result",
          "data": {
            "text/plain": [
              "RandomForestClassifier(bootstrap=True, ccp_alpha=0.0, class_weight=None,\n",
              "                       criterion='gini', max_depth=18, max_features='sqrt',\n",
              "                       max_leaf_nodes=None, max_samples=None,\n",
              "                       min_impurity_decrease=0.0, min_impurity_split=None,\n",
              "                       min_samples_leaf=1, min_samples_split=2,\n",
              "                       min_weight_fraction_leaf=0.0, n_estimators=500,\n",
              "                       n_jobs=None, oob_score=False, random_state=None,\n",
              "                       verbose=0, warm_start=False)"
            ]
          },
          "metadata": {
            "tags": []
          },
          "execution_count": 354
        }
      ]
    },
    {
      "cell_type": "code",
      "metadata": {
        "id": "rZOpMwoKKmKU"
      },
      "source": [
        "pred2= rf_clf.predict(x_test)"
      ],
      "execution_count": null,
      "outputs": []
    },
    {
      "cell_type": "code",
      "metadata": {
        "id": "hPuVn1PbA1Uc",
        "colab": {
          "base_uri": "https://localhost:8080/",
          "height": 34
        },
        "outputId": "cd280532-e172-4b93-935f-1386b5a0c64e"
      },
      "source": [
        "pred2"
      ],
      "execution_count": null,
      "outputs": [
        {
          "output_type": "execute_result",
          "data": {
            "text/plain": [
              "array([7., 8., 6., ..., 1., 8., 6.])"
            ]
          },
          "metadata": {
            "tags": []
          },
          "execution_count": 356
        }
      ]
    },
    {
      "cell_type": "code",
      "metadata": {
        "id": "pHWFkHUgS9YL"
      },
      "source": [
        "from sklearn.metrics import classification_report"
      ],
      "execution_count": null,
      "outputs": []
    },
    {
      "cell_type": "code",
      "metadata": {
        "id": "X5LzFCUmTBNu",
        "colab": {
          "base_uri": "https://localhost:8080/",
          "height": 421
        },
        "outputId": "2f69e60b-8d4f-47a7-8afe-8bff08ec8073"
      },
      "source": [
        "#Confusion matrix\n",
        "pd.crosstab(y_test,pred2)"
      ],
      "execution_count": null,
      "outputs": [
        {
          "output_type": "execute_result",
          "data": {
            "text/html": [
              "<div>\n",
              "<style scoped>\n",
              "    .dataframe tbody tr th:only-of-type {\n",
              "        vertical-align: middle;\n",
              "    }\n",
              "\n",
              "    .dataframe tbody tr th {\n",
              "        vertical-align: top;\n",
              "    }\n",
              "\n",
              "    .dataframe thead th {\n",
              "        text-align: right;\n",
              "    }\n",
              "</style>\n",
              "<table border=\"1\" class=\"dataframe\">\n",
              "  <thead>\n",
              "    <tr style=\"text-align: right;\">\n",
              "      <th>col_0</th>\n",
              "      <th>0.0</th>\n",
              "      <th>1.0</th>\n",
              "      <th>2.0</th>\n",
              "      <th>3.0</th>\n",
              "      <th>4.0</th>\n",
              "      <th>5.0</th>\n",
              "      <th>6.0</th>\n",
              "      <th>7.0</th>\n",
              "      <th>8.0</th>\n",
              "      <th>9.0</th>\n",
              "      <th>10.0</th>\n",
              "    </tr>\n",
              "    <tr>\n",
              "      <th>Stay</th>\n",
              "      <th></th>\n",
              "      <th></th>\n",
              "      <th></th>\n",
              "      <th></th>\n",
              "      <th></th>\n",
              "      <th></th>\n",
              "      <th></th>\n",
              "      <th></th>\n",
              "      <th></th>\n",
              "      <th></th>\n",
              "      <th></th>\n",
              "    </tr>\n",
              "  </thead>\n",
              "  <tbody>\n",
              "    <tr>\n",
              "      <th>0.0</th>\n",
              "      <td>657</td>\n",
              "      <td>180</td>\n",
              "      <td>160</td>\n",
              "      <td>38</td>\n",
              "      <td>165</td>\n",
              "      <td>13</td>\n",
              "      <td>98</td>\n",
              "      <td>9</td>\n",
              "      <td>1</td>\n",
              "      <td>5</td>\n",
              "      <td>2</td>\n",
              "    </tr>\n",
              "    <tr>\n",
              "      <th>1.0</th>\n",
              "      <td>128</td>\n",
              "      <td>515</td>\n",
              "      <td>405</td>\n",
              "      <td>87</td>\n",
              "      <td>50</td>\n",
              "      <td>62</td>\n",
              "      <td>13</td>\n",
              "      <td>17</td>\n",
              "      <td>12</td>\n",
              "      <td>5</td>\n",
              "      <td>4</td>\n",
              "    </tr>\n",
              "    <tr>\n",
              "      <th>2.0</th>\n",
              "      <td>55</td>\n",
              "      <td>378</td>\n",
              "      <td>721</td>\n",
              "      <td>96</td>\n",
              "      <td>15</td>\n",
              "      <td>34</td>\n",
              "      <td>3</td>\n",
              "      <td>7</td>\n",
              "      <td>7</td>\n",
              "      <td>2</td>\n",
              "      <td>4</td>\n",
              "    </tr>\n",
              "    <tr>\n",
              "      <th>3.0</th>\n",
              "      <td>120</td>\n",
              "      <td>158</td>\n",
              "      <td>268</td>\n",
              "      <td>203</td>\n",
              "      <td>138</td>\n",
              "      <td>160</td>\n",
              "      <td>71</td>\n",
              "      <td>74</td>\n",
              "      <td>55</td>\n",
              "      <td>47</td>\n",
              "      <td>28</td>\n",
              "    </tr>\n",
              "    <tr>\n",
              "      <th>4.0</th>\n",
              "      <td>212</td>\n",
              "      <td>61</td>\n",
              "      <td>102</td>\n",
              "      <td>38</td>\n",
              "      <td>481</td>\n",
              "      <td>34</td>\n",
              "      <td>193</td>\n",
              "      <td>54</td>\n",
              "      <td>19</td>\n",
              "      <td>48</td>\n",
              "      <td>13</td>\n",
              "    </tr>\n",
              "    <tr>\n",
              "      <th>5.0</th>\n",
              "      <td>64</td>\n",
              "      <td>67</td>\n",
              "      <td>87</td>\n",
              "      <td>112</td>\n",
              "      <td>73</td>\n",
              "      <td>322</td>\n",
              "      <td>54</td>\n",
              "      <td>190</td>\n",
              "      <td>165</td>\n",
              "      <td>117</td>\n",
              "      <td>68</td>\n",
              "    </tr>\n",
              "    <tr>\n",
              "      <th>6.0</th>\n",
              "      <td>119</td>\n",
              "      <td>15</td>\n",
              "      <td>50</td>\n",
              "      <td>23</td>\n",
              "      <td>248</td>\n",
              "      <td>24</td>\n",
              "      <td>552</td>\n",
              "      <td>83</td>\n",
              "      <td>63</td>\n",
              "      <td>89</td>\n",
              "      <td>34</td>\n",
              "    </tr>\n",
              "    <tr>\n",
              "      <th>7.0</th>\n",
              "      <td>60</td>\n",
              "      <td>17</td>\n",
              "      <td>26</td>\n",
              "      <td>37</td>\n",
              "      <td>68</td>\n",
              "      <td>150</td>\n",
              "      <td>66</td>\n",
              "      <td>426</td>\n",
              "      <td>175</td>\n",
              "      <td>221</td>\n",
              "      <td>92</td>\n",
              "    </tr>\n",
              "    <tr>\n",
              "      <th>8.0</th>\n",
              "      <td>24</td>\n",
              "      <td>6</td>\n",
              "      <td>5</td>\n",
              "      <td>24</td>\n",
              "      <td>23</td>\n",
              "      <td>55</td>\n",
              "      <td>40</td>\n",
              "      <td>81</td>\n",
              "      <td>768</td>\n",
              "      <td>63</td>\n",
              "      <td>167</td>\n",
              "    </tr>\n",
              "    <tr>\n",
              "      <th>9.0</th>\n",
              "      <td>41</td>\n",
              "      <td>7</td>\n",
              "      <td>8</td>\n",
              "      <td>24</td>\n",
              "      <td>63</td>\n",
              "      <td>67</td>\n",
              "      <td>77</td>\n",
              "      <td>211</td>\n",
              "      <td>178</td>\n",
              "      <td>544</td>\n",
              "      <td>99</td>\n",
              "    </tr>\n",
              "    <tr>\n",
              "      <th>10.0</th>\n",
              "      <td>30</td>\n",
              "      <td>3</td>\n",
              "      <td>5</td>\n",
              "      <td>12</td>\n",
              "      <td>24</td>\n",
              "      <td>46</td>\n",
              "      <td>38</td>\n",
              "      <td>87</td>\n",
              "      <td>318</td>\n",
              "      <td>83</td>\n",
              "      <td>618</td>\n",
              "    </tr>\n",
              "  </tbody>\n",
              "</table>\n",
              "</div>"
            ],
            "text/plain": [
              "col_0  0.0   1.0   2.0   3.0   4.0   5.0   6.0   7.0   8.0   9.0   10.0\n",
              "Stay                                                                   \n",
              "0.0     657   180   160    38   165    13    98     9     1     5     2\n",
              "1.0     128   515   405    87    50    62    13    17    12     5     4\n",
              "2.0      55   378   721    96    15    34     3     7     7     2     4\n",
              "3.0     120   158   268   203   138   160    71    74    55    47    28\n",
              "4.0     212    61   102    38   481    34   193    54    19    48    13\n",
              "5.0      64    67    87   112    73   322    54   190   165   117    68\n",
              "6.0     119    15    50    23   248    24   552    83    63    89    34\n",
              "7.0      60    17    26    37    68   150    66   426   175   221    92\n",
              "8.0      24     6     5    24    23    55    40    81   768    63   167\n",
              "9.0      41     7     8    24    63    67    77   211   178   544    99\n",
              "10.0     30     3     5    12    24    46    38    87   318    83   618"
            ]
          },
          "metadata": {
            "tags": []
          },
          "execution_count": 358
        }
      ]
    },
    {
      "cell_type": "code",
      "metadata": {
        "id": "9Ox_8VhdTDrI",
        "colab": {
          "base_uri": "https://localhost:8080/",
          "height": 323
        },
        "outputId": "9ced5901-6787-4845-a46d-bf1b6abca906"
      },
      "source": [
        "#Get performance metrics\n",
        "print(classification_report(pred2,y_test))"
      ],
      "execution_count": null,
      "outputs": [
        {
          "output_type": "stream",
          "text": [
            "              precision    recall  f1-score   support\n",
            "\n",
            "         0.0       0.49      0.44      0.46      1510\n",
            "         1.0       0.40      0.37      0.38      1407\n",
            "         2.0       0.55      0.39      0.46      1837\n",
            "         3.0       0.15      0.29      0.20       694\n",
            "         4.0       0.38      0.36      0.37      1348\n",
            "         5.0       0.24      0.33      0.28       967\n",
            "         6.0       0.42      0.46      0.44      1205\n",
            "         7.0       0.32      0.34      0.33      1239\n",
            "         8.0       0.61      0.44      0.51      1761\n",
            "         9.0       0.41      0.44      0.43      1224\n",
            "        10.0       0.49      0.55      0.52      1129\n",
            "\n",
            "    accuracy                           0.41     14321\n",
            "   macro avg       0.41      0.40      0.40     14321\n",
            "weighted avg       0.43      0.41      0.41     14321\n",
            "\n"
          ],
          "name": "stdout"
        }
      ]
    },
    {
      "cell_type": "code",
      "metadata": {
        "id": "IFa8aSLGXYs4",
        "colab": {
          "base_uri": "https://localhost:8080/",
          "height": 204
        },
        "outputId": "019c84d7-6e96-474f-9572-22cf6cc857ea"
      },
      "source": [
        "from sklearn.metrics import confusion_matrix\n",
        "confusion_matrix=confusion_matrix(y_test,pred2)\n",
        "print(confusion_matrix)"
      ],
      "execution_count": null,
      "outputs": [
        {
          "output_type": "stream",
          "text": [
            "[[657 180 160  38 165  13  98   9   1   5   2]\n",
            " [128 515 405  87  50  62  13  17  12   5   4]\n",
            " [ 55 378 721  96  15  34   3   7   7   2   4]\n",
            " [120 158 268 203 138 160  71  74  55  47  28]\n",
            " [212  61 102  38 481  34 193  54  19  48  13]\n",
            " [ 64  67  87 112  73 322  54 190 165 117  68]\n",
            " [119  15  50  23 248  24 552  83  63  89  34]\n",
            " [ 60  17  26  37  68 150  66 426 175 221  92]\n",
            " [ 24   6   5  24  23  55  40  81 768  63 167]\n",
            " [ 41   7   8  24  63  67  77 211 178 544  99]\n",
            " [ 30   3   5  12  24  46  38  87 318  83 618]]\n"
          ],
          "name": "stdout"
        }
      ]
    },
    {
      "cell_type": "code",
      "metadata": {
        "id": "vVUIhJP_Uuz-",
        "colab": {
          "base_uri": "https://localhost:8080/",
          "height": 51
        },
        "outputId": "b8ff2c25-87da-4220-e9e3-9b9a0ba36140"
      },
      "source": [
        "rf_clf.feature_importances_"
      ],
      "execution_count": null,
      "outputs": [
        {
          "output_type": "execute_result",
          "data": {
            "text/plain": [
              "array([0.16516864, 0.12429856, 0.0545312 , 0.10215886, 0.10857877,\n",
              "       0.06218183, 0.09941597, 0.08060664, 0.08841394, 0.11464558])"
            ]
          },
          "metadata": {
            "tags": []
          },
          "execution_count": 380
        }
      ]
    },
    {
      "cell_type": "markdown",
      "metadata": {
        "id": "FzdYbsDlLY3a"
      },
      "source": [
        ""
      ]
    }
  ]
}